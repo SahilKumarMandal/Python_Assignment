{
 "cells": [
  {
   "cell_type": "markdown",
   "metadata": {},
   "source": [
    "**Q1.** Give an array, check if it contains any duplicates or not.\n",
    "\n",
    "arr = [1, 2, 4, 2, 5, 9]\n",
    "\n",
    "output = True"
   ]
  },
  {
   "cell_type": "markdown",
   "metadata": {},
   "source": [
    "**Solution 1:**"
   ]
  },
  {
   "cell_type": "code",
   "execution_count": 38,
   "metadata": {},
   "outputs": [
    {
     "name": "stdout",
     "output_type": "stream",
     "text": [
      "True\n"
     ]
    }
   ],
   "source": [
    "def sortArray(arr):\n",
    "    \"\"\"\n",
    "    Sort array in ascending order.\n",
    "    \n",
    "    Args:\n",
    "    - arr (list): Unsorted array to be sorted.\n",
    "\n",
    "    Return\n",
    "    - arr (list): Unsorted array in sorted form.\n",
    "\n",
    "    Time complexity: O(n^2), where 'n' is the length of the given unsorted array.\n",
    "\n",
    "    Space complexity: O(1), constant space\n",
    "    \"\"\"\n",
    "    # Algorithm for sorting array\n",
    "    for i in range(len(arr)):\n",
    "        min_idx = i\n",
    "        for j in range(i+1, len(arr)):\n",
    "            if arr[min_idx] > arr[j]:\n",
    "                min_idx = j\n",
    "        arr[i], arr[min_idx] = arr[min_idx], arr[i]\n",
    "\n",
    "def has_duplicate(arr):\n",
    "    \"\"\"\n",
    "    Check duplicates.\n",
    "\n",
    "    Args:\n",
    "    - arr (list): array with possible duplicates elements.\n",
    "\n",
    "    Return:\n",
    "    - bool: True, if it contains duplciates. Oterwise, false\n",
    "\n",
    "    Time complexity: O(n^2), where 'n' is the array's size.\n",
    "\n",
    "    Space complexity: O(1), constant space.\n",
    "    \"\"\"\n",
    "    # Algorithm for checking duplicates elements.\n",
    "\n",
    "    # Sort the array by call the 'sortArray()' function.\n",
    "    sortArray(arr)\n",
    "\n",
    "    # Iterates over the array and check for duplicates.\n",
    "    for i in range(1, len(arr)):\n",
    "        if arr[i] == arr[i-1]:\n",
    "            # Return True, if it contains duplicates.\n",
    "            return True\n",
    "    # Return False, if it doesn't contains duplicates\n",
    "    return False\n",
    "\n",
    "# Driver code\n",
    "arr = [1, 2, 4, 2, 5, 9]\n",
    "result = has_duplicate(arr)\n",
    "print(result)"
   ]
  },
  {
   "cell_type": "markdown",
   "metadata": {},
   "source": [
    "**Q2.** Given an array and an integer k, rotate the array to the right by k steps.\n",
    "\n",
    "arr = [1, 2, 3, 4, 5, 6, 7] k = 3\n",
    "\n",
    "output = [5, 6, 7, 1, 2, 3, 4]"
   ]
  },
  {
   "cell_type": "markdown",
   "metadata": {},
   "source": [
    "**Solution 2.**"
   ]
  },
  {
   "cell_type": "code",
   "execution_count": 13,
   "metadata": {},
   "outputs": [
    {
     "name": "stdout",
     "output_type": "stream",
     "text": [
      "[3, 4, 5, 1, 2]\n"
     ]
    }
   ],
   "source": [
    "def reverseArr(arr, left=0, right=None):\n",
    "    \"\"\"\n",
    "    Reverse the given array in place.\n",
    "\n",
    "    Args:\n",
    "        arr (list): The array to be reversed\n",
    "        left (int): The starting index of the reverse opertations, Default is 0.\n",
    "        right (int): The starting index of the reverse opertations, Default is last index of the array.\n",
    "\n",
    "    Return:\n",
    "        The function reverse the elements of the array in the specified range [left, right].\n",
    "        If 'left' and 'right' are not provided, the entire array is reversed.\n",
    "\n",
    "    Time complexity: O(n)\n",
    "        The algorithm iterate over the array at most 'n/2' times, where 'n' is the array's length.\n",
    "    \n",
    "    Space complexity: O(1)\n",
    "        The algorithm only uses constant additional space for pointers and variables.\n",
    "    \"\"\"\n",
    "    # Algorithm for reverse the array\n",
    "    if right is None:\n",
    "        right = len(arr) - 1\n",
    "\n",
    "    while left < right:\n",
    "        arr[left], arr[right] = arr[right], arr[left]\n",
    "        left += 1\n",
    "        right -= 1\n",
    "\n",
    "def rotate_k_steps(arr: list, k: int) -> list:\n",
    "    \"\"\"\n",
    "    Rotate the given array right to left in place.\n",
    "\n",
    "    Args:\n",
    "    - arr (list): The array to be rotate by given steps.\n",
    "    - k (int): steps to rotate.\n",
    "\n",
    "    Return:\n",
    "    - arr (list): Rotated array of 'k' steps.\n",
    "\n",
    "    Time complexity: O(n), the algorithm iterate over the array at most 'n/2' times, where 'n' is the array's length.\n",
    "    Space complexity: O(1), the algorithm only uses constant additional space for pointers and variables.\n",
    "    \"\"\"\n",
    "    k = k % len(arr)                  # Ensuring k <= given array length\n",
    "    reverseArr(arr)                   # Reverse the entire array\n",
    "    reverseArr(arr, 0, k-1)           # Reverse the updated array from 0th to (k-1)th index.\n",
    "    reverseArr(arr, k, len(arr)-1)    # Reverse the updated array from kth to (len(arr)-1)th index\n",
    "    return arr                        # Return the rotated array\n",
    "\n",
    "# Driver code\n",
    "arr = [1, 2, 3, 4, 5]                 # Given array\n",
    "k = 3                                 # Steps to rotate\n",
    "rotate_k_steps(arr, k)                # Call 'rotate_arr()' function for rotate given array by 'k' steps\n",
    "print(arr)                            # Print result"
   ]
  },
  {
   "cell_type": "markdown",
   "metadata": {},
   "source": [
    "**Q3.** Reverse the given array in-place, means without using any extra data structure.\n",
    "\n",
    "arr = [2, 4, 5, 7, 9, 12]\n",
    "\n",
    "output = [12, 9, 7, 5, 4, 2]"
   ]
  },
  {
   "cell_type": "markdown",
   "metadata": {},
   "source": [
    "**Solution 3.**"
   ]
  },
  {
   "cell_type": "code",
   "execution_count": 15,
   "metadata": {},
   "outputs": [
    {
     "data": {
      "text/plain": [
       "[1, 2, 3, 4, 5]"
      ]
     },
     "execution_count": 15,
     "metadata": {},
     "output_type": "execute_result"
    }
   ],
   "source": [
    "def reverseArr(arr, left=0, right=None):\n",
    "    \"\"\"\n",
    "    Reverse the given array in place.\n",
    "\n",
    "    Args:\n",
    "        arr (list): The array to be reversed\n",
    "        left (int): The starting index of the reverse opertations, Default is 0.\n",
    "        right (int): The starting index of the reverse opertations, Default is last index of the array.\n",
    "\n",
    "    Return:\n",
    "        The function reverse the elements of the array in the specified range [left, right].\n",
    "        If 'left' and 'right' are not provided, the entire array is reversed.\n",
    "\n",
    "    Time complexity: O(n)\n",
    "        The algorithm iterate over the array at most 'n/2' times, where 'n' is the array's length.\n",
    "    \n",
    "    Space complexity: O(1)\n",
    "        The algorithm only uses constant additional space for pointers and variables.\n",
    "    \"\"\"\n",
    "    # Algorithm for reverse the array in place\n",
    "    if right is None:\n",
    "        right = len(arr) - 1\n",
    "\n",
    "    while left < right:\n",
    "        arr[left], arr[right] = arr[right], arr[left]\n",
    "        left += 1\n",
    "        right -= 1\n",
    "\n",
    "    return arr\n",
    "\n",
    "# Driver code\n",
    "arr = [5, 4, 3, 2, 1]\n",
    "reverseArr(arr)"
   ]
  },
  {
   "cell_type": "markdown",
   "metadata": {},
   "source": [
    "**Q4.** Given an array of itegers, find the maximum element in an array\n",
    "\n",
    "arr = [10, 5, 20, 8, 15]\n",
    "\n",
    "output = 20"
   ]
  },
  {
   "cell_type": "markdown",
   "metadata": {},
   "source": [
    "**Solution 4.**"
   ]
  },
  {
   "cell_type": "code",
   "execution_count": 21,
   "metadata": {},
   "outputs": [
    {
     "name": "stdout",
     "output_type": "stream",
     "text": [
      "Maximum element of the given array: 20\n"
     ]
    }
   ],
   "source": [
    "def find_max(arr):\n",
    "    \"\"\"\n",
    "    Find and return the greatest number from the given array.\n",
    "\n",
    "    Args:\n",
    "        arr (list): Given array\n",
    "    \n",
    "    Return:\n",
    "        int: greatest element of the given array.\n",
    "    \n",
    "    Time complexity: O(n)\n",
    "        The algorithm iterate over the array at most 'n-1' times, where 'n' is the array's length\n",
    "    \n",
    "    Space complexity: O(1)\n",
    "        The algorithm only uses constant additional space for variable.\n",
    "    \"\"\"\n",
    "    # Algorithm for find the greatest element of the given array.\n",
    "    max_val = arr[0]\n",
    "    for i in range(1, len(arr)):\n",
    "        if max_val < arr[i]:\n",
    "            max_val = arr[i]\n",
    "    return max_val\n",
    "\n",
    "# Driver code\n",
    "arr = [10, 5, 20, 8, 15]    # given array\n",
    "maximum_val = find_max(arr) \n",
    "print(f\"Maximum element of the given array: {maximum_val}\")"
   ]
  },
  {
   "cell_type": "markdown",
   "metadata": {},
   "source": [
    "**Q5.** Given a sorted array, remove the duplicate element without using any extra data structure.\n",
    "\n",
    "arr = [1, 1, 2, 2, 2, 3, 3, 4, 4, 4, 5, 5]\n",
    "\n",
    "output = [1, 2, 3, 4, 5]"
   ]
  },
  {
   "cell_type": "markdown",
   "metadata": {},
   "source": [
    "**Solution 5:**"
   ]
  },
  {
   "cell_type": "code",
   "execution_count": 29,
   "metadata": {},
   "outputs": [
    {
     "name": "stdout",
     "output_type": "stream",
     "text": [
      "[1, 2, 3, 4, 5]\n"
     ]
    }
   ],
   "source": [
    "def removeDuplicates(arr):\n",
    "    \"\"\"\n",
    "    Remove duplicates from a sorted list in-place.\n",
    "\n",
    "    Args:\n",
    "    - arr (list): A sorted with possible duplicates elements.\n",
    "\n",
    "    Return:\n",
    "    - list: The input list with duplicates removed.\n",
    "\n",
    "    Time complexity: O(n), where 'n' is given array's length.\n",
    "    - This algorithm iterates at most n times over the given array.ipynb\n",
    "\n",
    "    Space complexity: O(1)\n",
    "    - This algorithm uses constant additional space, which is variables. \n",
    "    \"\"\"\n",
    "    # Algortihm for removing duplicates elements in place in an array\n",
    "    if len(arr) <= 1:\n",
    "        return arr  # no duplicates from a sorted list in place\n",
    "    j = 0\n",
    "    for i in range(1, len(arr)):\n",
    "        if arr[i] != arr[j]:\n",
    "            j += 1\n",
    "            arr[j] = arr[i]\n",
    "    arr = arr[:j+1]\n",
    "    return arr\n",
    "\n",
    "# Driver code\n",
    "arr = [1, 1, 2, 2, 3, 3, 3, 4, 4, 4, 5, 5]  # given array\n",
    "result = removeDuplicates(arr)\n",
    "print(result)"
   ]
  }
 ],
 "metadata": {
  "kernelspec": {
   "display_name": "Python 3",
   "language": "python",
   "name": "python3"
  },
  "language_info": {
   "codemirror_mode": {
    "name": "ipython",
    "version": 3
   },
   "file_extension": ".py",
   "mimetype": "text/x-python",
   "name": "python",
   "nbconvert_exporter": "python",
   "pygments_lexer": "ipython3",
   "version": "3.11.5"
  }
 },
 "nbformat": 4,
 "nbformat_minor": 2
}
