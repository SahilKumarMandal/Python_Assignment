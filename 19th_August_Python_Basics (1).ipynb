{
 "cells": [
  {
   "cell_type": "markdown",
   "id": "eaa30559-33f4-4eaf-92b2-dd02b4fd9f63",
   "metadata": {},
   "source": [
    "Ques 1. Program for decalre two variables, 'x' and 'y',and assign them integer\n",
    "       values. Swap the values of these variables without using any temporary\n",
    "       variable."
   ]
  },
  {
   "cell_type": "code",
   "execution_count": 37,
   "id": "99e49c39-d63a-4a97-b8db-f40d778a47ca",
   "metadata": {},
   "outputs": [
    {
     "name": "stdin",
     "output_type": "stream",
     "text": [
      "Enter the value of X:  34\n",
      "Enter the value of Y:  45\n"
     ]
    },
    {
     "name": "stdout",
     "output_type": "stream",
     "text": [
      "Hence the result, after swapping as follows:\n",
      "X =  45\n",
      "Y =  34\n"
     ]
    }
   ],
   "source": [
    "# Step 1: Declaring variables and assigning their value as input from the user.\n",
    "X = int(input(\"Enter the value of X: \"))\n",
    "Y = int(input(\"Enter the value of Y: \"))\n",
    "\n",
    "# Step 2: Writing algorithm for swapping the value of 'X' & 'Y'\n",
    "X = X + Y\n",
    "Y = X - Y\n",
    "X = X - Y\n",
    "\n",
    "# Step 3: Printing result.\n",
    "print(\"Hence the result, after swapping as follows:\")\n",
    "print(\"X = \", X)\n",
    "print(\"Y = \", Y)\n"
   ]
  },
  {
   "cell_type": "markdown",
   "id": "3a20e730-3a5b-468e-aabf-0a74b0094143",
   "metadata": {},
   "source": [
    "Ques 2. Create a program that calculates the area of a rectangle. Take the length and width as inputs from the user and store them in variables. Calculate and display the area."
   ]
  },
  {
   "cell_type": "code",
   "execution_count": 38,
   "id": "96b16166-1fb7-4e72-aa93-5401ec274e32",
   "metadata": {},
   "outputs": [
    {
     "name": "stdin",
     "output_type": "stream",
     "text": [
      "Enter the length of the rectangle:  34\n",
      "Enter the width of the rectangle:  23\n"
     ]
    },
    {
     "name": "stdout",
     "output_type": "stream",
     "text": [
      "The area of rectangle with 34.0 and width 23.0 is 782.0.sq\n"
     ]
    }
   ],
   "source": [
    "# Step1: Taking length and Width as input from the user.\n",
    "length = float(input(\"Enter the length of the rectangle: \"))\n",
    "width = float(input(\"Enter the width of the rectangle: \"))\n",
    "\n",
    "# Step2: Writing algorithm for calculating the area of rectangle.\n",
    "area = length * width\n",
    "\n",
    "# Step3: Printing result.\n",
    "print(f\"The area of rectangle with {length} and width {width} is {area}.sq\")"
   ]
  },
  {
   "cell_type": "markdown",
   "id": "6c36c0f1-d4e5-4723-8ba0-aaafb3e544a0",
   "metadata": {},
   "source": [
    "Ques 3. Create a program that converts temperatures from Celsius to Fahrenheit. Take the temperature in Celcius as input, store it in a variable, convert it to Fahrenheit, and display the result."
   ]
  },
  {
   "cell_type": "code",
   "execution_count": 39,
   "id": "0ecec865-5987-458f-9c6d-31c660caf17d",
   "metadata": {},
   "outputs": [
    {
     "name": "stdin",
     "output_type": "stream",
     "text": [
      "Enter temperature(in Celsius):  0\n"
     ]
    },
    {
     "name": "stdout",
     "output_type": "stream",
     "text": [
      "0.0 degree celsius is equal to 32.0 degree fahrenheit.\n"
     ]
    }
   ],
   "source": [
    "# Step1: Taking temperature(in Celsius) as input.\n",
    "Celsius = float(input(\"Enter temperature(in Celsius): \"))\n",
    "\n",
    "# Step2: Algorithm for converting Celsius to fahrenheit.\n",
    "fahrenheit = (Celsius * 9/5) + 32\n",
    "\n",
    "# Step3: Printing result.\n",
    "print(f\"{Celsius} degree celsius is equal to {fahrenheit} degree fahrenheit.\")\n"
   ]
  },
  {
   "cell_type": "markdown",
   "id": "5b8f899b-df58-451a-8387-2b4110ba4c4d",
   "metadata": {},
   "source": [
    "STRING BASED QUESTION AS FOLLOWS:\n",
    "\n",
    "\n",
    "\n",
    "\n",
    "Ques 1. Write a program that takes a string as input and prints the length of the string."
   ]
  },
  {
   "cell_type": "code",
   "execution_count": 41,
   "id": "5fff3f18-ebd6-44a5-9de9-e00616a851a6",
   "metadata": {},
   "outputs": [
    {
     "name": "stdin",
     "output_type": "stream",
     "text": [
      "Enter a string:  Hii, I am Sahil Kumar Mandal\n"
     ]
    },
    {
     "name": "stdout",
     "output_type": "stream",
     "text": [
      "Hence, Length of string is: 28\n"
     ]
    }
   ],
   "source": [
    "# Step1: Declaring variables and taking input as string.\n",
    "input_string = input(\"Enter a string: \")\n",
    "\n",
    "# Step2: Algorithm for calculating length of string.\n",
    "S1 = len(input_string)\n",
    "\n",
    "# Step3: Printing result.\n",
    "print(f\"Hence, Length of string is: {S1}\")"
   ]
  },
  {
   "cell_type": "markdown",
   "id": "f01c0f2f-e12a-4547-9c42-ce5b2ad6cb42",
   "metadata": {},
   "source": [
    "Ques 2. Write a program that takes a sentence from the user and count the total number of vowels (a, e, i, o, u) in the string."
   ]
  },
  {
   "cell_type": "code",
   "execution_count": 42,
   "id": "24846751-2196-4960-8d45-d22116b42073",
   "metadata": {},
   "outputs": [
    {
     "name": "stdin",
     "output_type": "stream",
     "text": [
      "Write your sentence:  Python is one of the best language in the world\n"
     ]
    },
    {
     "name": "stdout",
     "output_type": "stream",
     "text": [
      "Hence, the total number of vowels in the sentence is: 14\n"
     ]
    }
   ],
   "source": [
    "# Step1: Declaring variables and assigning its value as input from user.\n",
    "input_sentence = str(input(\"Write your sentence: \"))\n",
    "\n",
    "# Step2: Convert the sentence to lowercase to handle both upper and lowercase vowels.\n",
    "sentence = input_sentence.lower()\n",
    "\n",
    "# Step2: Algorithm for counts the total number of vowels in the sentence.\n",
    "count_a = sentence.count('a')\n",
    "count_e = sentence.count('e')\n",
    "count_i = sentence.count('i')\n",
    "count_o = sentence.count('o')\n",
    "count_u = sentence.count('u')\n",
    "\n",
    "total_vowels = count_a + count_e + count_i + count_o + count_u\n",
    "\n",
    "# Step3: Printing result.\n",
    "print(f\"Hence, the total number of vowels in the sentence is: {total_vowels}\")"
   ]
  },
  {
   "cell_type": "markdown",
   "id": "22e82117-bac7-43c7-8c92-70be9845cd46",
   "metadata": {},
   "source": [
    "Ques 3. Given a string, reverse the order of characters using string slicing and print the reversed string."
   ]
  },
  {
   "cell_type": "code",
   "execution_count": 43,
   "id": "4f0c50c6-ae79-488c-80bb-6ef50f55e3a3",
   "metadata": {},
   "outputs": [
    {
     "name": "stdin",
     "output_type": "stream",
     "text": [
      "Enter string:  Web development\n"
     ]
    },
    {
     "name": "stdout",
     "output_type": "stream",
     "text": [
      "tnempoleved beW\n"
     ]
    }
   ],
   "source": [
    "# Step1: Taking string as input.\n",
    "input_string = str(input(\"Enter string: \"))\n",
    "\n",
    "# Step2: Algorithm for reversing the order of characters using STRING SLICING.\n",
    "reversed_string = input_string[::-1]\n",
    "\n",
    "# Step3: Printing result.\n",
    "print(reversed_string)"
   ]
  },
  {
   "cell_type": "markdown",
   "id": "4b505b5c-b06d-4900-938c-0051087d16e2",
   "metadata": {},
   "source": [
    "Ques 4. Write a program that takes a string as input and check if it is a palindrome(read the same forwards and backwards)."
   ]
  },
  {
   "cell_type": "code",
   "execution_count": 44,
   "id": "2fe4b833-ebc6-47c9-9406-3e4869e5273f",
   "metadata": {},
   "outputs": [
    {
     "name": "stdin",
     "output_type": "stream",
     "text": [
      "Enter string:  1234321\n"
     ]
    },
    {
     "name": "stdout",
     "output_type": "stream",
     "text": [
      "Hence, The input string is palindrome.\n"
     ]
    }
   ],
   "source": [
    "# Step 1: Taking input as string from the user.\n",
    "input_string = input(\"Enter string: \")\n",
    "\n",
    "# Step 2: Use function for removing space from input_string or convert into lowercase and, store it in variable.\n",
    "spaceless_string = input_string.replace(' ', '').lower()\n",
    "\n",
    "# Step 3: Use function for reversing the order of character of spaceless_string by using slicing and store it in variable.\n",
    "reversed_string = spaceless_string[::-1]\n",
    "\n",
    "# Step 4: Comparing new variable i.e, spaceless_string or reversed_string and declaring result.\n",
    "if spaceless_string == reversed_string:\n",
    "    print('Hence, The input string is palindrome.')\n",
    "else:\n",
    "    print('Hence, The input string is not palindrome.')"
   ]
  },
  {
   "cell_type": "markdown",
   "id": "75206921-4391-4495-8877-bd19100272f2",
   "metadata": {},
   "source": [
    "Ques 5. Create a program that takes a string as input and removes all the spaces from it. Print the modified string without spaced."
   ]
  },
  {
   "cell_type": "code",
   "execution_count": 45,
   "id": "e197f147-5c4e-481a-81d9-28febdeea659",
   "metadata": {},
   "outputs": [
    {
     "name": "stdin",
     "output_type": "stream",
     "text": [
      "Enter string:  Sahil Kumar Mandal\n"
     ]
    },
    {
     "name": "stdout",
     "output_type": "stream",
     "text": [
      "Hence, the modified string without spaces is:  SahilKumarMandal\n"
     ]
    }
   ],
   "source": [
    "# Step 1: Declaring variable and taking string as input from the user.\n",
    "input_string = input(\"Enter string: \")\n",
    "\n",
    "# Step 2: Use function for removing space from input_string and store it in new variable.\n",
    "modified_string = input_string.replace(\" \",\"\")\n",
    "\n",
    "# Step 3: Printing result.\n",
    "print(\"Hence, the modified string without spaces is: \",modified_string)"
   ]
  },
  {
   "cell_type": "code",
   "execution_count": null,
   "id": "78971647-e38c-432d-bdf7-a8b3739e1240",
   "metadata": {},
   "outputs": [],
   "source": []
  }
 ],
 "metadata": {
  "kernelspec": {
   "display_name": "Python 3 (ipykernel)",
   "language": "python",
   "name": "python3"
  },
  "language_info": {
   "codemirror_mode": {
    "name": "ipython",
    "version": 3
   },
   "file_extension": ".py",
   "mimetype": "text/x-python",
   "name": "python",
   "nbconvert_exporter": "python",
   "pygments_lexer": "ipython3",
   "version": "3.10.8"
  }
 },
 "nbformat": 4,
 "nbformat_minor": 5
}
