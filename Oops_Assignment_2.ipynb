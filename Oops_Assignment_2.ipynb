{
 "cells": [
  {
   "cell_type": "markdown",
   "metadata": {},
   "source": [
    "# Constructor"
   ]
  },
  {
   "cell_type": "markdown",
   "metadata": {},
   "source": [
    "**Q 1:** What is a constuctor in Python? Explain its purpose and usage."
   ]
  },
  {
   "cell_type": "markdown",
   "metadata": {},
   "source": [
    "**Answer 1:** In Python, a constuctor is a special method used to initialize object of a class. It is defined within a class and is autoamtically called when an object of that class is created. The constructor method is typically named '__init__'\n",
    "\n",
    "The purpose of a constructor is to setup the initial state or attributes of an object. It allows you to define what happens when an object is created, such as initializing instance variable or performing other setup tasks."
   ]
  },
  {
   "cell_type": "markdown",
   "metadata": {},
   "source": [
    "**Q 2.** Differntiate between a parameterless constructor and parameterised constructor in Python."
   ]
  },
  {
   "cell_type": "markdown",
   "metadata": {},
   "source": [
    "**Answer 1.** \n",
    "\n",
    "*Parameterless Constructor (Default constructor):*\n",
    "* A parameterless constructor, often reffered to as default constructor, is a constructor that takes no arguments other 'self'.\n",
    "* It is automatically provided by Python if we don't define our own constructor.\n",
    "* It primary purpose is to set the initial state of an object when its's created. It can be empty or contain some default values.\n",
    "* Example of parameterless constructor:"
   ]
  },
  {
   "cell_type": "code",
   "execution_count": 1,
   "metadata": {},
   "outputs": [
    {
     "name": "stdout",
     "output_type": "stream",
     "text": [
      "This is a parameterless constructor for a 'BankAccount' class\n"
     ]
    }
   ],
   "source": [
    "class BankAccount:\n",
    "    def __init__(self):\n",
    "        print(\"This is a parameterless constructor for a 'BankAccount' class\")\n",
    "\n",
    "my_account = BankAccount()"
   ]
  },
  {
   "cell_type": "markdown",
   "metadata": {},
   "source": [
    "*Parameterized constructor:*\n",
    "* A parameterized constructor is a constructor that takes one or more additional parameters in addition to 'self'.\n",
    "* It allows you to pass specific values to initialize the object when it's created, making it more flexible and coustomizable.\n",
    "* We need to define and implement the parameterized constructor explicitily.\n",
    "* Example of a parameterized constructor:"
   ]
  },
  {
   "cell_type": "code",
   "execution_count": null,
   "metadata": {},
   "outputs": [],
   "source": [
    "class AccountDetails:\n",
    "    def __init__(self, account_number, holdername):\n",
    "        self.account_number = account_number\n",
    "        self.name = holdername\n",
    "    \n",
    "    def details(self):\n",
    "        return self.name, self.account_number\n",
    "\n",
    "my_account = AccountDetails(1234567890, \"Sahil Kumar Mandal\")\n",
    "my_account.details()"
   ]
  },
  {
   "cell_type": "markdown",
   "metadata": {},
   "source": [
    "**Q 3.** How do you define a constructor in a Python class? Provide an example."
   ]
  },
  {
   "cell_type": "markdown",
   "metadata": {},
   "source": [
    "**Answer:** In Python, we define constructor for class using the '__init__' method. The '__init__' method is automatically called when an object is created."
   ]
  },
  {
   "cell_type": "code",
   "execution_count": 2,
   "metadata": {},
   "outputs": [
    {
     "name": "stdout",
     "output_type": "stream",
     "text": [
      "Sahil Kumar Mandal 20 fitness\n"
     ]
    }
   ],
   "source": [
    "class MySelf:\n",
    "    def __init__(self, name, age, hobby):\n",
    "        self.name = name\n",
    "        self.age = age\n",
    "        self.hobby = hobby\n",
    "    \n",
    "    def username(self):\n",
    "        return self.name\n",
    "    \n",
    "    def user_age(self):\n",
    "        return self.age\n",
    "    \n",
    "    def user_hobby(self):\n",
    "        self.hobby\n",
    "\n",
    "user = MySelf('Sahil Kumar Mandal', 20, \"fitness\")\n",
    "print(user.name, user.age, user.hobby)"
   ]
  },
  {
   "cell_type": "markdown",
   "metadata": {},
   "source": [
    "**Q 4.** Explain the '__init__' method in Python and its role in constuctors."
   ]
  },
  {
   "cell_type": "markdown",
   "metadata": {},
   "source": [
    "**Answer:** In Python, the '__init__' method is a special method used for defining the constructors in classes, constructor are responsible for initializing the attributes and the initial state of objects when they are created."
   ]
  },
  {
   "cell_type": "markdown",
   "metadata": {},
   "source": [
    "**Q 5.** In a class named 'Person', create a constructor that initializes the 'name' and 'age' attributes. Provide an example of creating an object of this class.\n",
    "\n",
    "**Answer:**"
   ]
  },
  {
   "cell_type": "code",
   "execution_count": null,
   "metadata": {},
   "outputs": [],
   "source": [
    "class Person:\n",
    "    def __init__(self, name, age):\n",
    "        \"\"\"Initialise user's name and age\"\"\"\n",
    "        self.username = name\n",
    "        self.userage = age\n",
    "    \n",
    "    def name(self):\n",
    "        \"\"\"Username\"\"\"\n",
    "        return self.username\n",
    "    \n",
    "    def age(self):\n",
    "        \"\"\"Userage\"\"\"\n",
    "        return self.userage\n",
    "\n",
    "user = Person(\"Sahil Kumar Mandal\", 20)\n",
    "print(user.name(), user.age())"
   ]
  },
  {
   "cell_type": "markdown",
   "metadata": {},
   "source": [
    "**Q 6.** How can you call a constructor explicitly in Python? Give an example."
   ]
  },
  {
   "cell_type": "markdown",
   "metadata": {},
   "source": [
    "**Answer:** To call a constructor explicitly, we can use the '__int__' method like any other regualr method. Here's an example of how to do it:"
   ]
  },
  {
   "cell_type": "code",
   "execution_count": 5,
   "metadata": {},
   "outputs": [
    {
     "name": "stdout",
     "output_type": "stream",
     "text": [
      "25\n",
      "100\n"
     ]
    }
   ],
   "source": [
    "class MyClass:\n",
    "    def __init__(self, value):\n",
    "        self.value = value\n",
    "    \n",
    "    def show_value(self):\n",
    "        return self.value\n",
    "\n",
    "# creating an object of the class without calling the constructor explicitly\n",
    "obj1 = MyClass(25)\n",
    "print(obj1.show_value())\n",
    "\n",
    "# Calling the constructor explicitly and update obj1 value.\n",
    "MyClass.__init__(obj1, 100)\n",
    "print(obj1.show_value())"
   ]
  },
  {
   "cell_type": "markdown",
   "metadata": {},
   "source": [
    "**Q 7.** What is the significance of the 'self' parameter in Python constructors? Explain with an example."
   ]
  },
  {
   "cell_type": "markdown",
   "metadata": {},
   "source": [
    "**Answer:** The self parameter is essential for initializing the instance variables of objects. Without the self parameter, we would not be able to access or set the instance variables from within the constructor."
   ]
  },
  {
   "cell_type": "code",
   "execution_count": null,
   "metadata": {},
   "outputs": [],
   "source": [
    "class Person:\n",
    "    def __init__(self, name, age):\n",
    "        self.name = name\n",
    "        self.age = age\n",
    "\n",
    "# Create an instance of the Person class\n",
    "person1 = Person(\"Sahil Kumar Mandal\", 20)\n",
    "\n",
    "# Access and print the instance variables of person1\n",
    "print(person1.name)\n",
    "print(person1.age)"
   ]
  },
  {
   "cell_type": "markdown",
   "metadata": {},
   "source": [
    "**Q 8.** Explain the concept of default constructors in Python class. When are they used?"
   ]
  },
  {
   "cell_type": "markdown",
   "metadata": {},
   "source": [
    "**Answer:** A default constructer in Python is a constructor that is automatically created by the Python interpreter if no other constructor is defined for a class. The default constructor takes no arguments and initialiizes all of the instance variable of the class to their default values.\n",
    "\n",
    "Default constructors are used when we want to create an object with its default values. This can be useful when we are not sure what what values to initialize the object with, or when we want an object with known initial state.\n",
    "\n",
    "for example:"
   ]
  },
  {
   "cell_type": "code",
   "execution_count": 8,
   "metadata": {},
   "outputs": [
    {
     "data": {
      "text/plain": [
       "['Mark zuckerberg', 'Elon Musk', 'Bill Gates', 'Sahil Kumar Mandal']"
      ]
     },
     "execution_count": 8,
     "metadata": {},
     "output_type": "execute_result"
    }
   ],
   "source": [
    "class RichestPerson:\n",
    "    def __init__(self):\n",
    "        self.richest_list = [\"Mark zuckerberg\", 'Elon Musk', 'Bill Gates', 'Sahil Kumar Mandal']\n",
    "\n",
    "persons = RichestPerson()\n",
    "persons.richest_list"
   ]
  },
  {
   "cell_type": "markdown",
   "metadata": {},
   "source": [
    "**Q 9.** Create a Python class 'Rectangle' with a constructor that initializes with 'width' and 'height' attributes. Provide a method to calculate the area of the rectangle."
   ]
  },
  {
   "cell_type": "code",
   "execution_count": 10,
   "metadata": {},
   "outputs": [
    {
     "name": "stdout",
     "output_type": "stream",
     "text": [
      "Rectangle's area of width '25' and height '25' is 625 sq.unit.\n"
     ]
    }
   ],
   "source": [
    "class Rectangle:\n",
    "    def __init__(self, width, height):\n",
    "        self.width = width\n",
    "        self.height = height\n",
    "    \n",
    "    def area(self):\n",
    "        print(f\"Rectangle's area of width '{self.width}' and height '{self.height}' is {self.width * self.height} sq.unit.\")\n",
    "\n",
    "shape = Rectangle(25, 25)\n",
    "shape.area()"
   ]
  },
  {
   "cell_type": "markdown",
   "metadata": {},
   "source": [
    "**Q 10.** How can you have multiple constructors in a Python class? Explain with an example."
   ]
  },
  {
   "cell_type": "markdown",
   "metadata": {},
   "source": [
    "**Answer:** We can achieve similar functionality to multiple construcors by using class methods or by providing default value for some of the '__init__' method's parameteres.\n",
    "\n",
    "Here's is an example:"
   ]
  },
  {
   "cell_type": "code",
   "execution_count": 11,
   "metadata": {},
   "outputs": [
    {
     "name": "stdout",
     "output_type": "stream",
     "text": [
      "Sahil Kumar Mandal 20\n",
      "Mark zuckerberg 20\n",
      "Bill Gates 20\n"
     ]
    }
   ],
   "source": [
    "class Person:\n",
    "    def __init__(self, name, age):\n",
    "        self.name = name\n",
    "        self.age = age\n",
    "    \n",
    "    @classmethod\n",
    "    def create_person_with_birth_year(cls, name, birth_year):\n",
    "        age = cls.calculate_age(birth_year)\n",
    "        return cls(name, age)\n",
    "    \n",
    "    @classmethod\n",
    "    def create_person_with_current_year(cls, name, current_year, birth_year):\n",
    "        age = current_year - birth_year\n",
    "        return cls(name, age)\n",
    "    \n",
    "    @staticmethod\n",
    "    def calculate_age(birth_year):\n",
    "        currrent_year = 2023\n",
    "        return currrent_year - birth_year\n",
    "\n",
    "# Creating instance using different constructors\n",
    "person1 = Person(\"Sahil Kumar Mandal\", 20)\n",
    "person2 = Person.create_person_with_birth_year(\"Mark zuckerberg\", 2003)\n",
    "person3 = Person.create_person_with_current_year('Bill Gates', 2023, 2003)\n",
    "\n",
    "print(person1.name, person1.age)\n",
    "print(person2.name, person2.age)\n",
    "print(person3.name, person3.age)"
   ]
  },
  {
   "cell_type": "markdown",
   "metadata": {},
   "source": [
    "**Q 11.** What is method overloading, and how is it related to constructors in Python?"
   ]
  },
  {
   "cell_type": "markdown",
   "metadata": {},
   "source": [
    "**Answer:** Method overloading and constructor overloading are concepts that allow us to have multiple methods or constructors with the same name, but with different signatures. Python does not support true method or constructor overloading, but there are few ways to simulate these concepts using default arguments, classmethods, and multiple constructors."
   ]
  },
  {
   "cell_type": "code",
   "execution_count": null,
   "metadata": {},
   "outputs": [],
   "source": [
    "class MyClass:\n",
    "    def __init__(self, param1, param2 = None):\n",
    "        if param2 is None:\n",
    "            # Constructor with one parameter\n",
    "            self.param1 = param1\n",
    "        else:\n",
    "            # Constructor with two parameters\n",
    "            self.param1 = param1\n",
    "            self.param2 = param2\n",
    "\n",
    "# Usage\n",
    "obj1 = MyClass(1)\n",
    "obj2 = MyClass(1, 2)"
   ]
  },
  {
   "cell_type": "markdown",
   "metadata": {},
   "source": [
    "**Q 12.** Explain the use of the 'super()' function in Python constructor. Provide an example."
   ]
  },
  {
   "cell_type": "markdown",
   "metadata": {},
   "source": [
    "**Answer:** The 'super()' function in Python allows you to call methods from the parent class of the current class. This is useful for constructors, as it allows you to initialize the parent class before initializing the current class.\n",
    "\n",
    "To use the super() function in a constructor, we simply pass if the name of the parent class. For example if the current class is child and the parent class is Parent, we would use the follwing code to call the parent class's constructor:"
   ]
  },
  {
   "cell_type": "code",
   "execution_count": null,
   "metadata": {},
   "outputs": [],
   "source": [
    "class Parent:\n",
    "    def __init__(self, name):\n",
    "        self.name = name\n",
    "\n",
    "class Child(Parent):\n",
    "    def __init__(self, name, age):\n",
    "        super().__init__(name)\n",
    "        self.age = age\n",
    "\n",
    "child = Child('Sahil Kumar Mandal', 20)\n",
    "print(child.name)\n",
    "print(child.age)"
   ]
  },
  {
   "cell_type": "markdown",
   "metadata": {},
   "source": [
    "**Q 13.** Create a class called 'Book' with a constructor that initializes the 'title', 'author', and 'published_year' attributes. Provide a method to display book details."
   ]
  },
  {
   "cell_type": "code",
   "execution_count": null,
   "metadata": {},
   "outputs": [],
   "source": [
    "class Book:\n",
    "    def __init__(self, title, author, published_year):\n",
    "        self.title = title\n",
    "        self.author = author\n",
    "        self.published_year = published_year\n",
    "    \n",
    "    def __str__(self):\n",
    "        return f\"Title: {self.title}\\nAuthor: {self.author}\\nPublished Year: {self.published_year}\"\n",
    "\n",
    "my_book = Book(\"Data structure and algorithm\", 'Sahil Kumar Mandal', 1965)\n",
    "print(my_book)"
   ]
  },
  {
   "cell_type": "markdown",
   "metadata": {},
   "source": [
    "**Q 14.** Discuss the defferences betweeen constructors and regular methods in Python classes."
   ]
  },
  {
   "cell_type": "markdown",
   "metadata": {},
   "source": [
    "**Answer:** *Difference between constructors and regular methods:*\n",
    " 1. Constructor is defined by specil name '__init__' and regular method can be defined by any name.\n",
    " 2. Constructor is called when object is created, and during regular method object is already created.\n",
    " 3. Constructor is used to initialize the object, and regular method is used to perform any task on the object.\n",
    " 4. Constructor return type is None, and regular method returning any type of data.\n",
    " 5. Constructor is not inherited by subclasses, and regular method is inherited by subclasses.   "
   ]
  },
  {
   "cell_type": "markdown",
   "metadata": {},
   "source": [
    "**Q 15.** Explain the role of 'self' parameter in instance variable initialization within a constructor."
   ]
  },
  {
   "cell_type": "markdown",
   "metadata": {},
   "source": [
    "**Answer:** The 'self' parameter in a Python constructor is a reference to the object being constructed. It is used to access and set the object's instance variables.\n",
    "\n",
    "Without the 'self' parameter, we would not be able to initialize the object's instance variables within the constructor. This is because the constructor is regular method, and regular method cannota access the object's instance variables directly."
   ]
  },
  {
   "cell_type": "markdown",
   "metadata": {},
   "source": [
    "**Q 16.** How do you prevent a class from having multiple instances by using constructor in Python? Provide an example."
   ]
  },
  {
   "cell_type": "markdown",
   "metadata": {},
   "source": [
    "**Answer:** In Python, we can prevent a class from having multiple instances by using a design pattern called the singleton pattern. The singleton pattern ensures that only one instance of a class is created and provide a global point of access to that instance. We can achieve this by overriding the '__new__' method of the class. Here's an example:"
   ]
  },
  {
   "cell_type": "code",
   "execution_count": 2,
   "metadata": {},
   "outputs": [
    {
     "name": "stdout",
     "output_type": "stream",
     "text": [
      "True\n"
     ]
    }
   ],
   "source": [
    "class Singleton: \n",
    "    _instance = None\n",
    "\n",
    "    def __new__(cls):\n",
    "        if cls._instance is None:\n",
    "            cls._instance = super(Singleton, cls).__new__(cls)\n",
    "            cls._instance.initialized = False\n",
    "        return cls._instance\n",
    "    \n",
    "    def __init__(self):\n",
    "        if not self.initialized:\n",
    "            self.initialized = True\n",
    "\n",
    "instance1 = Singleton()\n",
    "instance2 = Singleton()\n",
    "\n",
    "print(instance1 is instance2)"
   ]
  },
  {
   "cell_type": "markdown",
   "metadata": {},
   "source": [
    "**Q 17.** Create a Python class called 'Student' with a constructor that take a list of subjects as a parameter inititalizes the 'subject' attribute."
   ]
  },
  {
   "cell_type": "code",
   "execution_count": 3,
   "metadata": {},
   "outputs": [
    {
     "name": "stdout",
     "output_type": "stream",
     "text": [
      "['Mathematics', 'Physics', 'chemistry', 'Biology', 'Data structure and algorithm']\n"
     ]
    }
   ],
   "source": [
    "class Student:\n",
    "    def __init__(self, subjects):\n",
    "        self.subjects = subjects\n",
    "\n",
    "# Defining a list of subjects \n",
    "subject_list = ['Mathematics', 'Physics', 'chemistry', 'Biology', 'Data structure and algorithm']\n",
    "\n",
    "# Initialising this list of subject to the student class\n",
    "student1 = Student(subject_list)\n",
    "print(student1.subjects)"
   ]
  },
  {
   "cell_type": "markdown",
   "metadata": {},
   "source": [
    "**Q 18.** What is the purpose of '__del__()' method in Python classes and how does it relate to constructors?"
   ]
  },
  {
   "cell_type": "markdown",
   "metadata": {},
   "source": [
    "**Answer:** The '__del__()' method in Python calsses is also known as the destructor method. It is called when an object of the class is garbage collected, which happen after all references to the object have been deleted.\n",
    "\n",
    "The '__del__()' method is related to constructors in that it can be used to clean up any resources that were allocated by the constructor. For example: "
   ]
  },
  {
   "cell_type": "code",
   "execution_count": 6,
   "metadata": {},
   "outputs": [
    {
     "name": "stdout",
     "output_type": "stream",
     "text": [
      "Name:  Sahil Kumar Mandal\n",
      "Age:  20\n",
      "Hobby:  Football\n",
      "Destructor method called..\n",
      "object Deleted\n"
     ]
    }
   ],
   "source": [
    "class Introduction:\n",
    "    def __init__(self, name, age, hobby):\n",
    "        self.name = name\n",
    "        self.age = age\n",
    "        self.hobby = hobby\n",
    "    \n",
    "    def details(self):\n",
    "        print(\"Name: \", self.name)\n",
    "        print(\"Age: \", self.age)\n",
    "        print(\"Hobby: \", self.hobby)\n",
    "    \n",
    "    def __del__(self):\n",
    "        print(\"Destructor method called..\")\n",
    "        print(\"object Deleted\")\n",
    "\n",
    "my_self = Introduction(\"Sahil Kumar Mandal\", 20, 'Football')\n",
    "my_self.details()\n",
    "\n",
    "del my_self     # Cleaning the resource\n"
   ]
  },
  {
   "cell_type": "markdown",
   "metadata": {},
   "source": [
    "**Q 19.** Explain the use of constructor chaining in Python. Provide a practical example."
   ]
  },
  {
   "cell_type": "code",
   "execution_count": 15,
   "metadata": {},
   "outputs": [
    {
     "name": "stdout",
     "output_type": "stream",
     "text": [
      "Name: Sahil Kumar Mandal, Age: 30, Employee ID: 12345\n",
      "Name: Mr. Nawin Kumar Mandal, Age: 25, Employee ID: 45678\n",
      "Name: Default name, Age: 0, Employee ID:  \n"
     ]
    }
   ],
   "source": [
    "class Person:\n",
    "    def __init__(self, name = 'Default name', age = 0):\n",
    "        self.name = name\n",
    "        self.age = age\n",
    "    \n",
    "    def get_info(self):\n",
    "        return f\"Name: {self.name}, Age: {self.age}\"\n",
    "\n",
    "class Employee(Person):\n",
    "    def __init__(self, name = 'Default name', age = 0, employee_id = ' '):\n",
    "        super().__init__(name, age)\n",
    "        self.employee_id = employee_id\n",
    "\n",
    "    def get_employee_info(self):\n",
    "        return f\"{self.get_info()}, Employee ID: {self.employee_id}\"\n",
    "\n",
    "# Create instances using constructor chaining\n",
    "employee1 = Employee('Sahil Kumar Mandal', 30, 12345)\n",
    "employee2 = Employee(\"Mr. Nawin Kumar Mandal\", 25, 45678)\n",
    "employee3 = Employee()\n",
    "\n",
    "print(employee1.get_employee_info())\n",
    "print(employee2.get_employee_info())\n",
    "print(employee3.get_employee_info())"
   ]
  },
  {
   "cell_type": "markdown",
   "metadata": {},
   "source": [
    "**Q 20.** create a Python class called 'Car' with a default constructor that initializes the 'make' and 'model' attributes. Provide a method to display car information."
   ]
  },
  {
   "cell_type": "code",
   "execution_count": 16,
   "metadata": {},
   "outputs": [
    {
     "name": "stdout",
     "output_type": "stream",
     "text": [
      "Make:  Unknown Make\n",
      "Model:  Unknown Model\n"
     ]
    }
   ],
   "source": [
    "class Car:\n",
    "    def __init__(self, make = 'Unknown Make', model = 'Unknown Model'):\n",
    "        \"\"\" Initialise attributes (make and model) of a car\n",
    "        \"\"\"\n",
    "        self.make = make\n",
    "        self.model = model\n",
    "    \n",
    "    def show_info(self):\n",
    "        \"\"\" Showing information about the car\n",
    "        \"\"\"\n",
    "        print(\"Make: \", self.make)\n",
    "        print(\"Model: \", self.model)\n",
    "\n",
    "my_car = Car()\n",
    "my_car.show_info()"
   ]
  },
  {
   "cell_type": "markdown",
   "metadata": {},
   "source": [
    "# Inhertance"
   ]
  },
  {
   "cell_type": "markdown",
   "metadata": {},
   "source": [
    "**Q1.** What is inheritence in Python? Explain its significance in object-oriented programming."
   ]
  },
  {
   "cell_type": "markdown",
   "metadata": {},
   "source": [
    "**Answer:** Inheritance in Python is a fundamental concept in object-oriented programming (OOP) that allows us to create a new class (a subclass or derived class) that inherits properties and behaviors from an existing class (a superclass or base class). The subclass can extend, override, or specialize the attributes and methods of the superclass while reusing its existing functionality. Inheritance promotes code reusability and the creation of a hierarchical structure of classes, making it easier to model systems and maintain code.\n",
    "\n",
    "In summary, inheritance is a crucial concept in object-oriented programming that promotes code reuse, hierarchical structuring, and customization of classes. It allows us to model real-world relationaship effectively, leading to more organized and maintainable code.\n",
    "\n",
    "Syntax for inheritance in Python:"
   ]
  },
  {
   "cell_type": "code",
   "execution_count": null,
   "metadata": {},
   "outputs": [],
   "source": [
    "class Baseclass:\n",
    "    #Properties and methods\n",
    "\n",
    "class DerivedClass(Baseclass):\n",
    "    # Additional properties and methods"
   ]
  },
  {
   "cell_type": "markdown",
   "metadata": {},
   "source": [
    "**Q2.** Difference between single inheritance and multiple inheritance in Python. Provide example for each."
   ]
  },
  {
   "cell_type": "markdown",
   "metadata": {},
   "source": [
    "**Answer:** Here are some key differences between single inheritance and multiple inheritance in Python:\n",
    "\n",
    " 1. Single Inheritance:\n",
    "* A class can inherit from only one parent class.\n",
    "* Simpler and more straightforward.\n",
    "* Easier to understand and maintain.\n",
    "* Generally used in most cases where you need to model relationships.\n",
    "    \n",
    " 2. Multiple Inheritance:\n",
    "* A class can inherit from multiple parent classes.\n",
    "* More complex and can lead to diamond problem (ambiguity when a class inherits from two classes that have a common ancestor).\n",
    "* Provide more flexibility but requires careful design.\n",
    "* Used when a class needs to inherit and combine functionality from multiple sources.\n"
   ]
  },
  {
   "cell_type": "code",
   "execution_count": null,
   "metadata": {},
   "outputs": [],
   "source": [
    "\"\"\"\n",
    "Here's is an example of single inheritance in Python:\n",
    "\"\"\"\n",
    "class Animal:\n",
    "    def speak(self):\n",
    "        print(\"Animal speaks\")\n",
    "\n",
    "class Dog(Animal):\n",
    "    def bark(self):\n",
    "        print(\"Dog barks\")\n",
    "\n",
    "# Usage\n",
    "dog = Dog()\n",
    "dog.speak()   # Accessing the method from the base class\n",
    "dog.bark()    # Accessing the method from the derived class"
   ]
  },
  {
   "cell_type": "code",
   "execution_count": null,
   "metadata": {},
   "outputs": [],
   "source": [
    "\"\"\"\n",
    "Here's is an example of multiple inheritance in Python:\n",
    "\"\"\"\n",
    "class Animal:\n",
    "    def speak(self):\n",
    "        print(\"Animal speaks\")\n",
    "\n",
    "class Bird:\n",
    "    def chirp(self):\n",
    "        print(\"Bird chirps\")\n",
    "\n",
    "class Parrot(Animal, Bird):\n",
    "    def repeat(self):\n",
    "        print(\"Parrot repeats words\")\n",
    "\n",
    "# Usage\n",
    "parrot = Parrot()\n",
    "parrot.speak()     # Accessing the methods from the Animal class\n",
    "parrot.chirp()     # Accessing the methods from the Bird class\n",
    "parrot.repeat()    # Accessing the methods from the Parrot class"
   ]
  },
  {
   "cell_type": "markdown",
   "metadata": {},
   "source": [
    "**Q3.** Create a Python class called 'Vehicle' with attributes 'color' and 'speed'. Then, create a child class called 'Car' that inherits from 'Vehicle' and adds a 'brand' attribute. Provide an example of  creating a 'Car' object.\n",
    "\n",
    "**Answer:**"
   ]
  },
  {
   "cell_type": "code",
   "execution_count": null,
   "metadata": {},
   "outputs": [],
   "source": [
    "class Vehicle:\n",
    "    def __init__(self, color, speed):\n",
    "        self.color = color\n",
    "        self.speed = speed\n",
    "\n",
    "class Car(Vehicle):\n",
    "    def __init__(self, speed, color, brand):\n",
    "        # Call the constructor of the parent class (Vehicle)\n",
    "        super().__init__(speed, color)\n",
    "        self.brand = brand\n",
    "    \n",
    "    def details(self):\n",
    "        print(\"Car's color: \", self.color)\n",
    "        print(\"Car's speed: \", self.speed)\n",
    "        print(\"Car's brand: \", self.brand)\n",
    "\n",
    "# Create a Car object\n",
    "my_car = Car(\"Red\", 60, 'Toyota')\n",
    "\n",
    "# Access the attributes\n",
    "my_car.details()"
   ]
  },
  {
   "cell_type": "markdown",
   "metadata": {},
   "source": [
    "**Q4.** Explain the method overriding in inheritance. Provide a practical example."
   ]
  },
  {
   "cell_type": "markdown",
   "metadata": {},
   "source": [
    "**Answer:** Method overriding is a key concept in inheritance in Python (and in object-oriented programming in general). It allows a subclass to provide a specific implementation for a method that is already defined in its superclass, effectively replacing or customizing the behavior of the inherited mehtod. Mehtod overriding is used when a subclass needs to tailor a mehtod to its specific needs while still retaining the method's name, return type, and parameters from the superclass.\n",
    "\n",
    "Here's a practical example of method overriding in Python:"
   ]
  },
  {
   "cell_type": "code",
   "execution_count": null,
   "metadata": {},
   "outputs": [],
   "source": [
    "class Animal:\n",
    "    def speak(self):\n",
    "        print(\"An animal makes a sound\")\n",
    "\n",
    "class Dog(Animal):\n",
    "    def speak(self):\n",
    "        print(\"Dog barks\")\n",
    "\n",
    "class Cat(Animal):\n",
    "    def speak(self):\n",
    "        print(\"Cat meows\")\n",
    "\n",
    "# Usage\n",
    "animal = Animal()\n",
    "dog = Dog()\n",
    "cat = Cat()\n",
    "\n",
    "animal.speak()\n",
    "dog.speak()\n",
    "cat.speak()"
   ]
  },
  {
   "cell_type": "markdown",
   "metadata": {},
   "source": [
    "**Q5.** How can you access the methods and attributes of a parent class from a child class in Python? Give an example."
   ]
  },
  {
   "cell_type": "markdown",
   "metadata": {},
   "source": [
    "**Answer:** In Python, we can access the methods and attributes of a parent class from a child class using the 'super()' function or by directly referencing the parent class. Here are examples of both approaches:"
   ]
  },
  {
   "cell_type": "code",
   "execution_count": null,
   "metadata": {},
   "outputs": [],
   "source": [
    "\"\"\"\n",
    "Using 'super()' function:\n",
    "\"\"\"\n",
    "class Parent:\n",
    "    def __init__(self, parent_attr):\n",
    "        self.parent_attr = parent_attr\n",
    "    \n",
    "    def parent_method(self):\n",
    "        print(\"This is a method from a parent class\")\n",
    "\n",
    "class Child(Parent):\n",
    "    def __init__(self, parent_attr, child_attr):\n",
    "        super().__init__(parent_attr)  # Call the parent class constructor\n",
    "        self.child_attr = child_attr\n",
    "    \n",
    "    def child_method(self):\n",
    "        super().parent_method() # Call the parent class method\n",
    "        print(\"This is a method from the child class\")\n",
    "\n",
    "# Create an instance of the Child class\n",
    "child = Child(\"Parent attribute\", \"Child attribute\")\n",
    "\n",
    "# Access methods and attributes\n",
    "print(child.parent_attr)         # Access the parent attribute\n",
    "child.child_method()             # Access the child's method, which calls the parent's method"
   ]
  },
  {
   "cell_type": "code",
   "execution_count": null,
   "metadata": {},
   "outputs": [],
   "source": [
    "\"\"\"\n",
    "Directly refrencing the parent class:\n",
    "\"\"\"\n",
    "class Parent:\n",
    "    def __init__(self, parent_attr):\n",
    "        self.parent_attr = parent_attr\n",
    "    \n",
    "    def parent_method(self):\n",
    "        print(\"This is the method form the parent class\")\n",
    "\n",
    "class Child(Parent):\n",
    "    def __init__(self, parent_attr, child_attr):\n",
    "        super().__init__(parent_attr)     # Call the parent class constructor directly\n",
    "        self.child_attr = child_attr\n",
    "    \n",
    "    def child_method(self):\n",
    "        Parent.parent_method(self) # Call the parent class method directly\n",
    "        print(\"This is a method from the child class\")\n",
    "\n",
    "# Create an instance of the Child class\n",
    "child = Child(\"Parent attributes\", \"Child attribute\")\n",
    "\n",
    "# Access methods and attributes\n",
    "print(child.parent_attr)  # Access the parent attribute\n",
    "child.child_method()      # Access the child's method, which calls the parent_method"
   ]
  },
  {
   "cell_type": "markdown",
   "metadata": {},
   "source": [
    "**Q6.** Discuss the use of 'super()' function in Python inheritance. When and why is it used? Provide an example."
   ]
  },
  {
   "cell_type": "markdown",
   "metadata": {},
   "source": [
    "**Answer:** The 'super()' function in Python is used in the context of inheritance to call methods or access attributes of a parent class(superclass) from a child class (subclass). It is particularly useful when we want to extend or override the behavior of methods in the parent class while still utilizing the functionality provided by the parent class.\n",
    "\n",
    "Here's why and when we would use use the  'super()' function in Python:\n",
    "\n",
    " 1. Method Overriding: When a subclass overrides a method from its parent class, we may want to call the overridden method from the parent class within the child class method. 'super()' allows us to do this, ensuring that both the parent and child class's code gets executed.\n",
    "\n",
    " 2. Constructor Calls: When a subclass has its own constructor ('__init__') and we want to call the constructor of the parent class to initialize attributes inherited from the parent class.\n",
    "\n",
    " 3. Multiple Inheritance: In case of multiple inheritance (a subclass inheriting from more than one parent class) , 'super()' helps in maintaining a consistent and method resolution order (MRO) and calls the next class in the MRO chain.\n",
    "\n",
    "Here's an example of using 'super()' in Python for method overriding and constructor calls:"
   ]
  },
  {
   "cell_type": "code",
   "execution_count": null,
   "metadata": {},
   "outputs": [],
   "source": [
    "class Parent:\n",
    "    def __init__(self, parent_attr):\n",
    "        self.parent_attr = parent_attr\n",
    "    \n",
    "    def say_hello(self):\n",
    "        print(\"Hellow from Parent\")\n",
    "\n",
    "class Child(Parent):\n",
    "    def __init__(self, parent_attr, child_attr):\n",
    "        super().__init__(parent_attr)    # Call the parent class constructor\n",
    "        self.child_attr = child_attr\n",
    "    \n",
    "    def say_hello(self):\n",
    "        super().say_hello()  # Call the parent class method\n",
    "        print(\"Hellow from Child\")\n",
    "\n",
    "# Create an instance of the child class\n",
    "child = Child(\"Parent attribute\", 'Child attribute')\n",
    "\n",
    "# Access methods and attributes\n",
    "print(child.parent_attr)  # Access the parent attribute\n",
    "child.say_hello()         # Call the child's method, which call the parent's method"
   ]
  },
  {
   "cell_type": "markdown",
   "metadata": {},
   "source": [
    "**Q7.** Create a Python class called 'Animal' with a method 'speak()'. Then, create child classes 'Dog' and 'Cat' that inherit from 'Animal' and override the 'speak()' method. Provide an example of using this classes.\n",
    "\n",
    "**Answer:**"
   ]
  },
  {
   "cell_type": "code",
   "execution_count": null,
   "metadata": {},
   "outputs": [],
   "source": [
    "class Animal:\n",
    "    def speak(self):\n",
    "        print(\"Animal speak\")\n",
    "\n",
    "class Dog(Animal):\n",
    "    def speak(self):\n",
    "        print(\"Dog Barks\")\n",
    "\n",
    "class Cat(Animal):\n",
    "    def speak(self):\n",
    "        print(\"Cat meows\")\n",
    "\n",
    "# Creating instances of Animal, Dog and Cat classes\n",
    "animal = Animal()\n",
    "dog = Dog()\n",
    "cat = Cat()\n",
    "\n",
    "# Calling the method of each classes\n",
    "animal.speak()\n",
    "dog.speak()\n",
    "cat.speak()"
   ]
  },
  {
   "cell_type": "markdown",
   "metadata": {},
   "source": [
    "**Q8.** Explain the role of 'isinstance()' function in Python and how does it relate to inheritance."
   ]
  },
  {
   "cell_type": "markdown",
   "metadata": {},
   "source": [
    "**Answer:** The 'isinstance()' function in Python is used to check if an object belongs to a specific class or subclass of that class. It helps determine the type of an object and is particularly useful when working with inheritance and polymorphism. The function takes two arguments: the object to be checked and the class (or a tuple of classes) which we want to check against.\n",
    "\n",
    "Here's an example that demonstrates the use of 'isinstance()' in the context of inheritance:"
   ]
  },
  {
   "cell_type": "code",
   "execution_count": null,
   "metadata": {},
   "outputs": [],
   "source": [
    "class Animal:\n",
    "    def speak(self):\n",
    "        print(\"Animal speaks\")\n",
    "\n",
    "class Dog(Animal):\n",
    "    def speak(self):\n",
    "        print(\"Dog barks\")\n",
    "\n",
    "class Cat(Animal):\n",
    "    def speak(self):\n",
    "        print(\"Cat meows\")\n",
    "\n",
    "# Create instance of different classes\n",
    "animal = Animal()\n",
    "dog = Dog()\n",
    "cat = Cat()\n",
    "\n",
    "# Check the type using isinstance()\n",
    "print(isinstance(animal, Animal))\n",
    "print(isinstance(dog, Animal))\n",
    "print(isinstance(cat, Animal))\n",
    "\n",
    "# Using isinstance with polymorphism\n",
    "animals = [dog, cat, animal]\n",
    "\n",
    "for a in animals:\n",
    "    if isinstance(a, Animal):\n",
    "        a.speak()\n",
    "    else:\n",
    "        print(\"Unknown animal\")"
   ]
  },
  {
   "cell_type": "markdown",
   "metadata": {},
   "source": [
    "**Q9.** What is the purpose of 'issubclass()' function in Python? Provide an example."
   ]
  },
  {
   "cell_type": "markdown",
   "metadata": {},
   "source": [
    "**Answer:** The 'issubclass()' function in Python is used to determine if a given class is a subclass of specified class or if it is derived from a particular class. It allows us to check the inheritance relationship between classes. The function takes two arguments: the class to be checked and the class which we want to check against.\n",
    "\n",
    "The primary purpose of 'issubclass()' is to facilitate dynamic type checking and to help you verify class hierarchies. It is useful for ensuring that a class follows the expected inheritance structure or to conditionally apply logic based on class inheritance.\n",
    "\n",
    "Here's an example of how to use 'issubclass()':"
   ]
  },
  {
   "cell_type": "code",
   "execution_count": null,
   "metadata": {},
   "outputs": [],
   "source": [
    "class Vehicle:\n",
    "    pass\n",
    "\n",
    "class Car(Vehicle):\n",
    "    pass\n",
    "\n",
    "class Motorcycle(Vehicle):\n",
    "    pass\n",
    "\n",
    "class Boat:\n",
    "    pass\n",
    "\n",
    "# Check if classes are subclasses of other classes\n",
    "print(issubclass(Car, Vehicle))\n",
    "print(issubclass(Motorcycle, Vehicle))\n",
    "print(issubclass(Boat, Vehicle))\n",
    "\n",
    "# Checking inheritance relationship with built-in classes\n",
    "print(issubclass(int, object))\n",
    "print(issubclass(list, tuple))"
   ]
  },
  {
   "cell_type": "markdown",
   "metadata": {},
   "source": [
    "**Q10.** Discuss the concept of constructor ineritance in Python. How are constructors inherited in child classes?"
   ]
  },
  {
   "cell_type": "markdown",
   "metadata": {},
   "source": [
    "**Answer:** In Python, constructors are not inherited by child classes automatically. However, child classes can make use of constructors from parent classes through explicit calls to the parent's class's constructor using the 'super()' function. This is known as constructor chaining or constructor inheritance. The 'super()' function allows us to execute the constructor of the parent class, and we can pass arguments to the parent class's constructors as needed.\n",
    "\n",
    "Here's how constructor inheritance works in Python:\n",
    "\n",
    " 1. When a child class is defined, it does not automatically inherit the constructor of the parent class. Instead, the child class has its own constructors, which it can use to initialize its own attributes.\n",
    "\n",
    " 2. To include the initialization logic of the parent class's constructor, we can explicitly call the parent's class's constructor using 'super()'. This allows us to reuse the parent class's initialization code and then add additional logic specific to the child class.\n",
    "\n",
    " 3. By using 'super()', we ensure that the parent class's constructor is executed before the child class's constructors. This is important because the parent class may set up attributes or perform other tasks that child relies on.\n",
    "\n",
    "Here's an exampjle to illustrate constructor inheritance in Python: "
   ]
  },
  {
   "cell_type": "code",
   "execution_count": null,
   "metadata": {},
   "outputs": [],
   "source": [
    "class Parent:\n",
    "    def __init__(self, parent_attr):\n",
    "        self.parent_attr = parent_attr\n",
    "        print(\"Parent constructor called\")\n",
    "    \n",
    "class Child(Parent):\n",
    "    def __init__(self, parent_attr, child_attr):\n",
    "        super().__init__(parent_attr)\n",
    "        self.child_attr = child_attr\n",
    "        print(\"Child constructor called\")\n",
    "\n",
    "# Create an instance of the chils class\n",
    "child = Child(\"Parent attributes\", \"Child attributes\")\n",
    "\n",
    "# Access attributes\n",
    "print(\"Parent attribute: \", child.parent_attr)\n",
    "print(\"Child attribute: \", child.child_attr)"
   ]
  },
  {
   "cell_type": "markdown",
   "metadata": {},
   "source": [
    "**Q11.** Create a Pythod class called 'Shape' with a method 'area()' that calculates the area of the shape. Then create child classes 'Circle' and 'Rectangle' that inherits from 'Shape' and implement the 'area()' method accordingly. Provide an example.\n",
    "\n",
    "**Answere:**"
   ]
  },
  {
   "cell_type": "code",
   "execution_count": null,
   "metadata": {},
   "outputs": [],
   "source": [
    "class Shape:\n",
    "    def area(self):\n",
    "        pass\n",
    "\n",
    "class Circle(Shape):\n",
    "    def __init__(self, radius: float):\n",
    "        self.radius = radius\n",
    "    \n",
    "    def area(self):\n",
    "        # Area of circle = 3.14 * (radius)**2\n",
    "        print(f\"Circle'area of radius '{self.radius}' is:, {3.14 * (self.radius ** 2)} sq.unit\")\n",
    "\n",
    "class Rectangle(Shape):\n",
    "    def __init__(self, length, width):\n",
    "        self.length = length\n",
    "        self.width = width\n",
    "\n",
    "    def area(self):\n",
    "        # Area of rectangle = length X width\n",
    "        print(f\"Rectangle's area of length '{self.length}' and width '{self.width}' is: {self.length * self.width} sq.unit\")\n",
    "\n",
    "shape = Circle(5)\n",
    "shape.area()\n",
    "\n",
    "shape = Rectangle(5, 5)\n",
    "shape.area()"
   ]
  },
  {
   "cell_type": "markdown",
   "metadata": {},
   "source": [
    "**Q12.** Explain the use of abstract base classes (ABCs) in Python and how they relate to inheritance. Provide an example using the 'abc' module."
   ]
  },
  {
   "cell_type": "markdown",
   "metadata": {},
   "source": [
    "**Answer:** Abstract Base Classes (ABCs) in Python provide a way to define a common interface for a group of related classes. They help enforce a contract that specfies which methods and attributes must be implemented by any concrete (sub)class that inherits from the ABC. ABCs are often used to ensure that subclasses adhere to a specific structure of set of behaviors, making it easier to reason about the expected bahavior of objects.\n",
    "\n",
    "The 'abc' module in Python provides the necessary tools for working with with abstract base classes. The most important components of the 'abc' module are the \"ABC\" metaclass and the 'abstractmethod' decorator.\n",
    "\n",
    "Here's how to use the 'abc' module and ABCs in Python:\n",
    "\n",
    " 1. Define an ABC using the 'ABC' metaclass.\n",
    " 2. Decorate methods that must be implemented in concrete subclasses using the '@abstractmethod' decorator.\n",
    " 3. Subclass that inherit from the ABC must implement all abstract methods, or they will raies 'TypeError' at runtime.\n",
    "\n",
    "Here's an example:"
   ]
  },
  {
   "cell_type": "code",
   "execution_count": null,
   "metadata": {},
   "outputs": [],
   "source": [
    "from abc import ABC, abstractmethod\n",
    "\n",
    "# Define an abstract base class (ABC)\n",
    "class Shape(ABC):\n",
    "    @abstractmethod\n",
    "    def area(self):\n",
    "        pass\n",
    "\n",
    "    @abstractmethod\n",
    "    def perimeter(self):\n",
    "        pass\n",
    "\n",
    "# Create concrete subclasses that inherit from the Shape ABC\n",
    "class Circle(Shape):\n",
    "    def __init__(self, radius):\n",
    "        self.radius = radius\n",
    "    \n",
    "    def area(self):\n",
    "        return 3.14159265359 * (self.radius ** 2)\n",
    "    \n",
    "    def perimeter(self):\n",
    "        return 2 * 3.14159265359 * self.radius\n",
    "\n",
    "class Rectangle(Shape):\n",
    "    def __init__(self, width, height):\n",
    "        self.height = height\n",
    "        self.width = width\n",
    "    \n",
    "    def area(self):\n",
    "        return self.width * self.height\n",
    "    \n",
    "    def perimeter(self):\n",
    "        return 2 * (self.width * self.height)\n",
    "\n",
    "# Attempting to create an instance of the shape class (an ABC) will raise an TypeError.\n",
    "# shape = Shape() # TypeError: Can't instantiate abstract class Shape with abstract methods area, perimeter\n",
    "\n",
    "# We can create instances of concrete subclasses:\n",
    "Circle = Circle(5)\n",
    "given_rectangle = Rectangle(5, 6)\n",
    "\n",
    "# Calling the abstract methodis allowed because they are implemented in the concrete subclass\n",
    "print(\"Circle area:\", Circle.area())\n",
    "print(\"Circle perimeter:\", Circle.perimeter())\n",
    "print(\"Rectangle area:\", given_rectangle.area())\n",
    "print(\"Rectangle perimeter:\", given_rectangle.perimeter())"
   ]
  },
  {
   "cell_type": "markdown",
   "metadata": {},
   "source": [
    "In this example, 'Shape' is an abstract base class (ABC) that defines two abstract methods, 'area' and 'perimeter'. Subclasses like 'Circle' and 'Rectangle' inherit from the 'Shape' and must provide concrete implementations for these abstract methods, or a 'TypeError' will be raised."
   ]
  },
  {
   "cell_type": "markdown",
   "metadata": {},
   "source": [
    "**Q13.** How do you prevent a child class from modifying certain attributes or methods inherited from a parent class in Python?"
   ]
  },
  {
   "cell_type": "markdown",
   "metadata": {},
   "source": [
    "**Answer:** In Python, we can use private accessor for certain attributes or methods of parent class, because:\n",
    "* It will restrict that this attributes and methods is defined for only parent class.\n",
    "* It uses name mangling, therefore it will ensure accidenal protection."
   ]
  },
  {
   "cell_type": "markdown",
   "metadata": {},
   "source": [
    "**Q14.** Create a Python class called 'Employee' with attributes 'name' and 'salary'. Then, create a child class 'Mananger' that inherits from 'Employee' and adds attribute 'department'. Provide an example.\n",
    "\n",
    "**Answer:**"
   ]
  },
  {
   "cell_type": "code",
   "execution_count": null,
   "metadata": {},
   "outputs": [],
   "source": [
    "class Employee:\n",
    "    def __init__(self, name, salary):\n",
    "        self.name = name\n",
    "        self.salary = salary\n",
    "\n",
    "class Manager(Employee):\n",
    "    def __init__(self, name, salary, department):\n",
    "        super().__init__(name, salary)\n",
    "        self.department = department\n",
    "    \n",
    "    def details(self):\n",
    "        print(\"Name: \", self.name)\n",
    "        print(\"Department: \", self.department)\n",
    "        print(f\"Salary: ${self.salary}\")\n",
    "\n",
    "# Create instance of class Manager\n",
    "self = Manager(\"Sahil Kumar Mandal\", 10000, \"Area manager\")\n",
    "\n",
    "# Access method\n",
    "self.details()"
   ]
  },
  {
   "cell_type": "markdown",
   "metadata": {},
   "source": [
    "**Q15.** Discuss the concept of method overloading in Python inheritance. How does it differ from method overriding?"
   ]
  },
  {
   "cell_type": "markdown",
   "metadata": {},
   "source": [
    "Answer: Method overloading and method overriding are two object-oriented programming concepts in Python, and they serve different purposes.\n",
    "\n",
    "*Method Overloading:*\n",
    "* Method overloading refers to the abilty to define multiple methods in a class with same name but different parameters. Python does not support method \n",
    "* overloading in the traditional sense as some other languages like Java or C++ do. In Python, the most recently defined methods with a particluar name will override any previously defined methods with the same name, regardless of the parameters.\n",
    "\n",
    "However, we can achieve a form of method overloading using default arguments and variable-length arguments (like *args and **kwargs). Here's an example:"
   ]
  },
  {
   "cell_type": "code",
   "execution_count": null,
   "metadata": {},
   "outputs": [],
   "source": [
    "class Calculator:\n",
    "    def add(self, *args):\n",
    "        return sum(args)\n",
    "\n",
    "calc = Calculator()\n",
    "result = calc.add(1, 2, 3)\n",
    "result = calc.add(1, 2)\n",
    "result = calc.add(1, 2, 3, 4, 5, 6, 7)"
   ]
  },
  {
   "cell_type": "markdown",
   "metadata": {},
   "source": [
    "*Method Overriding:*\n",
    "* Method overriding is a concept that allows a subclass to provide a specific implementation of a method that is already defined in its parent class. In other words, it allows a subcalss to change or extend the beahvior of a method from its superclass.\n",
    "* To override a method in Python, we can define a method with the same name and parameters in the subclass.\n",
    "\n",
    "Here's an example of method overriding:"
   ]
  },
  {
   "cell_type": "code",
   "execution_count": null,
   "metadata": {},
   "outputs": [],
   "source": [
    "class Animal:\n",
    "    def speak(self):\n",
    "        pass\n",
    "\n",
    "class Dog(Animal):\n",
    "    def speak(self):\n",
    "        print(\"Dog barks!\")\n",
    "\n",
    "class Cat(Animal):\n",
    "    def speak(self):\n",
    "        print(\"Cat meows!\")\n",
    "\n",
    "# Creating instance of subclass such that Cat and Dog\n",
    "dog = Dog()\n",
    "cat = Cat()\n",
    "\n",
    "# Accessing method\n",
    "dog.speak()\n",
    "cat.speak()"
   ]
  },
  {
   "cell_type": "markdown",
   "metadata": {},
   "source": [
    "**Q16.** Explain the purpose of '__init__()' method in Python and how it is utilized in child classes."
   ]
  },
  {
   "cell_type": "markdown",
   "metadata": {},
   "source": [
    "**Answer:** The '__init__' method in Python is a special method for initalizing objects of a class. It is also called the constructor method. When we create an instance of a class, the '__init__' method is automatically called, and it allows us to set up the initial state and attributes of the object. In the context of inheritance, the '__init__' method plays a crucial role in both the parent(base) class and child(deived) classes\n",
    "    \n",
    "The '__init__' method in both the parent and child classes allows for proper encapsulation of the object's state, making it easier to create instances of the classes with the required attributes and ensuring that the necessary setup is performed during object creation. This is a fundamental concept in object-oriented programming and helps maintain the integrity of the class hierarchy."
   ]
  },
  {
   "cell_type": "markdown",
   "metadata": {},
   "source": [
    "**Q17.** Create a Python class called \"Bird\" with a method 'fly()'. Then, create child classes 'Eagle' and 'Sparrow' that inherit from 'Bird' and implement 'fly()' method differently. Provide an example of using these classes.\n",
    "\n",
    "**Answer:**"
   ]
  },
  {
   "cell_type": "code",
   "execution_count": null,
   "metadata": {},
   "outputs": [],
   "source": [
    "class Bird:\n",
    "    def fly(self):\n",
    "        pass\n",
    "\n",
    "class Eagle(Bird):\n",
    "    def fly(self):\n",
    "        print(\"Eagle will fly\")\n",
    "\n",
    "class Sparrow(Bird):\n",
    "    def fly(self):\n",
    "        print(\"Sparrow will fly\")\n",
    "\n",
    "# Create instance of Eagle class and apply 'fly()' method on it\n",
    "eagle = Eagle()\n",
    "eagle.fly()\n",
    "\n",
    "# Create instance of Sparrow class and apply 'fly()' method on it\n",
    "sparrow = Sparrow()\n",
    "sparrow.fly()"
   ]
  },
  {
   "cell_type": "markdown",
   "metadata": {},
   "source": [
    "**Q18.** What is the 'diamond problem' in multiple inheritance, and how does Python address it?"
   ]
  },
  {
   "cell_type": "markdown",
   "metadata": {},
   "source": [
    "**Answer:** The 'diamond problem' is a common issue that arises in languages that support multiple inheritance, such as C++, and it occurs when a particular class inherits from two or more classes that have a common base class\n",
    "\n",
    "suppose we have the following class hierarchy:\n",
    "* Class 'D' inherits from both classes 'B' and 'C'.\n",
    "* Classes 'B' and 'C' both inherit from class 'A'.\n",
    "* If both 'B' and 'C' define a method or attribute with the same name, there can be ambiguity in class 'D'.\n",
    "\n",
    "To address the diamond problem and handle multiple inheritance gracefully, Python employs a mechanism called the \"C3 Linearization\" alogrithm, also known as C3 superclass linearization. This algorithm helps determine the method resolution order (MRO) in a consistent and predictable way.\n",
    "\n",
    "The C3 Linearization algorithm produces a linearized order for method lookup in the presence of multiple inheritance. It takes into account the class hierarchy and resolves the diamond problem by following these rules:\n",
    "\n",
    " 1. Depth-First Search (DFS): The algorithm starts with the class whose method is being called and follows a depth-first search order in the inheritance hierarchy.\n",
    " 2. Left-to-Right: When there are multiple base calsses at the same level of heirarchy, Python follows a left-to-right order. In the diamond problem example, it would         consider class 'B' before class 'C'.\n",
    " 3. Preserve Order: The original order of base classes in the class is defination is preserved.\n",
    "\n",
    "Here's how Python addresses the diamond problem with the C3 Linearization algorithm:"
   ]
  },
  {
   "cell_type": "code",
   "execution_count": null,
   "metadata": {},
   "outputs": [],
   "source": [
    "class A:\n",
    "    def foo(self):\n",
    "        print(\"A foo\")\n",
    "    \n",
    "class B(A):\n",
    "    def foo(self):\n",
    "        print(\"B foo\")\n",
    "\n",
    "class C(A):\n",
    "    def foo(self):\n",
    "        print(\"C foo\")\n",
    "\n",
    "class D(B, C):\n",
    "    pass\n",
    "\n",
    "d = D()\n",
    "d.foo()"
   ]
  },
  {
   "cell_type": "markdown",
   "metadata": {},
   "source": [
    "In this example, calling 'd.foo()' would print \"B foo\" because Python follows the MRO using the C3 Linearization alogrithm and selects the leftmost class 'B' as the method resolution. This approach ensures that there is no ambiguity in the method resolution order.\n",
    "\n",
    "By using the C3 Linearization alogrithm, Python avoids the diamond problem and provides a clear and consistent way to resolve method and attribute lookups in multiple inheritance scenarios."
   ]
  },
  {
   "cell_type": "markdown",
   "metadata": {},
   "source": [
    "**Q19.** Discuss the concept 'is-a' and 'has-a' relationship in inheritance, and provide examples of each."
   ]
  },
  {
   "cell_type": "markdown",
   "metadata": {},
   "source": [
    "**Answer:** The concepts of 'is-a' and 'has-a' relationship are fundamental in object-oriented programming and are often used to define the relationships between classes and objects.\n",
    "\n",
    " 1. 'Is-a' Relationship (Inheritance):\n",
    "* An 'is-a' relationship also known as 'inheritance' signifies that one class is a specialized version of another class. In other words, a subclass 'is-a' superclass. This relationship is represented by inheritance in OOP.\n",
    "* The subclass inherits attributes and behaviors form the superclass and can also have additional attributes and behaviors.\n",
    "* The 'is-a' relationship establishes an 'a kind of' or 'a type of' connection\n",
    "* Example"
   ]
  },
  {
   "cell_type": "code",
   "execution_count": null,
   "metadata": {},
   "outputs": [],
   "source": [
    "class Animal:\n",
    "    def speak(self):\n",
    "        pass\n",
    "\n",
    "class Dog(Animal):\n",
    "    def speak(self):\n",
    "        print(\"Dog barks!\")\n",
    "\n",
    "class Cat(Animal):\n",
    "    def speak(self):\n",
    "        print(\"Cat meows!\")\n",
    "\n",
    "dog = Dog()\n",
    "cat = Cat()\n",
    "\n",
    "# Here, Dog 'is-a' Animal and Cat 'is-a' Animal."
   ]
  },
  {
   "cell_type": "markdown",
   "metadata": {},
   "source": [
    " 2. 'Has-a' Relationship (Composition or Aggregation):\n",
    "* A 'has-s' relationship, also known as 'composition' or 'aggregation', signifies that one class constains an instance of another class as one of its attributes. This is a way to model that an object 'has' or 'contains' another object.\n",
    "* The 'has-a'relationship is used when one class is not a specialized version of another but needs to use the functionality or data of another class as a part or component.\n",
    "* It establishes a 'part of' connection.\n",
    "\n",
    "Example:"
   ]
  },
  {
   "cell_type": "code",
   "execution_count": null,
   "metadata": {},
   "outputs": [],
   "source": [
    "class Engine:\n",
    "    def start(self):\n",
    "        pass\n",
    "\n",
    "class Car:\n",
    "    def __init__(self):\n",
    "        self.engine = Engine() # Car 'has-a' Engine\n",
    "\n",
    "my_car = Car()\n",
    "\n",
    "# Here, Car 'has-a' Engine as a part of itself."
   ]
  },
  {
   "cell_type": "markdown",
   "metadata": {},
   "source": [
    "**Q20.** Create a Python class hierarchy for a university system. Start with a base class 'Person' and create child classes 'student' and 'Professor', each with their own attributes and methods. Provide an example of using this classes in a university context.\n",
    "\n",
    "**Answer:**"
   ]
  },
  {
   "cell_type": "code",
   "execution_count": null,
   "metadata": {},
   "outputs": [],
   "source": [
    "class Person:\n",
    "    def __init__(self, age, name):\n",
    "        self.name = name\n",
    "        self.age = age\n",
    "    \n",
    "    def introduce(self):\n",
    "        return f\"My name is {self.name}, and I am {self.age} years old.\"\n",
    "\n",
    "class Student(Person):\n",
    "    def __init__(self, name, age, student_id):\n",
    "        super().__init__(age, name)\n",
    "        self.student_id = student_id\n",
    "    \n",
    "    def study(self):\n",
    "        return f\"{self.name} with student ID {self.student_id} is studying hard as a student.\"\n",
    "    \n",
    "class Professor(Person):\n",
    "    def __init__(self, name, age, employee_id, department):\n",
    "        super().__init__(age, name)\n",
    "        self.employee_id = employee_id\n",
    "        self.department = department\n",
    "    \n",
    "    def teach(self, subject):\n",
    "        return f\"Professor {self.name} is teaching {subject} in the {self.department}\"\n",
    "\n",
    "# Example of using the classes in a university context:\n",
    "student1 = Student(\"Sahil Kumar Mandal\", 20, 22510220077)\n",
    "student2 = Student(\"Mark Zuckerberg\", 25, 1234567890)\n",
    "professor1 = Professor(\"Mr. Bill Gates\", 45, 2345634, \"Computer Science\")\n",
    "professor2 = Professor(\"Mr. Elon Musk\", 55, 'PR567', \"Mathematics\")\n",
    "\n",
    "student1.introduce()\n",
    "student1.study()\n",
    "\n",
    "student2.introduce()\n",
    "student2.study()\n",
    "\n",
    "professor1.introduce()\n",
    "professor1.teach(\"Computer Networks\")\n",
    "\n",
    "professor2.introduce()\n",
    "professor2.teach('calculus')"
   ]
  },
  {
   "cell_type": "markdown",
   "metadata": {},
   "source": [
    "# Encapsulation:"
   ]
  },
  {
   "cell_type": "markdown",
   "metadata": {},
   "source": [
    "**Q1.** Explain the concept of encapsulation in Python. What is its role in object-oriented programming?"
   ]
  },
  {
   "cell_type": "markdown",
   "metadata": {},
   "source": [
    "**Answer:** Encapsulation is a fundamental concept in object-oriented programming (OOP) that involves bundling data and methods that operate on that data within a single unit. This bundling helps to protect the data from being modified by unauthorized code and promotes modularity and code reusability.\n",
    "\n",
    "In Python, encapsulation is achieved through the use of classes. A class is a blueprint for creating objects, and it encapsulates the data(attributes) and behavior (methods) of those objects. By defining which attributes and methods are accessible to outside code, a class enfore encapsulation.\n",
    "\n",
    "**Role of Encapsulation in OOP:**\n",
    "\n",
    "*Encapsulation plays a crucial role in OOP by enforcing data abstraction and promoting modularity. It helps to achieve the following principles of OOP:*\n",
    "\n",
    " 1. *Abstraction:* Encapsulation allows for abstraction by hiding the implementation details of a class and exposing only the necessary methods to interact with the data.\n",
    "\n",
    " 2. *Modularity:* Encapsulation promotes modularity by breaking down complex systems into smaller, independent units, making code more organized and manageable.\n",
    "\n",
    " 3. *Information Hiding:* Encapsulation supports information hiding by restricting direct access to class intervals, preventing unintended modification and promoting data integrity."
   ]
  },
  {
   "cell_type": "markdown",
   "metadata": {},
   "source": [
    "**Q2.** Describe the key principles of encapsulation, including access control and data hiding."
   ]
  },
  {
   "cell_type": "markdown",
   "metadata": {},
   "source": [
    "**Answer**: The key principles of encapsulation include access control and data hiding:\n",
    "\n",
    " 1. *Access Control:* Access control is a mechanism to define the level of visibility and interaction with the internal state (attributes) and behavior (methods) of an object. It allows us to control who can access and modify the attributes and methods of a class. There are three main levels of access control:\n",
    "    \n",
    "* Public: Public attributes and methods are accessible from anywhere in our program. They are not restricted, and there are no access modifiers. In Python, public attributes and methods are defined without any prefixes or underscores.\n",
    "\n",
    "* Protected: Protected attributes and methods are considered non-public, but they are a convention rather than a strict access control mechanism in Python. By convention, they are indicated with a single underscore prefix (eg., '_variable' or '_method()'). it's a way to indicate that these elements are intended for internal use within the class \n",
    "or its subclasses, but they can still be accessed from outside.\n",
    "\n",
    "* Private: Private attributes and methods are meant to be inaccessible from outside the class. In Python, name mangling is used to make them less accessible by adding the class name as a prefix to the attribute or method name(eg., '__variable' or '__method()'). While they are not entirely private, it discourages direct access from outside the class.\n",
    "\n",
    " 2. *Data Hiding:* Data hiding is a core aspect of encapsulation that involves restricting direct access to the internal attributes of an object. The idea is to hide the internal state of an object and provide condtrolled access throgh methods. This promotes data integrity and prevents unintended modifications to the object's state.\n",
    "\n",
    "  Benefits of data hiding:\n",
    "* It prevents external code from directly modyfying object attributes, which can help maintain the object's consistency.\n",
    "* It allows us to encapsulate complex logic within the class methods, making the class's interface more user-friendly.\n",
    "* It proides a level of abstraction, enabling us to change the internal implementation details without affecting the code that used that class\n",
    "\n",
    "By adhering to the principles of encapsulation, we can create classes that are more maintainable, modular, and less error-prone. It also promotes code reusability and helps manage the complexity of larger software projects."
   ]
  },
  {
   "cell_type": "markdown",
   "metadata": {},
   "source": [
    "**Q3.** How can you acheive encapsulation in Python classes? Provide an example."
   ]
  },
  {
   "cell_type": "markdown",
   "metadata": {},
   "source": [
    "**Answer:** Here's how we can achieve encapsulation in Python:\n",
    " 1. *Public Attributes and Methods:* These are accessible from anywhere. They are not preceded by underscores."
   ]
  },
  {
   "cell_type": "code",
   "execution_count": null,
   "metadata": {},
   "outputs": [],
   "source": [
    "class MyClass:\n",
    "    def __init__(self, value):\n",
    "        self.value = value      # Public attribute\n",
    "    \n",
    "    def display(self):\n",
    "        print(self.value)       # Public method\n",
    "\n",
    "obj = MyClass(23)\n",
    "print(obj.value)    # Accessing the public attribute\n",
    "obj.display()       # Calling the public method"
   ]
  },
  {
   "cell_type": "markdown",
   "metadata": {},
   "source": [
    " 2. *Protected Attributes and Methods:* These are indicated by a single underscore prefix (e.g., '_variable' or 'method()'). They are considered non-public, but it's more of a convention, and Python doesn't Python doesn't enforce strict access control for these. It's a way to indicate that the attribute or method is intended for internal use within the class or its subclasses."
   ]
  },
  {
   "cell_type": "code",
   "execution_count": null,
   "metadata": {},
   "outputs": [],
   "source": [
    "class MyClass:\n",
    "    def __init__(self, value):\n",
    "        self._value = value   # Protected attribute\n",
    "    \n",
    "    def _display(self):\n",
    "        print(self._value)    # Protected method\n",
    "\n",
    "obj = MyClass(34)\n",
    "print(obj._value)    # Accessing the protected attribute (not recommended)\n",
    "obj._display()       # Calling the protected method (not recommended)"
   ]
  },
  {
   "cell_type": "markdown",
   "metadata": {},
   "source": [
    " 3. *Private Attributes and Methods:* These are indicated by a double underscore prefix (e.g., '__variable' or '__method()). Python name mangling is used to make them less accessible from outside the class. They can still be accessed, but it's not encouraged."
   ]
  },
  {
   "cell_type": "code",
   "execution_count": null,
   "metadata": {},
   "outputs": [],
   "source": [
    "class MyClass:\n",
    "    def __init__(self, value):\n",
    "        self.__value = value     # Private attribute\n",
    "    \n",
    "    def __display(self):\n",
    "        print(self.__value)      # Private method\n",
    "\n",
    "obj = MyClass(45)\n",
    "# Accessing private attribute and methods directly is discouraged and may result name mangling\n",
    "# However, it is still possible:\n",
    "print(obj._MyClass__value)      # Accessing the private attribute\n",
    "obj._MyClass__display()         # Calling the private method"
   ]
  },
  {
   "cell_type": "markdown",
   "metadata": {},
   "source": [
    "**Q4.** Discuss the difference between public, private and protected access modifiers in Python."
   ]
  },
  {
   "cell_type": "markdown",
   "metadata": {},
   "source": [
    "**Answer:** In Python, access modifiers are used to control the visibility and accessibility of class members (attributes and methods). There are three main access modifiers: public, private, and protected, each serving a different purpose and providing different levels of encapsulation.\n",
    "\n",
    " 1. *Public:*\n",
    "* Members with public access modifiers are accessible from outside the class.\n",
    "* By default, all class members are public in Python, meaning they can be accessed from anywhere, even from outside the class.\n",
    "* We can access a public member using a dot notation, such as 'object.member' or 'object.method()'."
   ]
  },
  {
   "cell_type": "code",
   "execution_count": null,
   "metadata": {},
   "outputs": [],
   "source": [
    "class Student:\n",
    "    def __init__(self, name, student_id, standard):\n",
    "        self.name = name\n",
    "        self.student_id = student_id\n",
    "        self.standard = standard\n",
    "    \n",
    "    def study(self):\n",
    "        print(f\"{self.name} of standard {self.standard} is the brilliant student in sports and study.\")\n",
    "\n",
    "# Creating instance of Student class\n",
    "student1 = Student(\"Sahil Kumar Mandal\", 'B6A98', '12th')\n",
    "\n",
    "# Accessing the public attributes and method from the Student class\n",
    "student1.name\n",
    "student1.student_id\n",
    "student1.standard\n",
    "student1.study()"
   ]
  },
  {
   "cell_type": "markdown",
   "metadata": {},
   "source": [
    " 2. *Private:*\n",
    "* Members with private access modifiers are intended to be used only within the class that defines them.\n",
    "* In Python, we can create private member by prefixing its name with a double underscore, like '__private_member'.\n",
    "* Although it's not truly private (Python used name mangling to make it less accessible, but it's still possible to access),\n",
    "* it serves as a convention to indicate that a member is intended for internal use within the class.\n",
    "    \n",
    "    Example:"
   ]
  },
  {
   "cell_type": "code",
   "execution_count": null,
   "metadata": {},
   "outputs": [],
   "source": [
    "class MyClass:\n",
    "    def __init__(self):\n",
    "        self.__private_variable = 45\n",
    "    \n",
    "    def __private_method(self):\n",
    "        return \" This is a private method.\"\n",
    "\n",
    "obj = MyClass()\n",
    "# Attempting to access a private variable or method from outside the class may result an error or unexpected behavior\n",
    "# obj.__private_variable    # This will raise an error\n",
    "# obj.__private_method()    # This will raise an error"
   ]
  },
  {
   "cell_type": "markdown",
   "metadata": {},
   "source": [
    " 3. *Protected:*\n",
    "* Members with the protected access modifiers are intended to be used within the class and its subclasses.\n",
    "* In Python, we can create a protected member by prefixing its name with a single underscore, like '_protected_member'.\n",
    "* Unlike private members, protected members do not have name mangling applied, so they can be accessed by subclasses and other classes if they are aware of the naming convention."
   ]
  },
  {
   "cell_type": "code",
   "execution_count": null,
   "metadata": {},
   "outputs": [],
   "source": [
    "class MyClass:\n",
    "    def __init__(self):\n",
    "        self._protected_variable = 45\n",
    "    \n",
    "    def _protected_method(self):\n",
    "        return \"This is a protected method.\"\n",
    "\n",
    "class MySubclass(MyClass):\n",
    "    def access_protected_member(self):\n",
    "        return self._protected_variable  # Accessing the protected variable from a subclass\n",
    "\n",
    "obj = MyClass()\n",
    "sub_obj = MySubclass()\n",
    "print(obj._protected_variable)  # Accessing a protected variable from outside the class.\n",
    "result = obj._protected_method()  # Accessing a protected method from outside the class.\n",
    "result_from_subclass = sub_obj.access_protected_member()  # Accessing a protected method from outside the subclass."
   ]
  },
  {
   "cell_type": "markdown",
   "metadata": {},
   "source": [
    "**Q5.** Create a Python class called 'person' with a private attribute '__name'. Provide methods to get and set the name attribute.\n",
    "\n",
    "**Answer:**"
   ]
  },
  {
   "cell_type": "code",
   "execution_count": null,
   "metadata": {},
   "outputs": [],
   "source": [
    "class Person:\n",
    "    def __init__(self):\n",
    "        self.__name = ''\n",
    "    \n",
    "    def get_name(self) ->str:\n",
    "        if len(self.__name) == 0:\n",
    "            raise ValueError(\"Please, first set your name\")\n",
    "        else:\n",
    "            return self.__name\n",
    "    \n",
    "    def set_name(self, name: str):\n",
    "        self.__name = name\n",
    "\n",
    "# Creating an instance of Person class\n",
    "person = Person()\n",
    "\n",
    "person.set_name(\"Sahil Kumar Mandal\")  # Setting person name \n",
    "person.get_name()"
   ]
  },
  {
   "cell_type": "markdown",
   "metadata": {},
   "source": [
    "**Q6.** Explain the purpose of getter and setter methods in encapsulation. Provide examples."
   ]
  },
  {
   "cell_type": "markdown",
   "metadata": {},
   "source": [
    "**Answer:** Getter and setter methods are an important aspect of encapsulation in object-oriented programming. They are used to control access to the private or protected attributes of an object, allowing you to enforce data validation and provide a level of abstraction over the object's state. This helps ensure that the object's internal state is accessed and modified in a contolled and consistent manner, improving code quality and maintianability.\n",
    "\n",
    "Here's an explanation of the purpose of getter and setter methods and exampes in Python:\n",
    "\n",
    " 1. *Getter Methods:*\n",
    "* Getter methods, also known as accessor methods, are used to retrieve the values of private or protected attributes of an object.\n",
    "* They provide controlled read-only access to the attributes, allowing you to enforce validation or perform some logic before returning the value.\n",
    "    \n",
    "Example of a getter method:"
   ]
  },
  {
   "cell_type": "code",
   "execution_count": null,
   "metadata": {},
   "outputs": [],
   "source": [
    "class Person:\n",
    "    def __init__(self, name, age):\n",
    "        self._name = name   # Protected attribute\n",
    "        self._age = age\n",
    "    \n",
    "    def get_name(self):\n",
    "        return self._name\n",
    "    \n",
    "    def get_age(self):\n",
    "        return self._age\n",
    "\n",
    "# Create a Person object\n",
    "person = Person('Sahil Kumar Mandal', 20)\n",
    "\n",
    "# Access attributes using getter methods\n",
    "print(person.get_name())\n",
    "print(person.get_age())"
   ]
  },
  {
   "cell_type": "markdown",
   "metadata": {},
   "source": [
    " 2. *Setter Methods:*\n",
    "* Setter methods, also known as mutator methods, are used to modify the values of private or protected attributes of an object.\n",
    "* They provide controlled write access to the attributes, allowing us to enforce validation or perform some logic before setting the value.\n",
    "    \n",
    "Example of a setter method:"
   ]
  },
  {
   "cell_type": "code",
   "execution_count": null,
   "metadata": {},
   "outputs": [],
   "source": [
    "class Person:\n",
    "    def __init__(self, name, age):\n",
    "        self._name = name\n",
    "        self._age = age\n",
    "    \n",
    "    def set_name(self, new_name):\n",
    "        if len(new_name) > 0:\n",
    "            self._name = new_name\n",
    "    \n",
    "    def set_age(self, new_age):\n",
    "        if new_age >= 0:\n",
    "            self._age = new_age\n",
    "\n",
    "# Create a Person object\n",
    "person = Person(\"Mr. Mark Zuckerberg\", 25)\n",
    "\n",
    "# Modify attributes using setter methods\n",
    "person.set_name(\"Sahil Kumar Mandal\")\n",
    "person.set_age(20)\n",
    "\n",
    "print(f\"Name: {person._name}\\nAge: {person._age}\")"
   ]
  },
  {
   "cell_type": "markdown",
   "metadata": {},
   "source": [
    "**Q7.** What is name mangling in Python, and how does it affect encapsulation?"
   ]
  },
  {
   "cell_type": "markdown",
   "metadata": {},
   "source": [
    "**Answer:** Name mangling is a technique in Python that is used to make the names of attributes in a class more unique by adding a prefix to them. This is typically done to avoid unitentional name clashes between attributes in a class hierarchy. Name mangling is achieved by adding double underscore as a prefix to an an attribute name.\n",
    "\n",
    "In Python, when we define an attribute with a name that starts with double underscores, such as '__attribute_name', Python internally modifies the name to include the class name as a prefix. The modified name is constructed as '_classnam__attribute_name'. For example, if we have a class named 'MyClass' and we define an attribute as '__my_attribute', Python will mangle the name to '_MyClass_my_attribute'.\n",
    "\n",
    "Here's an example to illustrate name mangling:"
   ]
  },
  {
   "cell_type": "code",
   "execution_count": null,
   "metadata": {},
   "outputs": [],
   "source": [
    "class MyClass:\n",
    "    def __init__(self):\n",
    "        self.__private_variable = 45\n",
    "\n",
    "my_object = MyClass()\n",
    "print(my_object.__private_variable)  # This will raise an AttributeError\n",
    "\n",
    "# Accessing the mangled name directly\n",
    "print(my_object._MyClass__private_variable)   # This will work"
   ]
  },
  {
   "cell_type": "markdown",
   "metadata": {},
   "source": [
    "In terms of encapsulation, name mangling is a form of 'name hiding' or 'data encapsulation' in Python. It's not the same as access control as seen in some other programming languages, like private, protected, or public access modifiers. In Python, everything is public, but name mangling is a way to make attributes less accessible and to avoid accidental name conflicts.\n",
    "\n",
    "Name mangling can help improve encapsulation by making it less likely for accidental attributes name conflicts to occur in subclasses. It allows us to define attributes with the same name in different classes without worrying about name collisons. However, it doesn't provide strict access control or enforce encapsulation, as it's still possible to access mangles attributes if we really want us. "
   ]
  },
  {
   "cell_type": "markdown",
   "metadata": {},
   "source": [
    "**Q8.** Create a Python class called 'BankAccount' with private attribute for the account balance ('__balance') and account number ('__account_number'). Provide methods for depositing and withdrawing money.\n",
    "\n",
    "**Answer:**"
   ]
  },
  {
   "cell_type": "code",
   "execution_count": null,
   "metadata": {},
   "outputs": [],
   "source": [
    "import logging\n",
    "logging.basicConfig(\n",
    "    filename = 'BankAccount.log',\n",
    "    level = logging.DEBUG,\n",
    "    format = '%(asctime)s - %(levelname)s - %(message)s'\n",
    ")\n",
    "\n",
    "class BankAccount:\n",
    "    def __init__(self, account_number: str, balance: str):\n",
    "        self.__account_number = account_number\n",
    "        self.__balance = balance\n",
    "        logging.info(f\"Bank account page - Account number: {self.__account_number}, Balance: {self.__balance}\")\n",
    "    \n",
    "    def deposit(self, amount: str):\n",
    "        \"\"\"Deposit amount into bank account\n",
    "        \"\"\"\n",
    "        logging.info(f\"Deposited ${amount} in this account\")\n",
    "        try:\n",
    "            if amount > 0:\n",
    "                self.__balance += amount\n",
    "                logging.info(f\"Amount ${amount} credited successfully from this account.\")\n",
    "            elif amount <= 0:\n",
    "                raise ValueError(\"Deposited amount must be positive.\")\n",
    "            else:\n",
    "                raise ValueError(\"Some error is occuring, please check this deposited amount.\")\n",
    "        except ValueError as v:\n",
    "            logging.error(v)\n",
    "    \n",
    "    def withdraw(self, amount: str):\n",
    "        \"\"\"Withdraw amount from the bank account\n",
    "        \"\"\"\n",
    "        logging.info(f\"Withdrawing ${amount} from this account.\")\n",
    "        try:\n",
    "            if 0 < amount <= self.__balance:\n",
    "                self.__balance -= amount\n",
    "                logging.info(f\"Amount ${amount} debited successfully from this account\")\n",
    "            elif amount >= self.__balance:\n",
    "                raise ValueError(\"Insufficient fund for withdrawl.\")\n",
    "            elif amount <= 0:\n",
    "                raise ValueError(\"Withdrawl amount must be positive\")\n",
    "            else:\n",
    "                raise ValueError(\"Some error is occuring, please check this withdrawl amount.\")\n",
    "        except ValueError as v:\n",
    "            logging.error(v)\n",
    "    \n",
    "    def get_balance(self) -> str:\n",
    "        \"\"\"Showing account balance\"\"\"\n",
    "        logging.info(f\"Current blance of this account: ${self.__balance}\")\n",
    "\n",
    "# Example usage:\n",
    "my_account = BankAccount(1234567890, 55000)  # Creating instance of BankAccount \n",
    "my_account.deposit(500)                      # Deposit $500 in BankAccount\n",
    "my_account.withdraw(2500)                    # Withdrew $2500 form BankAccount\n",
    "my_account.get_balance()                     # Checking acccount balance of BankAccount"
   ]
  },
  {
   "cell_type": "markdown",
   "metadata": {},
   "source": [
    "**Q9.** Discuss the advantage of encapsulation in terms of code maintainability and security."
   ]
  },
  {
   "cell_type": "markdown",
   "metadata": {},
   "source": [
    "**Answer:** Encapsulation is a key principle of object-oriented programming (OOP) that involves bundling data (attributes) and methods (behavior) together within a class. This cocepts promotes code maintainability and security by hiding the implementation details of a class and exposing only the necessary methods to interact with its data.\n",
    "\n",
    "*Code Maintainability:*\n",
    "\n",
    "* Encapsulation enhances code maintainability by making it easier to understand, modify and debug code. By grouping related data and methodss together, it creates self-contained units that are easier to grasp and manage. This modularity allows developers to make changes to a class without affecting other parts of the program, reducing the risk of introducing bugs.\n",
    "\n",
    "* Imagine a class that represents a bank account. Encapsulating the account balance and related methods within the class makes it clear how to interact with the account data. Developers can easily modify the implementation details of the account behavior without affecting other parts of the program.\n",
    "\n",
    "*Security:*\n",
    "\n",
    "* Encapsulation plays a crucial role in securing code by protecting sensitive data from unauthorized acces. By keeping data members private, encapsulation limits direct access to data, preventing external code from manipulating it directly. This controlled access reduces the risk of data breaches and ensures data integrity.\n",
    "\n",
    "* Consider a class that stores user credentials. Encapsulating the usename and password within the class and providing methods to authenticate users protects these sensitive credentials from being directly accessed by other parts of the program. This approach safeguards user information and enhances the overll security of the application. "
   ]
  },
  {
   "cell_type": "markdown",
   "metadata": {},
   "source": [
    "**Q10.** How can you access the private attributes in Python? Provide an example demonstrating the use of name mangling"
   ]
  },
  {
   "cell_type": "markdown",
   "metadata": {},
   "source": [
    "**Answer:** We can access private attributes in Python using a technique called name mangling. Name mangling involves adding a prefix to the attribute name, which makes it more difficult (but not impossible) to access from outside the class.\n",
    "\n",
    "Here's an example demonstrating name mangling:"
   ]
  },
  {
   "cell_type": "code",
   "execution_count": 1,
   "metadata": {},
   "outputs": [
    {
     "name": "stdout",
     "output_type": "stream",
     "text": [
      "Value of private attribute: 45\n"
     ]
    }
   ],
   "source": [
    "class MyClass:\n",
    "    def __init__(self):\n",
    "        self.__private_attribute = 45\n",
    "    \n",
    "    def get_private_attribute(self):\n",
    "        return self.__private_attribute\n",
    "\n",
    "# Creating an instance of the class\n",
    "obj = MyClass()\n",
    "\n",
    "# Accessing the private attribute using a method\n",
    "value = obj.get_private_attribute()\n",
    "print(\"Value of private attribute:\", value)\n",
    "\n",
    "# Attempting to access the private attribute dirctly will result in  AttributeError\n",
    "# Uncommenting the next line will result in an error\n",
    "# print(obj.__private_attribute)"
   ]
  },
  {
   "cell_type": "markdown",
   "metadata": {},
   "source": [
    "In this example, the '__private_attribute' is a private attribute. The 'get_private_attribute' method is provided to access the private attribute. Attempting to access '__private_attribute' directly from outside the class will result in an 'AttributeError'."
   ]
  },
  {
   "cell_type": "markdown",
   "metadata": {},
   "source": [
    "**Q11.** Create a Python class hierarchy for a school system, including classes for students, teachers, and cources, and implement encapsulation principles to protect sensitive information.\n",
    "\n",
    "**Answer:**"
   ]
  },
  {
   "cell_type": "code",
   "execution_count": null,
   "metadata": {},
   "outputs": [],
   "source": [
    "class Person:\n",
    "    def __init__(self, name, age, address):\n",
    "        self._name = name\n",
    "        self._age = age\n",
    "        self._address = address\n",
    "\n",
    "    def display_info(self):\n",
    "        print(f\"Name: {self._name}\\nAge: {self._age}\\nAddress: {self._address}\") \n",
    "\n",
    "class Student(Person):\n",
    "    def __init__(self, name, age, address, student_id):\n",
    "        super().__init__(name, age, address)\n",
    "        self._student_id = student_id\n",
    "        self._grades = {}\n",
    "    \n",
    "    def add_grade(self, course_name, grade):\n",
    "        self._grades[course_name] = grade\n",
    "    \n",
    "    def display_info(self):\n",
    "        super().display_info()\n",
    "        print(f\"Student ID: {self._student_id}\\nGrades: {self._grades}\")\n",
    "\n",
    "class Teacher(Person):\n",
    "    def __init__(self, name, age, address, employee_id):\n",
    "        super().__init__(name, age, address)\n",
    "        self._employee_id = employee_id\n",
    "        self._salary = 0\n",
    "    \n",
    "    def set_salary(self, salary):\n",
    "        self._salary = salary\n",
    "    \n",
    "    def display_info(self):\n",
    "        super().display_info()\n",
    "        print(f\"Employee ID: {self._employee_id}\\nSalary: ${self._salary}\")\n",
    "\n",
    "class Course:\n",
    "    def __init__(self, course_name, course_code):\n",
    "        self._course_name = course_name\n",
    "        self._course_code = course_code\n",
    "    \n",
    "    def display_info(self):\n",
    "        print(f\"Course: {self._course_name} ({self._course_code})\")\n",
    "\n",
    "# Example Usage:\n",
    "\n",
    "# Creating instacnes of classes\n",
    "student1 = Student(\"Sahil Kumar Mandal\", 20, 'New friends colony, 110025', 'DG123')\n",
    "teacher1 = Teacher(\"Mr. Mark Zuckerberg\", 45, 'San francisco', 'ER129')\n",
    "course1 = Course(\"Mathematics\", 'MATH101')\n",
    "\n",
    "# Displaying information\n",
    "student1.display_info()\n",
    "teacher1.display_info()\n",
    "course1.display_info()\n",
    "\n",
    "# Adding grade for a student\n",
    "student1.add_grade(\"Mathematics\", 99)\n",
    "student1.add_grade(\"Computer networks\", 88)\n",
    "\n",
    "# Setting salary for a teacher\n",
    "teacher1.set_salary(50000)\n",
    "\n",
    "# Displaying updated information\n",
    "student1.display_info()\n",
    "teacher1.display_info()"
   ]
  },
  {
   "cell_type": "markdown",
   "metadata": {},
   "source": [
    "**Q12.** Explain the concept of property decorators in Python and how they relate to encapsulation."
   ]
  },
  {
   "cell_type": "markdown",
   "metadata": {},
   "source": [
    "**Answer:** In Python, the 'property' decorators is a built-in feature that allows us to define getter, setter, and deleter methods for a class attribute. It provides a way to encapsulate the access to class attributes by allowing us to control how values are retrieved, set, and deleted. This is closely related to the concept of encapsulation, which is one of the fundamental principles of object-oriented programming. "
   ]
  },
  {
   "cell_type": "code",
   "execution_count": null,
   "metadata": {},
   "outputs": [],
   "source": [
    "class Circle:\n",
    "    def __init__(self, radius):\n",
    "        self._radius = radius\n",
    "    \n",
    "    @property\n",
    "    def radius(self):\n",
    "        return self._radius\n",
    "    \n",
    "    @radius.setter\n",
    "    def radius(self, value):\n",
    "        print(\"Setting radius\")\n",
    "        self._radius = value\n",
    "    \n",
    "    @radius.deleter\n",
    "    def radius(self):\n",
    "        print(\"Deleting radius\")\n",
    "        del self._radius\n",
    "\n",
    "# Example usage\n",
    "given_circle = Circle(23)        # Creating the instace of the Circle\n",
    "print(given_circle.radius)       # Access the radius attribute\n",
    "given_circle.radius = 34         # Modify the radius attribute\n",
    "del given_circle.radius          # Deleting the radius attribute"
   ]
  },
  {
   "cell_type": "markdown",
   "metadata": {},
   "source": [
    "**Q13.** What is data hiding, and why is it important in encapsulation? Provide examples. "
   ]
  },
  {
   "cell_type": "markdown",
   "metadata": {},
   "source": [
    "**Answer:** Data hiding is a programming technique that protect data from unauthorized access and modification. It is achieved by making the data private, meaning that it can only be accessed and modified within the class or module in which it is defined.\n",
    "\n",
    "Encapsulation is a programmig concept that bundles data and its associated behavior together within a single unit, such as a class or module. This makes the code more reusable and maintainable, and it also helps to protect the data from accidental modification.\n",
    "\n",
    "Data hiding is an important part of encapsulation because it helps to ensure that the data is only accessed and modified in a controlled way. This can help to prevent errors and security vulenerabilities.\n",
    "\n",
    "Here are some examples of data hiding in encapsulation:\n",
    "\n",
    "* In a class, we can declare attributes as private by prefixing them with a double underscore (__). This makes them inaccessible from outside the class. We can then provide public getter and setter methods for the attributes, which allow us to control how they are accessed and modified.\n",
    "* Here's a practical example:"
   ]
  },
  {
   "cell_type": "code",
   "execution_count": null,
   "metadata": {},
   "outputs": [],
   "source": [
    "class Circle:\n",
    "    def __init__(self, radius):\n",
    "        self.__radius = radius\n",
    "    \n",
    "    @property\n",
    "    def radius(self):\n",
    "        return self.__radius\n",
    "    \n",
    "    @radius.setter\n",
    "    def radius(self, value):\n",
    "        print(\"Setting radius\")\n",
    "        self.__radius = value\n",
    "    \n",
    "    @radius.deleter\n",
    "    def radius(self):\n",
    "        print(\"Deleting radius\")\n",
    "        del self.__radius\n",
    "\n",
    "given_circle = Circle(34)    # Creating an instance of the Circle class\n",
    "print(given_circle.radius)   # Accessing the radius attribute\n",
    "given_circle.radius = 2      # Modifying the radius attribute\n",
    "del given_circle.radius      # Deletig the radius attribute\n"
   ]
  },
  {
   "cell_type": "markdown",
   "metadata": {},
   "source": [
    "**Q14.** Create a Python class called 'Employee' with private attributes for salary ('__salary') and emplyee ID ('__employee_id'). Provide a method to calculate yearly bonuses.\n",
    "\n",
    "**Answer:**"
   ]
  },
  {
   "cell_type": "code",
   "execution_count": null,
   "metadata": {},
   "outputs": [],
   "source": [
    "class Employee:\n",
    "    def __init__(self, employee_id, salary):\n",
    "        self.__employee_id = employee_id\n",
    "        self.__salary = salary\n",
    "    \n",
    "    @property\n",
    "    def employee_id(self):\n",
    "        return self.__employee_id\n",
    "    \n",
    "    @property\n",
    "    def salary(self):\n",
    "        return self.__salary\n",
    "    \n",
    "    @salary.setter\n",
    "    def salary(self, new_salary):\n",
    "        if new_salary >= 0:\n",
    "            self.__salary\n",
    "        else:\n",
    "            print(\"Salary must be non-negative.\")\n",
    "    \n",
    "    def calculate_yearly_bonus(self, bonus_percentage):\n",
    "        if 0 <= bonus_percentage <= 100:\n",
    "            bonus_amount = (bonus_percentage / 100) * self.__salary\n",
    "            return bonus_amount\n",
    "        else:\n",
    "            print(\"Bonus percentage must be between 0 to 100.\")\n",
    "\n",
    "# Example usage:\n",
    "employee1 = Employee('AR189', 5000)\n",
    "print(\"Employee ID:\", employee1.employee_id)\n",
    "print(f\"Current salary: ${employee1.salary}\")\n",
    "\n",
    "# Set a new salary\n",
    "employee1.salary = 55000\n",
    "print(f\"Updated Salary: ${employee1.salary}\")\n",
    "\n",
    "# Calculate and display a yearly bonus\n",
    "bonus_percentage = 10\n",
    "yearly_bonus = employee1.calculate_yearly_bonus(bonus_percentage)\n",
    "print(f\"Yearly Bonus ({bonus_percentage}%): ${yearly_bonus}\")"
   ]
  },
  {
   "cell_type": "markdown",
   "metadata": {},
   "source": [
    "**Q15.** Discuss the use of accessors and mutators in encapsulation. How do they help maintain control over the attribute access."
   ]
  },
  {
   "cell_type": "markdown",
   "metadata": {},
   "source": [
    "**Answer:** Accessors and mutators are methods that are used to get and set the values private attributes in a class. They are an essential part of encapsulation, which is a programming concept that bundles data and its associated behavior together within a sigle unit, such as a class or module.\n",
    "\n",
    "*Accessors are methods that return the value of a private attribute.*\n",
    "*Mutators are methods that set the value of a private attribute.*\n",
    "*Accessore and mutators help to maintain control over attribute access in the following ways:*\n",
    "\n",
    "* They prevent direct access to the private attributes, which helps to protect them from accidental modifcation.\n",
    "\n",
    "* They allow us to implement custom logic for getting and setting the attributes. This can be useful for things like validating the input, performing calculations, or lazy loading.\n",
    "\n",
    "* They allow us to change the implementation of the private attributes without affecting the code that used the accessors and mutators. This makes the code more maintainable and flexible.\n",
    "    \n",
    "Here is an example of how to use accessors and mutators to encapsulate the data of a class:"
   ]
  },
  {
   "cell_type": "code",
   "execution_count": null,
   "metadata": {},
   "outputs": [],
   "source": [
    "class Person:\n",
    "    def __init__(self, first_name, last_name):\n",
    "        self._first_name = first_name\n",
    "        self._last_name = last_name\n",
    "    \n",
    "    def get_first_name(self):\n",
    "        return self._first_name\n",
    "    \n",
    "    def set_first_name(self, value):\n",
    "        if isinstance(value, str):\n",
    "            self._first_name = value\n",
    "        else:\n",
    "            raise ValueError(\"First name must be a string.\")\n",
    "\n",
    "    def get_last_name(self):\n",
    "        return self._last_name\n",
    "    \n",
    "    def set_last_name(self, value):\n",
    "        if isinstance(value, str):\n",
    "            self._last_name = value\n",
    "        else:\n",
    "            raise ValueError(\"Last name must be a string.\")\n",
    "\n",
    "# Creating an instance of the Person class\n",
    "person = Person(\"Sahil Kumar\", 'Mandal')  \n",
    "\n",
    "# Accessing the first_name and last_name attributes \n",
    "person.get_first_name()    \n",
    "person.get_last_name()    \n",
    "\n",
    "# Modifying the first_name and last_name attributes\n",
    "person.set_first_name(\"Mark\")\n",
    "person.set_last_name('Zuckerberg')\n",
    "\n",
    "# Accessing the modifyied first_name and last_name attributes\n",
    "person.get_first_name()    \n",
    "person.get_last_name()     "
   ]
  },
  {
   "cell_type": "markdown",
   "metadata": {},
   "source": [
    "**Q16.** What are the potential drawbacks or disadvantages of using encapsulation in Python?"
   ]
  },
  {
   "cell_type": "markdown",
   "metadata": {},
   "source": [
    "**Answer:** While encapsulation has many benefits, there are also some potential drawbacks or disadvantages to cosider:\n",
    "\n",
    "* Increased code complexity: Encapsulation can make code more complex, especially for large or complex projects. This is because we need to carefully plan and implement the accessors and mutators for each private attribute.\n",
    "\n",
    "* Reduced performance: Encapsulation can also lead to reduced performance, as there is additional overhead associated with accessing and modifying private attributes. This is especially true or languages like Python, which do not have strict typing.\n",
    "\n",
    "* Reduced flexibility: Encapsulation can also reduce the flexibility of our code. This is because it can be difficult to change the implementation of private attributes without breaking the code that uses them.\n",
    "    \n",
    "Additionally, here are some other potential drawbacks of using encapsulation in Python:\n",
    "        \n",
    "* Incresed code size: Encapsulating data can lead to an increase in the size of our code, as we need to provide accessors and mutators for each private attribute.\n",
    "\n",
    "* Difficult to debug: Encapsulation can make it more to debug our code, as we need to understand how the accessors and mutators work in order to track down errors.\n",
    "\n",
    "* Overuse of encapsulation: Encapsulating too much data can make our code more difficult to understand and maintain. It is important to strike a balance between encapsulation and flexibility. "
   ]
  },
  {
   "cell_type": "markdown",
   "metadata": {},
   "source": [
    "**Q17.** Create a Python class for a library system that encapsulates book information, including titles, authors, and availability status.\n",
    "\n",
    "**Answer:**"
   ]
  },
  {
   "cell_type": "code",
   "execution_count": null,
   "metadata": {},
   "outputs": [],
   "source": [
    "class Library:\n",
    "    def __init__(self):\n",
    "        self._books = []\n",
    "    \n",
    "    def add_book(self, title, author):\n",
    "        \"\"\"Add a book to the library's collection.\"\"\"\n",
    "        book = {'Title': title, 'Author': author}\n",
    "        self._books.append(book)\n",
    "\n",
    "    def check_availability(self, title):\n",
    "        \"\"\"Check if a book is available in the library.\"\"\"\n",
    "        normalized_title = title.lower()\n",
    "        available_books = [book['Title'].lower() for book in self._books]\n",
    "        \n",
    "        if normalized_title in available_books:\n",
    "            print(f\"The book '{title}' is available.\")\n",
    "        else:\n",
    "            print(f\"Sorry, the book '{title}' is not available.\")\n",
    "    \n",
    "    def display_books(self):\n",
    "        \"\"\"Display the list of books in the library.\"\"\"\n",
    "        print(\"Library Collection:\")\n",
    "        for book in self._books:\n",
    "            print(f\"Titile: {book['Title']}, Author: {book['Author']}\")\n",
    "\n",
    "# Example usage:\n",
    "library = Library()\n",
    "\n",
    "# Adding books in the Library\n",
    "library.add_book(\"The Modern Statics\", 'Mr. Narendra modi')\n",
    "library.add_book(\"The Americal Diplomat\", 'Dr. Shashi Tharoor')\n",
    "library.add_book(\"Artificial Intelligence\", 'Elon Musk')\n",
    "\n",
    "# Displaying all the available books\n",
    "library.display_books()\n",
    "\n",
    "# Checking availability status of a specific book \n",
    "library.check_availability(\"Data Structure and Algorithm\")\n",
    "library.check_availability(\"Artificial Intelligence\")"
   ]
  },
  {
   "cell_type": "markdown",
   "metadata": {},
   "source": [
    "**Q18.** Explain how encapsulation enhances code reusability and modularity in Python programs."
   ]
  },
  {
   "cell_type": "markdown",
   "metadata": {},
   "source": [
    "**Answer:** Encapsulation enhances code reusability and modularity in Python programs in the following ways:\n",
    "\n",
    "* *Code reusability:* Encapsulation allows us to reuse code by hiding the implementation details of a class behind its public interface. This means that we can use the class without having to know how it works internally. This makes it easy to reuse the class in other programs without having to rewrite it.\n",
    "\n",
    "* *Modularity:* Encapsulation breaks down a program into smaller, more manageable modules. Each module encapsulates a specific piece of functionality and other modules can interact with it through its public interface. This makes it easier to understand, develop, and maintain the program. \n",
    "\n",
    "* Here is a simple exaple of encapsulation in Python:"
   ]
  },
  {
   "cell_type": "code",
   "execution_count": null,
   "metadata": {},
   "outputs": [],
   "source": [
    "class Person:\n",
    "    def __init__(self, name, age):\n",
    "        self.__name = name\n",
    "        self.__age = age\n",
    "\n",
    "    def get_name(self):\n",
    "        return self.__name\n",
    "    \n",
    "    def get_age(self):\n",
    "        return self.__age\n",
    "\n",
    "    def set_name(self, new_name):\n",
    "        self.__name = new_name \n",
    "    \n",
    "    def set_age(self, new_age):\n",
    "        self.__age = new_age\n",
    "\n",
    "# Example usage\n",
    "person = Person(\"Sahil Kumar Mandal\", 20)                      # Creating instance of the Person class\n",
    "\n",
    "person.get_name(), person.get_age()                            # Accesssing attributes from the Person class\n",
    "person.set_name(\"Mr. Nawin Kumar Mandal\"), person.set_age(45)  # Modifting attribute of the Person class.\n",
    "person.get_name(), person.get_age()                            # Accessing modified attributes from the Person class."
   ]
  },
  {
   "cell_type": "markdown",
   "metadata": {},
   "source": [
    "In this example, the 'Person' class encapsulates the data and functionality related to a person. The class has four public methods, get_name(), get_age(), set_name(), and set_age(), which allow us to access and modify the person's name and age. The implementation details of the class are hidden from the outside world.\n",
    "\n",
    "We can reuse the Person class in other programs by simply importing it and creating new instaces of the class. We do not need to know how the class works internally in order to use it.\n",
    "\n",
    "Encapsulation also makes the program more modular. Each Person object is self-contained module that encapsulates its own data and functionality. This makes it easy to develop and maintain the program, as we can focus on one module at a time."
   ]
  },
  {
   "cell_type": "markdown",
   "metadata": {},
   "source": [
    "**Q19.** Describe the concept of information hiding in encapsulation. Why is it essential in software development?"
   ]
  },
  {
   "cell_type": "markdown",
   "metadata": {},
   "source": [
    "**Answer:** Information hiding in encapsulation is the principle of concealing the internal implementation details of a class or module, while exposing only a well-defined interface. This allows developers to interact with the class or module without having to know how it works internally.\n",
    "\n",
    "**Information hiding is essential in software development for several reasons:**\n",
    "    \n",
    "* *It promotes code reusability and modularity:* Encapsulated code can be reused in other programs without having to rewrite it. It also makes it easier to develop and maintain programs, as developers can focus on one module at a time without having to worry about the implementation\n",
    "details of other modules.\n",
    "\n",
    "* *It improves security:* Encapsulation can be used to hide sensitive data from outside access. For example, a class that reprsents a bank account could encapsulate the account balance and provide public methods for depositing and withdrawing money. This would prevent other code from directly accessing the account balance, which could be exploted by attackers.\n",
    "\n",
    "* *It makes code more robust and less error-prone:* If the implementation details of a class are hidden, changes to the implementation are less likely to break other parts of the program. This is because other code only interacts with the class through its public interface, which remains the \n",
    "same even of the implementation changes. "
   ]
  },
  {
   "cell_type": "code",
   "execution_count": null,
   "metadata": {},
   "outputs": [],
   "source": [
    "class BankAccount:\n",
    "    def __init__(self):\n",
    "        self.__balance = 0\n",
    "    \n",
    "    def deposit(self, amount):\n",
    "        \"\"\"Deposit amount into account.\"\"\"\n",
    "        if amount > 0:\n",
    "            self.__balance += amount\n",
    "            print(f\"Deposit amount: ${amount}, Current balance: ${self.__balance}\")\n",
    "        elif amount <=0:\n",
    "            raise ValueError(\"Deposted amount must be positive\")\n",
    "        else:\n",
    "            raise Exception(\"Sorry some error is occuring, please renter your amount\")\n",
    "        \n",
    "    def withdraw(self, amount):\n",
    "        \"\"\"Withdrawing amount from the account.\"\"\"\n",
    "        if amount > 0 and amount <= self.__balance:\n",
    "            self.__balance -= amount\n",
    "            print(f\"Withdrawl amount: ${amount}, Current balance: ${self.__balance}\")\n",
    "        elif amount <= 0:\n",
    "            raise ValueError(\"Withdrawl amount must be positive\")\n",
    "        elif amount > self.__balance:\n",
    "            raise ValueError(\"Insufficient amount for withdrawl\")\n",
    "        else:\n",
    "            raise Exception(\"Sorry some error is occuring, please renter your amount\")\n",
    "    \n",
    "    def check_balance(self):\n",
    "        \"\"\"Checking avaialble balance in account.\"\"\"\n",
    "        return self.__balance\n",
    "\n",
    "my_account = BankAccount()    # Creating instance of the BankAccount\n",
    "my_account.deposit(50000)     # Depositing $50,000 in my_account\n",
    "my_account.withdraw(10000)    # Withdrawing $10,000 in my_account\n",
    "print(my_account.check_balance())    # Checking account balance"
   ]
  },
  {
   "cell_type": "markdown",
   "metadata": {},
   "source": [
    "In this example, the 'BankAccount' class encapsulates the account balance and provides public methods for depositing, withdrawing and getting the balance. The implementation details of the class are hidden from the outside world.\n",
    "\n",
    "Other code can interact with the BankAccount class without having to know how it works internally. This makes the code more reuable, secure, and robust. "
   ]
  },
  {
   "cell_type": "markdown",
   "metadata": {},
   "source": [
    "**Q20.** Create a Python class called 'Customer' with private attributes for customer details like name, address, and contact information. Implement encapsulation to ensure data integrity and security.\n",
    "\n",
    "**Answer:**"
   ]
  },
  {
   "cell_type": "code",
   "execution_count": null,
   "metadata": {},
   "outputs": [],
   "source": [
    "class Customer:\n",
    "    def __init__(self, name: str, address: str, contact_info: str):\n",
    "        self.__name = name\n",
    "        self.__address = address\n",
    "        self.__contact_info = contact_info\n",
    "    \n",
    "    def get_name(self) -> str:\n",
    "        return self.__name\n",
    "    \n",
    "    def set_name(self, new_name: str):\n",
    "        if not isinstance(new_name, str) and len(new_name) == 0:\n",
    "            raise ValueError(\"Customer name must be a non-empty string\")\n",
    "        self.__name = new_name\n",
    "    \n",
    "    def get_address(self) -> str:\n",
    "        return self.__address\n",
    "    \n",
    "    def set_address(self, new_address: str):\n",
    "        if not isinstance(new_address, str) and len(new_address) == 0:\n",
    "            raise ValueError(\"Address must be a non-empty string\")\n",
    "        self.__address = new_address\n",
    "    \n",
    "    def get_contact_info(self) -> str:\n",
    "        return self.__contact_info\n",
    "    \n",
    "    def set_contact_info(self, new_contact_info: str):\n",
    "        if not isinstance(new_contact_info, str) and len(new_contact_info) == 0:\n",
    "            raise ValueError(\"Customer name must be a non-empty string\")\n",
    "        self.__contact_info = new_contact_info\n",
    "\n",
    "# Creating instance of the Customer class\n",
    "customer = Customer(\"Sahil Kumar Mandal\", 'B-5, Khizrabad New Friends colony-110025', '1234567890')\n",
    "\n",
    "# Accessing attributes\n",
    "customer_name, customer_address, customer_contact_info =  customer.get_name(), customer.get_address(), customer.get_contact_info()\n",
    "\n",
    "# Modifying and, then accessing attributes\n",
    "customer.set_name('Rakhi Kumari')\n",
    "customer.set_address(\"New york city, California-110024\")\n",
    "customer.set_contact_info('8944551290')\n",
    "new_customer_name, new_customer_address, new_customer_contact_info =  customer.get_name(), customer.get_address(), customer.get_contact_info()\n",
    "\n",
    "# Printing the results\n",
    "print(f\"Customer name:\", customer_name)\n",
    "print(f\"CUstomer address:\", customer_address)\n",
    "print(f\"Custoemr contact informatio:\", customer_contact_info)\n",
    "print(f\"New customer name:\", new_customer_name)\n",
    "print(f\"New customer address:\", new_customer_address)\n",
    "print(f\"New customer contact information:\", new_customer_contact_info)"
   ]
  },
  {
   "cell_type": "markdown",
   "metadata": {},
   "source": [
    "# Polymorphism"
   ]
  },
  {
   "cell_type": "markdown",
   "metadata": {},
   "source": [
    "**Q1.** What is polymorphism in Python? Explain how it is related to object-oreinted programming."
   ]
  },
  {
   "cell_type": "markdown",
   "metadata": {},
   "source": [
    "**Answer:** Polymorphism is a concept in object-oriented programming (OOP) that allows objects of different types to be treated as objects of a common type. This helps in wiriting code that can work with objects of various classes in a unified manner. Polymorphism is one of the four fundamentel principles of OOP, along with encapsulation, inheritance, and abstraction.\n",
    "\n",
    "There are two main types of polymorphism in Python: compile-time polymorphism (also known as method overloading) and runtime polymorphism (also known as method overriding).\n",
    "\n",
    " 1. *Compile-time Polymorphism (Method Overloading):*\n",
    "* In some programming languages, we can define multiple methods with the same name but different parameter lists. This is known as method overloading.\n",
    "* In Python, however, method overloading is achieved through defaults argument values and variable-length argument lists. This allows a function or method to behave differently based on the number or type of parameters."
   ]
  },
  {
   "cell_type": "code",
   "execution_count": null,
   "metadata": {},
   "outputs": [],
   "source": [
    "class MathOperation:\n",
    "    def add(self, a, b = 0, c = 0):\n",
    "        return a + b + c\n",
    "\n",
    "# Example usage\n",
    "math_ops = MathOperation()\n",
    "result = math_ops.add(3, 4)"
   ]
  },
  {
   "cell_type": "markdown",
   "metadata": {},
   "source": [
    " 2. *Runtime Polymorphism (Method Overriding):*\n",
    "* Runtime polymorphism is achieved through overriding. In Python, a subclass can provide a specific implementation of a method that is already defined in its superclass.\n",
    "* This allows objects of the subclass to be used wherever objects of the superclass are expected, providing a more specialized behavior."
   ]
  },
  {
   "cell_type": "code",
   "execution_count": null,
   "metadata": {},
   "outputs": [],
   "source": [
    "class Animal:\n",
    "    def make_sound(self):\n",
    "        pass\n",
    "\n",
    "class Dog(Animal):\n",
    "    def make_sound(self):\n",
    "        return 'Woof!'\n",
    "\n",
    "class Cat(Animal):\n",
    "    def make_sound(self):\n",
    "        return 'Meow!'\n",
    "\n",
    "# Example usage\n",
    "my_animals = [Dog(), Cat()]\n",
    "\n",
    "for animal in my_animals:\n",
    "    print(animal.make_sound())"
   ]
  },
  {
   "cell_type": "markdown",
   "metadata": {},
   "source": [
    "In the example above, both 'Dog' and 'Cat' are subclasses of the 'Animal' class. They override the 'make_sound' method to provide their own implementations. This allows us to treat both 'Dog' and 'Cat' objects as 'Animal' objects, demonstrating polymorphism. "
   ]
  },
  {
   "cell_type": "markdown",
   "metadata": {},
   "source": [
    "**Q2.** Describe the difference between compile-time polymorphism and runtime polymorphism in Python."
   ]
  },
  {
   "cell_type": "markdown",
   "metadata": {},
   "source": [
    "**Answer:** In Python, both compile-time polymorphism (method overloading) and runtime polymorphism (method overriding) can be achieved, but there are some key differences between them.\n",
    "\n",
    " 1. **Compile-time Polymorphism (Method Overloading):**\n",
    "        \n",
    "* *Defination:* Method overloading in Python is achieved through default argument values and variable-length argument list. It allows a function or method to have multiple forms depending on the number or type of its parameters.\n",
    "\n",
    "* *Decision Time:* The decision about which method to execute is made by the compiler at compile time. \n",
    "* Example:"
   ]
  },
  {
   "cell_type": "code",
   "execution_count": null,
   "metadata": {},
   "outputs": [],
   "source": [
    "class MathOperation:\n",
    "    def add(self, a, b = 0, c = 0):\n",
    "        return a + b + c\n",
    "\n",
    "# Example usage\n",
    "math_ops = MathOperation()\n",
    "result = math_ops.add(2, 3)\n",
    "    "
   ]
  },
  {
   "cell_type": "markdown",
   "metadata": {},
   "source": [
    " **2. Runtime Polymorphism (Method Overriding):** \n",
    "        \n",
    "* *Defination:* Method overriding is achieved by providing a specific inplementation of a method in a subclass that is already defined in its superclass.\n",
    "        \n",
    "* *Decision Time:* The decision about which method to execute is made at runtime, based on the type of the object.\n",
    "\n",
    "* *Example:* "
   ]
  },
  {
   "cell_type": "code",
   "execution_count": null,
   "metadata": {},
   "outputs": [],
   "source": [
    "class Animal:\n",
    "    def make_sound(self):\n",
    "        pass\n",
    "\n",
    "class Dog(Animal):\n",
    "    def make_sound(self):\n",
    "        return 'Woof!'\n",
    "\n",
    "class Cat(Animal):\n",
    "    def make_sound(self):\n",
    "        return 'Meow!'\n",
    "\n",
    "# Example usage\n",
    "my_animals = [Dog(), Cat()]\n",
    "\n",
    "for animal in my_animals:\n",
    "    print(animal.make_sound())\n"
   ]
  },
  {
   "cell_type": "markdown",
   "metadata": {},
   "source": [
    "**Q3.** Create a Python class hierarchy for shapes (e.g., circle, square, triangle) and demonstrate polymorphism through a common method, such as 'calculate_area()'.\n",
    "\n",
    "**Answer:**"
   ]
  },
  {
   "cell_type": "code",
   "execution_count": null,
   "metadata": {},
   "outputs": [],
   "source": [
    "import math\n",
    "from abc import ABC, abstractmethod\n",
    "\n",
    "class Shape(ABC):\n",
    "    \"\"\"Base class for geometric shapes.\"\"\"\n",
    "\n",
    "    @abstractmethod\n",
    "    def area(self):\n",
    "        \"\"\"Calculate the area of the shape.\"\"\"\n",
    "        pass\n",
    "\n",
    "class Circle(Shape):\n",
    "    \"\"\"A class representing a circle.\"\"\"\n",
    "\n",
    "    def __init__(self, radius):\n",
    "        \"\"\"Initialize a circle with the given radius\"\"\"\n",
    "        self.radius = radius\n",
    "    \n",
    "    def area(self):\n",
    "        \"\"\"Calculate the area of the circle.\"\"\"\n",
    "        return math.pi * (self.radius ** 2)\n",
    "\n",
    "class Square(Shape):\n",
    "    \"\"\"A class representing a square.\"\"\"\n",
    "\n",
    "    def __init__(self, side_length):\n",
    "        \"\"\"Initialize square with the given side length.\"\"\"\n",
    "        self.side_length = side_length\n",
    "    \n",
    "    def area(self):\n",
    "        \"\"\"Calculate the area of the square.\"\"\"\n",
    "        return self.side_length ** 2\n",
    "\n",
    "class Triangle(Shape):\n",
    "    \"\"\"A class representing a tirangle.\"\"\"\n",
    "\n",
    "    def __init__(self, base_length, height):\n",
    "        \"\"\"Initialize triangle with the given base length and height\"\"\"\n",
    "        self.base_length = base_length\n",
    "        self.height = height\n",
    "    \n",
    "    def area(self):\n",
    "        \"\"\"Calculate the area of the triangle.\"\"\"\n",
    "        return 1/2 * (self.base_length * self.height)\n",
    "\n",
    "# Example usage\n",
    "given_circle = Circle(5)\n",
    "print(f\"Circle's area : {given_circle.area()} sq.unit\")\n",
    "\n",
    "square = Square(5)\n",
    "print(f\"Square's area : {square.area()} sq.unit\")\n",
    "\n",
    "triangle = Triangle(5, 5)\n",
    "print(f\"Triangle's area : {triangle.area()} sq.unit\")"
   ]
  },
  {
   "cell_type": "markdown",
   "metadata": {},
   "source": [
    "**Q4.** Explan the concept of method overriding in polymorphism. Provide an example."
   ]
  },
  {
   "cell_type": "markdown",
   "metadata": {},
   "source": [
    "**Answer:** Method overriding is a concept in object-oriented programming (OOP) that allows a subclass to provide a specific implementation of a method that is already defined in its superclass. This enables the subclass to customize or extend the behavior of the inherited method. Method overriding is a form of runtme polymorphism, where the decision about which method to execute is made dynamically at runtime based on the actual type of the object.    \n",
    "\n",
    "Here's a simple explanation of method overriding:\n",
    "\n",
    " 1. *Inheritance:* When a subclass inherits from a superclass, it inherits all the methods and attributes of the superclass.\n",
    "\n",
    " 2. *Override:* If the subclass want to change the behavior of a method inherited from the superclass, it can provide a new implementation of that method in the subclass. This is known as method overriding.\n",
    "\n",
    "Here's an example in Python: "
   ]
  },
  {
   "cell_type": "code",
   "execution_count": null,
   "metadata": {},
   "outputs": [],
   "source": [
    "class Animal:\n",
    "    def make_sound(self):\n",
    "        return 'Generic animal sound'\n",
    "\n",
    "class Dog(Animal):\n",
    "    def make_sound(self):\n",
    "        return 'Woof!'\n",
    "\n",
    "class Cat(Animal):\n",
    "    def make_sound(self):\n",
    "        return 'Meow!'\n",
    "\n",
    "# Example usage\n",
    "my_animal = [Dog(), Cat()]\n",
    "\n",
    "for animal in my_animal:\n",
    "    print(animal.make_sound())"
   ]
  },
  {
   "cell_type": "markdown",
   "metadata": {},
   "source": [
    "In this example:\n",
    "* The 'Animal' class has a method called 'make_sound' with a generic implementation.\n",
    "* The 'Dog' and 'Cat' classes are subclases of 'Animal'.\n",
    "* Both 'Dog' and 'Cat' classes override the 'make_sound' method with their specific implementations. "
   ]
  },
  {
   "cell_type": "markdown",
   "metadata": {},
   "source": [
    "**Q5.** How is polymorphism different from method overloading in Python? Provide examples for both.\n",
    "\n",
    "**Answer:**"
   ]
  },
  {
   "cell_type": "markdown",
   "metadata": {},
   "source": [
    "*Method Overloading:*\n",
    "* Method overloading refers to defining multiple methods in a class with the same name but different parameter lists. In Python, method overloading is not supported in the traditional sense as it is in some other programming languages (like java or C++), where we can have multiple methods with the same name but different parameter types or numbers.\n",
    "\n",
    "* However, in Python, we can achieve a form of method overloading using default values for parameters or using variable-length argument lists. Here's an example:"
   ]
  },
  {
   "cell_type": "code",
   "execution_count": null,
   "metadata": {},
   "outputs": [],
   "source": [
    "class Calculator:\n",
    "    def add(self, a, b=0, c=0):\n",
    "        return a + b + c\n",
    "\n",
    "# Creating an instance of the Calculator class\n",
    "calc = Calculator()\n",
    "\n",
    "# Method overloading using default values\n",
    "result1 = calc.add(5)\n",
    "result2 = calc.add(5, 6)\n",
    "result3 = calc.add(5, 6, 7)\n",
    "\n",
    "print(result1)\n",
    "print(result2)\n",
    "print(result3)"
   ]
  },
  {
   "cell_type": "markdown",
   "metadata": {},
   "source": [
    "In this example, the 'add' method is overloaded by providing default values for 'b' and 'c'.\n",
    "\n",
    "*Polymorphism:*\n",
    "* Polymorphism is a more general concept that allows objects of different types to be treated as objects of a common type. In Python, polymorphism is often achieved through method overriding, where a subclass provides a specific implementation for a method that is already defined in its superclass. This allows objects of the subclass to be used interchangeably with objects of the superclass.\n",
    "\n",
    "* Here's an example of polymorphism using method overriding:"
   ]
  },
  {
   "cell_type": "code",
   "execution_count": null,
   "metadata": {},
   "outputs": [],
   "source": [
    "class Animal:\n",
    "    def make_sound(self):\n",
    "        pass\n",
    "\n",
    "class Dog(Animal):\n",
    "    def make_sound(self):\n",
    "        return 'Woof!'\n",
    "\n",
    "class Cat(Animal):\n",
    "    def make_sound(self):\n",
    "        return \"Meow!\"\n",
    "\n",
    "# Polymorphism in action\n",
    "def animal_sound(animal):\n",
    "    return animal.make_sound()\n",
    "\n",
    "# Creating instances of Dog and Cat\n",
    "dog = Dog()\n",
    "cat = Cat()\n",
    "\n",
    "# Using the common interface (make_sound) for different types of objects\n",
    "print(animal_sound(dog))\n",
    "print(animal_sound(cat))"
   ]
  },
  {
   "cell_type": "markdown",
   "metadata": {},
   "source": [
    "In this example, both 'Dog' and 'Cat' are subclasses of 'Animal', and they override the 'make_sound' method. The 'animal_sound' function demonstrates polymorphism by accepting any object of type 'Animal' and calling its 'make_sound' method."
   ]
  },
  {
   "cell_type": "markdown",
   "metadata": {},
   "source": [
    "**Q6.** Create a Python class called 'Animal' with a method 'speak()'. Then, create child classes like 'Dog', 'Cat', and 'Bird', each with their own 'speak()' method. Demonstrate polymorphism by calling the 'speak()' method on objects of different subclasses."
   ]
  },
  {
   "cell_type": "code",
   "execution_count": null,
   "metadata": {},
   "outputs": [],
   "source": [
    "from typing import List\n",
    "\n",
    "class Animal:\n",
    "    \"\"\"Base class for animal\"\"\"\n",
    "    \n",
    "    def speak(self):\n",
    "        \"\"\"Make the animal sound\"\"\"\n",
    "        raise NotImplementedError(\"Subclasses must implement this method.\")\n",
    "\n",
    "class Dog(Animal):\n",
    "    \"\"\"A class representing a dog.\"\"\"\n",
    "\n",
    "    def speak(self) -> str:\n",
    "        \"\"\"Make the dog sound.\"\"\"\n",
    "        return \"Woof!\"\n",
    "\n",
    "class Cat(Animal):\n",
    "    \"\"\"A class representing a cat.\"\"\"\n",
    "    \n",
    "    def speak(self) -> str:\n",
    "        \"\"\"Make the cat sound\"\"\"\n",
    "        return 'Meow!'\n",
    "\n",
    "class Bird(Animal):\n",
    "    \"\"\"A class representing a bird\"\"\"\n",
    "    \n",
    "    def speak(self) -> str:\n",
    "        \"\"\"Make the bird sound\"\"\"\n",
    "        return \"Chirp! Chirp!\"\n",
    "\n",
    "my_animals: List[Animal] = [Dog(), Cat(), Bird()]\n",
    "\n",
    "for animal in my_animals:\n",
    "    print(animal.speak())"
   ]
  },
  {
   "cell_type": "markdown",
   "metadata": {},
   "source": [
    "**Q7.** Discuss the use of abstract methods and classes in acheiving polymorphism in Python. Provide an example using the 'abc' module.\n",
    "\n",
    "**Answer:**"
   ]
  },
  {
   "cell_type": "markdown",
   "metadata": {},
   "source": [
    "Abstract classses and abstract methods are used in Python to define a common interface for a group of related classes, promoting polymorphism. The 'abc' (Abstract base classes) module in Python provides tools for creating abstract classes and abstract methods. Abstract classes cannot be instantiated, and they are meant to be subclassed by concrete classes, ensuring that specific methods are implemented.\n",
    "\n",
    "Here's an example using the 'abc' module to create an abstract class representing animals with an abstract method 'speak':"
   ]
  },
  {
   "cell_type": "code",
   "execution_count": null,
   "metadata": {},
   "outputs": [],
   "source": [
    "from typing import List\n",
    "from abc import ABC, abstractmethod\n",
    "\n",
    "class Animal(ABC):\n",
    "    \"\"\"Abstract base class for animals\"\"\"\n",
    "\n",
    "    @abstractmethod\n",
    "    def speak(self):\n",
    "        \"\"\"Abstract method to make the animal sound\"\"\"\n",
    "        pass\n",
    "\n",
    "class Dog(Animal):\n",
    "    def speak(self):\n",
    "        return \"Woof!\"\n",
    "\n",
    "class Cat(Animal):\n",
    "    def speak(self):\n",
    "        return \"Meow!\"\n",
    "\n",
    "class Bird(Animal):\n",
    "    def speak(self):\n",
    "        return \"Chirp! Chirp!\"\n",
    "    \n",
    "def animal_sound(animal):\n",
    "    \"\"\"Function demonstrating polymorphism\"\"\"\n",
    "    print(animal.speak())\n",
    "\n",
    "# Example usage\n",
    "my_animals: List[Animal] = [Dog(), Cat(), Bird()]\n",
    "\n",
    "for animal in my_animals:\n",
    "    animal_sound(animal)"
   ]
  },
  {
   "cell_type": "markdown",
   "metadata": {},
   "source": [
    "In this example:\n",
    "* 'Animal' is an abstract class that inherits from 'ABC' (Abstract Base Class).\n",
    "* '@abstractmethod' decorator is used to define the abstract method 'speak' in the 'Animal' class. Subclass are required to implement this method.\n",
    "* 'Dog', 'Cat', and 'Bird' are concrete classes that inherit from the abstract class 'Animal'. They provide their own implementations of the 'speak' method.\n",
    "* The 'animal_sound' function demonstrated polymorphism by accepting any object of type 'Animal' and calling its 'speak' method.\n",
    "\n",
    "if a subclass fails to implement the abstract method, attempting to instantiate it will result in a 'TypeError'. This helps ensure that all subclasses provide their own implementation for the abstract method, enforcing the common interface and promoting polymorphism."
   ]
  },
  {
   "cell_type": "markdown",
   "metadata": {},
   "source": [
    "**Q8.** Create a Python class hierarchy for a vehicle system (e.g., car, bicycle, boat) and implement a polymorphic 'start()' method that prints a message specific to each vehicle type."
   ]
  },
  {
   "cell_type": "code",
   "execution_count": null,
   "metadata": {},
   "outputs": [],
   "source": [
    "from typing import List\n",
    "from abc import ABC, abstractmethod\n",
    "\n",
    "class Vehicle(ABC):\n",
    "    \"\"\"A class representing a vehicle system\"\"\"\n",
    "    \n",
    "    @abstractmethod\n",
    "    def start(self):\n",
    "        \"\"\"Start the vehicle\"\"\"\n",
    "        pass\n",
    "\n",
    "class Car(Vehicle):\n",
    "    \"\"\"A class representing a car\"\"\"\n",
    "\n",
    "    def start(self):\n",
    "        \"\"\"Start the car\"\"\"\n",
    "        return \"My car is starting now\"\n",
    "\n",
    "class Bicycle(Vehicle):\n",
    "    \"\"\"A class representing a bicycle\"\"\"\n",
    "\n",
    "    def start(self):\n",
    "        \"\"\"Start the bicycle\"\"\"\n",
    "        return \"My bicycle is starting now\"\n",
    "\n",
    "class Boat(Vehicle):\n",
    "    \"\"\"A class representing a boat\"\"\"\n",
    "\n",
    "    def start(self):\n",
    "        \"\"\"Start the boat\"\"\"\n",
    "        return \"My boat is starting now\"\n",
    "\n",
    "def start_vehcile(vehicle):\n",
    "    \"\"\"Start the given vehicle\"\"\"\n",
    "    print(vehicle.start())\n",
    "\n",
    "my_vehicles: List[Vehicle] = [Car(), Boat(), Bicycle()]\n",
    "\n",
    "for vehicle in my_vehicles:\n",
    "    start_vehcile(vehicle)"
   ]
  },
  {
   "cell_type": "markdown",
   "metadata": {},
   "source": [
    "**Q9.** Explain the significance of the 'isinstance()' and 'issubclass' functions in Python polymorphism."
   ]
  },
  {
   "cell_type": "markdown",
   "metadata": {},
   "source": [
    "**Answer:** 'isinstance()' and 'issubclass()' are built-in function in Python that play a significant role in working with polymorphism. They help determine the type of relationships between objects and classes, respectively.\n",
    "\n",
    "*'isinstance()':*\n",
    "* The 'isinstance()' function is used to check if an object is an instance of a particular class or a tuple of classes. It is pariculary useful in scenarios where we want to check the type of an object before performing certain operation. In the context of polymorphism:"
   ]
  },
  {
   "cell_type": "code",
   "execution_count": null,
   "metadata": {},
   "outputs": [],
   "source": [
    "class Animal:\n",
    "    pass\n",
    "\n",
    "class Dog(Animal):\n",
    "    pass\n",
    "\n",
    "class Cat(Animal):\n",
    "    pass\n",
    "\n",
    "my_dog = Dog()\n",
    "my_cat = Cat()\n",
    "\n",
    "print(isinstance(my_dog, Animal))\n",
    "print(isinstance(my_cat, Animal))"
   ]
  },
  {
   "cell_type": "markdown",
   "metadata": {},
   "source": [
    "In polymorphism, 'isinstance()' is often used to check if an object is of a certain type before invoking a method in it. For example, we might have a list of object and wants to perform a specific action only on those that are instances of a particular class.\n",
    "\n",
    "*'issubclass()':*\n",
    "* The 'issubclass()' function checks if a class is a subclass of another class. It is useful for checking class hierarchies and relationships. In the context of polymorphism:"
   ]
  },
  {
   "cell_type": "code",
   "execution_count": null,
   "metadata": {},
   "outputs": [],
   "source": [
    "class Animal:\n",
    "    pass\n",
    "\n",
    "class Mammal(Animal):\n",
    "    pass\n",
    "\n",
    "class Dog(Animal):\n",
    "    pass\n",
    "\n",
    "print(issubclass(Mammal, Animal))\n",
    "print(issubclass(Dog, Animal))"
   ]
  },
  {
   "cell_type": "markdown",
   "metadata": {},
   "source": [
    "In polymorphism, 'issubclass()' can be used to verify the inheritance relationships between classes. For example, we might want to ensure that a function works with objects of a certain base classes and its subclasses."
   ]
  },
  {
   "cell_type": "markdown",
   "metadata": {},
   "source": [
    "**Q10.** What is the role of '@abstractmethod' decorator in acheiving polymorphism in Python? Provide an example.\n",
    "\n",
    "**Answer:**"
   ]
  },
  {
   "cell_type": "code",
   "execution_count": 20,
   "metadata": {},
   "outputs": [
    {
     "name": "stdout",
     "output_type": "stream",
     "text": [
      "Area of Circle: 78.5 sq.unit\n",
      "Area of Rectangle: 20 sq.unit\n",
      "Area of Triangle: 15.0 sq.unit\n"
     ]
    }
   ],
   "source": [
    "from abc import ABC, abstractmethod\n",
    "\n",
    "class Shape(ABC):\n",
    "    \"\"\"Abstract base class representing a shape\"\"\"\n",
    "\n",
    "    @abstractmethod\n",
    "    def area(self):\n",
    "        \"\"\"Abstract method to calculate the area of the shape\"\"\"\n",
    "        pass\n",
    "\n",
    "class Circle(Shape):\n",
    "    \"\"\"Concrete class representing a circle\"\"\"\n",
    "\n",
    "    def __init__(self, radius):\n",
    "        self.radius = radius\n",
    "    \n",
    "    def area(self):\n",
    "        \"\"\"Calculate the area of the circle\"\"\"\n",
    "        return 3.14 * self.radius**2\n",
    "\n",
    "class Rectangle(Shape):\n",
    "    \"\"\"Concrete class representing a rectangle\"\"\"\n",
    "\n",
    "    def __init__(self, length, width):\n",
    "        \"\"\"Initialize the length and width of the Rectangle\"\"\"\n",
    "        self.length = length\n",
    "        self.width = width\n",
    "    \n",
    "    def area(self):\n",
    "        \"\"\"Calculate the area of the Rectangle\"\"\"\n",
    "        return self.length * self.width\n",
    "\n",
    "class Triangle(Shape):\n",
    "    \"\"\"Concrete class representing a triangle\"\"\"\n",
    "\n",
    "    def __init__(self, base, height):\n",
    "        \"\"\"Initialize the height and base of the triangle\"\"\"\n",
    "        self.base = base\n",
    "        self.height = height\n",
    "    \n",
    "    def area(self):\n",
    "        \"\"\"Calculate the area of the triangle\"\"\"\n",
    "        return 0.5 * self.base * self.height\n",
    "    \n",
    "given_circle = Circle(radius = 5)\n",
    "given_rectangle = Rectangle(length = 4, width = 5)\n",
    "triangle = Triangle(base = 5, height = 6)\n",
    "\n",
    "shapes = [given_circle, given_rectangle, triangle]\n",
    "\n",
    "for shape in shapes:\n",
    "    print(f\"Area of {shape.__class__.__name__}: {shape.area()} sq.unit\")"
   ]
  },
  {
   "cell_type": "markdown",
   "metadata": {},
   "source": [
    "In this example:\n",
    "* The 'Shape' class is an abstract base class with the abtract method 'area'. This method has no implementation in the 'Shape' class itself.\n",
    "\n",
    "* The 'Circle', 'Rectangle', and 'Triangle' classes inherit from 'Shape' and provide their own implementations of the 'area' method. Each concrete class must implement the abstract method, ensuring a common interface for calculating the area.\n",
    "\n",
    "* The 'shapes' list contains instances of different shapes (polymorphism in action), and the 'area' method is called on each shape in the loop.\n",
    "\n",
    "By using the '@abstractmethod' decorator, we enforce that any class inheriting from 'Shape' must provide its own implementation of the 'area' method. This promotes a consistent interface for different shapes, allowing them to be used interchangeably in scenarios where the common method ('area') is needed.  "
   ]
  },
  {
   "cell_type": "markdown",
   "metadata": {},
   "source": [
    "**Q11.** Create a Python class called 'Shape' with a polymorphic method 'area()' that calculates the area of different shapes (e.g., circle rectangle, triangle)."
   ]
  },
  {
   "cell_type": "code",
   "execution_count": null,
   "metadata": {},
   "outputs": [],
   "source": [
    "import math\n",
    "from abc import ABC, abstractmethod\n",
    "\n",
    "class Shape(ABC):\n",
    "    \"\"\"Base class for geometric shapes.\"\"\"\n",
    "\n",
    "    @abstractmethod\n",
    "    def area(self):\n",
    "        \"\"\"Calculate the area of the shape.\"\"\"\n",
    "        pass\n",
    "\n",
    "class Circle(Shape):\n",
    "    \"\"\"A class representing a circle.\"\"\"\n",
    "\n",
    "    def __init__(self, radius):\n",
    "        \"\"\"Initialize a circle with the given radius\"\"\"\n",
    "        self.radius = radius\n",
    "    \n",
    "    def area(self):\n",
    "        \"\"\"Calculate the area of the circle.\"\"\"\n",
    "        return math.pi * (self.radius ** 2)\n",
    "\n",
    "class Square(Shape):\n",
    "    \"\"\"A class representing a square.\"\"\"\n",
    "\n",
    "    def __init__(self, side_length):\n",
    "        \"\"\"Initialize square with the given side length.\"\"\"\n",
    "        self.side_length = side_length\n",
    "    \n",
    "    def area(self):\n",
    "        \"\"\"Calculate the area of the square.\"\"\"\n",
    "        return self.side_length ** 2\n",
    "\n",
    "class Triangle(Shape):\n",
    "    \"\"\"A class representing a tirangle.\"\"\"\n",
    "\n",
    "    def __init__(self, base_length, height):\n",
    "        \"\"\"Initialize triangle with the given base length and height\"\"\"\n",
    "        self.base_length = base_length\n",
    "        self.height = height\n",
    "    \n",
    "    def area(self):\n",
    "        \"\"\"Calculate the area of the triangle.\"\"\"\n",
    "        return 1/2 * (self.base_length * self.height)\n",
    "\n",
    "# Example usage\n",
    "given_circle = Circle(5)\n",
    "print(f\"Circle's area : {given_circle.area()} sq.unit\")\n",
    "\n",
    "square = Square(5)\n",
    "print(f\"Square's area : {square.area()} sq.unit\")\n",
    "\n",
    "triangle = Triangle(5, 5)\n",
    "print(f\"Triangle's area : {triangle.area()} sq.unit\")"
   ]
  },
  {
   "cell_type": "markdown",
   "metadata": {},
   "source": [
    "**Q12.** Discuss the benefits of polymorphism in terms of code reusability and flexibility in Python programs. "
   ]
  },
  {
   "cell_type": "markdown",
   "metadata": {},
   "source": [
    "**Answer:**\n",
    "1. Code Reusability:\n",
    "    \n",
    "* **Common Interfaces:**\n",
    "  * *Explanation:* Polymorphism allows us to create a shared interface for different classes. It's like having a universal remote for different TVs. No matter the branch (class), as long as it responds to the common buttons (methods), it work seamlessly.\n",
    "\n",
    "* **Method Overloading:**\n",
    "  * *Explanation:* It's akin to having a calculator with an 'add' button. Whether we're adding two or three numbers, we use the same button. In programming, it means using methods with the same name but adapting to differnt situations.\n",
    "\n",
    "* **Inheritance:**\n",
    "  * *Explanation:* Think of it as building a family of classes. The parent class provides common features, and each child class inherits and extends those features. This way, we avoid duplicating code and establish a clear hierarhcy.\n",
    "\n",
    "2. Flexibility:\n",
    "\n",
    "* **Dynamic Dispatch:**\n",
    "  * *Explanation:* Dynamic dispatch is like pressing buttons on a universal remote contro. The TV responds differently than the air coditioner, depending on the selected button. Similarly, in coding, actions depend on the actual type of the object at runtime.\n",
    "\n",
    "* **Open-Closed Principle:**\n",
    "  * *Explanation:* It's similar to a toy box where we can keep adding new toys (classes) without modifying the old ones. The existing code remains closed (unchanged), while we extend its functionality with new classes.\n",
    "\n",
    "* **Loose Coupling:**\n",
    "  * *Explanation:* Loose coupling is like building with LEGO bricks. Each piece (class) works independently, and we can combine them in various ways without causing disruptions. It promotes modularity and ease of maintenance.\n",
    "\n",
    "* **Plug-and-Play Components:**\n",
    "  * *Explanation:* Imagine connecting a USB device to a computer. This device just works, regardless of the specific computer. In programming, ploymorphism allows us to create components that can be easily connected and used across different parts of the code.\n",
    "\n",
    "* **Adaptability:**\n",
    "  * **Explanation:* Think of the code as a set of building blocks. If we want to change to something, we can swap a block (class) without affecting the entire structure. This adaptability is particularly useful as programs evolve or expand.\n",
    "\n",
    " 3. Readability and Expressiveness:\n",
    "\n",
    "* **Common Language:**\n",
    "  * *Explanation:* Polymorphism ensures that differnt parts of the code speak the same language. It's like everyone understanding and using the same set of methods or interfaces, making the code more readable and collaborative.\n",
    "\n",
    "* **Clear Intent:**\n",
    "  * *Explanation:* It's akin to writing a story with consistent characters. When methods have the same name across different classes, it's like characters in a story having clear and consistent roles. This clarity enhances code readability and understanding.\n",
    "\n",
    "In summary, polymorphism simplifies code, making it reusable, adaptable, and readable/ It's like having a set of tools that can work together seamlessly, promoting efficient and collaborative programming."
   ]
  },
  {
   "cell_type": "markdown",
   "metadata": {},
   "source": [
    "**Q13.** Explain the use of the 'super()' function in Python polymorphism.. How does it help call methods of parent classes?"
   ]
  },
  {
   "cell_type": "markdown",
   "metadata": {},
   "source": [
    "**Answer:** In Python, the *'super()'* function is used to call the methods from the parent or superclass within a subclass. It is often used in the context of inheritance and polymorphims. Here's an explanation of how *'super()' works and how it helps in calling methods of parent classes.\n",
    "\n",
    "**Use of 'super()' in Python Polymorphism:\n",
    " 1. *Calling Parent Class Methods:*\n",
    "    * When a class inerits from anoter class, the subclass can override methods of the parent class. However, there are cases where your want to invoke the overridden method of the parent class from the subclass.\n",
    "\n",
    "    * 'super()' allows you to call a method from the parent class, even if it has overridden in the subclass.\n",
    "\n",
    " 2. *Method Resolution Order(MRO):*\n",
    "    * Python uses a method resolution order(MRO) to determines the order in which classes are searched when looking for a method. The 'super()' function utilizes the MRO to find the next class in the hierarchy.\n",
    "\n",
    " 3. *Polymorphism:*\n",
    "    * Ploymorphism refers to the ability of different classes to be used interchangeably. When a method is called using 'super()', it allows you to achieve polymorphic behavior by using the same method name in both the parent and subclass.\n",
    "\n",
    "**Example:**"
   ]
  },
  {
   "cell_type": "code",
   "execution_count": 1,
   "metadata": {},
   "outputs": [
    {
     "name": "stdout",
     "output_type": "stream",
     "text": [
      "Generic animal sound, woof!\n",
      "Generic animal sound, Meow!\n"
     ]
    }
   ],
   "source": [
    "class Animal:\n",
    "    def make_sound(self):\n",
    "        return \"Generic animal sound\"\n",
    "\n",
    "class Dog(Animal):\n",
    "    def make_sound(self):\n",
    "        # calling the overriden method from the parent class\n",
    "        return super().make_sound() + \", woof!\"\n",
    "\n",
    "class Cat(Animal):\n",
    "    def make_sound(self):\n",
    "        # Calling the overriden method from the parent class\n",
    "        return super().make_sound() + \", Meow!\"\n",
    "\n",
    "# Polymorphism in action\n",
    "def animal_sound(animal):\n",
    "    return animal.make_sound()\n",
    "\n",
    "# create instance of Dog and Cat\n",
    "dog_instance = Dog()\n",
    "cat_instance = Cat()\n",
    "\n",
    "# Call the function with different animal instance\n",
    "print(animal_sound(dog_instance))\n",
    "print(animal_sound(cat_instance))"
   ]
  },
  {
   "cell_type": "markdown",
   "metadata": {},
   "source": [
    "**Q14.** Create a Python class hierarchy for a banking system with various account types (e.g., savings, checking, credit card) and demonstrate polymorphism by implementing a common 'withdraw()' method.\n",
    "\n",
    "**Answer:**"
   ]
  },
  {
   "cell_type": "code",
   "execution_count": 6,
   "metadata": {},
   "outputs": [],
   "source": [
    "class BankAccount:\n",
    "    def __init__(self, account_number, balance = 0):\n",
    "        self.account_number = account_number\n",
    "        self.balance = balance\n",
    "    \n",
    "    def deposit(self, amount):\n",
    "        if isinstance(amount, float) and 0 < amount:\n",
    "            self.balance += amount\n",
    "            print(f\"Amount ${amount} deposited successfully in your account.\")\n",
    "        elif amount <= 0:\n",
    "            raise ValueError(\"Amount must be positive, plese check your entered amount\")\n",
    "        else:\n",
    "            raise ValueError(\"Some error is occuring, please check your entered amount\")\n",
    "    \n",
    "    def withdraw(self, amount):\n",
    "        if isinstance(amount, float) and 0 < amount <= self.balance:\n",
    "            self.balance -= amount\n",
    "            print(f\"Amount ${amount} withdrawl successfully from your account.\")\n",
    "        elif amount > self.balance:\n",
    "            raise ValueError(\"Insufficient funds!\")\n",
    "        elif amount <= 0:\n",
    "            raise ValueError(\"Amount must be positive, plese check your entered amount\")\n",
    "        else:\n",
    "            raise ValueError(f\"Some error is occuring, please check your entered amount\")\n",
    "    \n",
    "    def get_balance(self):\n",
    "        return f\"Current balance: {self.balance}\"\n",
    "    \n",
    "class SavingsAccount(BankAccount):\n",
    "    def __init__(self, account_number, balance=0, interest_rate = 0.02):\n",
    "        super().__init__(account_number, balance)\n",
    "        self.interest_rate = interest_rate\n",
    "    \n",
    "    def add_interest(self):\n",
    "        interest = self.balance * self.interest_rate\n",
    "        self.deposit(interest)\n",
    "        print(f\"Interest added. New balance: ${self.balance}\")\n",
    "\n",
    "class CheckingAccount(BankAccount):\n",
    "    def __init__(self, account_number, balance=0, overdraft_limit = 100):\n",
    "        super().__init__(account_number, balance)\n",
    "        self.overdraft_limit = overdraft_limit\n",
    "    \n",
    "    def withdraw(self, amount):\n",
    "        if isinstance(amount, float) and 0 < amount <= self.balance + self.overdraft_limit:\n",
    "            self.balance -= amount\n",
    "        elif amount <= 0:\n",
    "            raise ValueError(\"Amount must be positive, plese check your entered amount\")\n",
    "        else:\n",
    "            raise ValueError(\"Some error is occuring, please check your entered amount\")\n",
    "\n",
    "        "
   ]
  },
  {
   "cell_type": "markdown",
   "metadata": {},
   "source": [
    "**Q15.** Describe the concept of operator overloading in Python and how it relates to polymorphism. Provide examples using operators like '+' and '*'.\n",
    "\n",
    "**Answer:** Imagine we have a special kind of object, like a 'Point' or a 'Vector,' and we want to use regular math operators like '+' or '*' with these objects. Operator overloading lets you define what these operators should do for your objects.\n",
    "\n",
    "**Example 1- Overloding the '+' Operator:**\n",
    "\n",
    "Suppose we have a 'Point' object representing a point in space. We want to be able to add two points together using the '+' operator. Here's how you can do it:\n"
   ]
  },
  {
   "cell_type": "code",
   "execution_count": 4,
   "metadata": {},
   "outputs": [
    {
     "name": "stdout",
     "output_type": "stream",
     "text": [
      "5 7\n"
     ]
    }
   ],
   "source": [
    "class Point:\n",
    "    def __init__(self, x, y):\n",
    "        self.x = x\n",
    "        self.y = y\n",
    "    \n",
    "    def __add__(self, other):\n",
    "        if isinstance(other, Point):\n",
    "            return Point(self.x + other.x, self.y + other.y)\n",
    "        else:\n",
    "            raise TypeError(\"Unsupported operand type for +: {}\".format(type(other)))\n",
    "\n",
    "# Creating instance of the Point class\n",
    "point1 = Point(1, 2)\n",
    "point2 = Point(4, 5)\n",
    "\n",
    "# Using the overloaded '+' operator\n",
    "result = point1 + point2\n",
    "\n",
    "# Displaying the result\n",
    "print(result.x, result.y)\n"
   ]
  },
  {
   "cell_type": "markdown",
   "metadata": {},
   "source": [
    "**Example2 - Overloading the '*' Operator:**\n",
    "\n",
    "Now, let's say we have a 'Vector' object, and we want to multiple it by a number. Operator overloading helps you define what the '*' operator should do for your 'Vector' object:"
   ]
  },
  {
   "cell_type": "code",
   "execution_count": 5,
   "metadata": {},
   "outputs": [
    {
     "name": "stdout",
     "output_type": "stream",
     "text": [
      "[3, 6, 9]\n"
     ]
    }
   ],
   "source": [
    "class Vector:\n",
    "    def __init__(self, values):\n",
    "        self.values = values\n",
    "    \n",
    "    def __mul__(self, scalar):\n",
    "        if isinstance(scalar, (int, float)):\n",
    "            return Vector([value * scalar for value in self.values])\n",
    "        else:\n",
    "            raise TypeError(\"Unsupported operand type for *: {}\".format(type(scalar)))\n",
    "\n",
    "# Creating an instance of the Vector class\n",
    "vector = Vector([1, 2, 3])\n",
    "\n",
    "# Using the overload '*' operator\n",
    "result_vector = vector * 3\n",
    "\n",
    "# Displaying the result\n",
    "print(result_vector.values)"
   ]
  },
  {
   "cell_type": "markdown",
   "metadata": {},
   "source": [
    "In simple terms, operator overloading lets you define how your objects should behave with standard math operatons, making your code more flexible and readable"
   ]
  },
  {
   "cell_type": "markdown",
   "metadata": {},
   "source": [
    "**Q16.** What is dynamic polymorphism, and how is it achieved in Python?\n",
    "\n",
    "**Answer:** *Dynamic polymorphism* is a concept in object-oriented programming where a single function, method, or perator can work with different types of objects, and the specific behavior is determined at runtime. This is achieved through a mechanism called late binding, where the decision of which method or function to call is made at runtime based on the actual type of the object.\n",
    "\n",
    "In Python, dynamic polymorphism is primarily achieved two mechanisms: **method overriding and duck typing.**\n",
    "\n",
    " 1. **Method overriding:**\n",
    "   * Inheritance allows a class to inherit attributes and methods from another class. When a subclass provides a specific implementation for a method that is already defined in its superclass, it is called method overriding.\n",
    "\n",
    "   * Python supports dynamic polymorphism through method overriding. If a method is overridden in a subclass, the version of the method in the subclass is the one that gets executed when the method is called on an object of the subclass.\n",
    "\n",
    "   * Here's a simple example:"
   ]
  },
  {
   "cell_type": "code",
   "execution_count": 13,
   "metadata": {},
   "outputs": [
    {
     "name": "stdout",
     "output_type": "stream",
     "text": [
      "Dog barks\n",
      "Cat meows\n"
     ]
    }
   ],
   "source": [
    "class Animal:\n",
    "    def speak(self):\n",
    "        print(\"Animal speak\")\n",
    "\n",
    "class Dog(Animal):\n",
    "    def speak(self):\n",
    "        print(\"Dog barks\")\n",
    "\n",
    "class Cat(Animal):\n",
    "    def speak(self):\n",
    "        print(\"Cat meows\")\n",
    "\n",
    "# Dynamic polymorphism in action\n",
    "def animal_sound(animal):\n",
    "    animal.speak()\n",
    "\n",
    "dog = Dog()\n",
    "cat = Cat()\n",
    "\n",
    "animal_sound(dog)\n",
    "animal_sound(cat)"
   ]
  },
  {
   "cell_type": "markdown",
   "metadata": {},
   "source": [
    "2. **Duck Typing:**\n",
    "* Duck typing is a concept in Python that focuses on object's behavior rather than its type. If an object behaves like a particular type, then it is treated as that type, regardless of its actual class.\n",
    "\n",
    "* There's no need for explicit inheritance or interface implementation; Python looks for the presence of specifc methods or attributes during runtime.\n",
    "\n",
    "* Here's a simple example:"
   ]
  },
  {
   "cell_type": "code",
   "execution_count": 14,
   "metadata": {},
   "outputs": [
    {
     "name": "stdout",
     "output_type": "stream",
     "text": [
      "Duck quacks\n",
      "Person imitates duck\n"
     ]
    }
   ],
   "source": [
    "class Duck:\n",
    "    def quack(self):\n",
    "        print(\"Duck quacks\")\n",
    "\n",
    "class Person:\n",
    "    def quack(self):\n",
    "        print(\"Person imitates duck\")\n",
    "\n",
    "# Dynamic polymorphism through duck typing\n",
    "def mimic_quacking(entity):\n",
    "    entity.quack()\n",
    "\n",
    "duck = Duck()\n",
    "person = Person()\n",
    "\n",
    "mimic_quacking(duck)\n",
    "mimic_quacking(person)"
   ]
  },
  {
   "cell_type": "markdown",
   "metadata": {},
   "source": [
    "In both examples, the function ('speak' in the first example and 'quack' in the second example) can work with different types of objects, and the specific behavior is determined at runtime based on the actual type of the object passed to the function. This demonstrated dynamic plolymorphism in Python. "
   ]
  },
  {
   "cell_type": "markdown",
   "metadata": {},
   "source": [
    "**Q17:** Create a Python class hierarchy for employees in a company (e.g., manager, developer, designer) and implement ploymorphism through a common 'calculate_salary()' method.\n",
    "\n",
    "**Answer:**"
   ]
  },
  {
   "cell_type": "code",
   "execution_count": 16,
   "metadata": {},
   "outputs": [
    {
     "name": "stdout",
     "output_type": "stream",
     "text": [
      "Sahil Kumar Mandal - Manager: Salary $7250.0\n",
      "Mr. Nawin Kumar Mandal - Developer: Salary $8758.75\n",
      "Mrs. Rakhi Kumari - Designer: Salary $7400.0\n"
     ]
    }
   ],
   "source": [
    "class Employee:\n",
    "    def __init__(self, name, employee_id, role):\n",
    "        self.name = name\n",
    "        self.employee_id = employee_id\n",
    "        self.role = role\n",
    "    \n",
    "    def calculate_salary(self):\n",
    "        raise NotImplementedError(\"You haven't declared this method yet.\")\n",
    "\n",
    "class Manager(Employee):\n",
    "    def __init__(self, name, employee_id, bonus_percentage):\n",
    "        super().__init__(name, employee_id, role=\"Manager\")\n",
    "        self.bonus_percentage = bonus_percentage\n",
    "    \n",
    "    def calculate_salary(self):\n",
    "        base_salary = 5000  # Base salary for all managers\n",
    "        bonus_amount = base_salary * (self.bonus_percentage / 100)\n",
    "        total_salary = base_salary + bonus_amount\n",
    "        return f\"${total_salary}\"\n",
    "\n",
    "class Developer(Employee):\n",
    "    def __init__(self, name, employee_id, bonus_percentage):\n",
    "        super().__init__(name, employee_id, role=\"Developer\")\n",
    "        self.bonus_percentage = bonus_percentage\n",
    "    \n",
    "    def calculate_salary(self):\n",
    "        base_salary = 5005  # Base salary for all developers\n",
    "        bonus_amount = base_salary * (self.bonus_percentage / 100)\n",
    "        total_salary = base_salary + bonus_amount\n",
    "        return f\"${total_salary}\"\n",
    "\n",
    "class Designer(Employee):\n",
    "    def __init__(self, name, employee_id, bonus_percentage):\n",
    "        super().__init__(name, employee_id, role=\"Designer\")\n",
    "        self.bonus_percentage = bonus_percentage\n",
    "    \n",
    "    def calculate_salary(self):\n",
    "        base_salary = 4000  # Base salary for all designers\n",
    "        bonus_amount = base_salary * (self.bonus_percentage / 100)\n",
    "        total_salary = base_salary + bonus_amount\n",
    "        return f\"${total_salary}\"\n",
    "\n",
    "# Example usage:\n",
    "\n",
    "# Creating instances of different employee types\n",
    "manager = Manager(\"Sahil Kumar Mandal\", \"AB342\", 45)\n",
    "developer = Developer(\"Mr. Nawin Kumar Mandal\", 'BC890', 75)\n",
    "designer = Designer(\"Mrs. Rakhi Kumari\", \"GH789\", 85)\n",
    "\n",
    "employees = [manager, developer, designer]\n",
    "\n",
    "for employee in employees:\n",
    "    print(f\"{employee.name} - {employee.role}: Salary {employee.calculate_salary()}\")"
   ]
  },
  {
   "cell_type": "markdown",
   "metadata": {},
   "source": [
    "**Q18.** Discuss the concept of function pointers and how they can be used to achieve polymorphism in Python.\n",
    "\n",
    "**Answer:**"
   ]
  },
  {
   "cell_type": "markdown",
   "metadata": {},
   "source": [
    "**Function Pointer in Python:**\n",
    "\n",
    "In Python, function pointers are essentially references to functions. you can assign a function to a variable and use that variable to call the function.\n",
    "\n",
    "Example:"
   ]
  },
  {
   "cell_type": "code",
   "execution_count": 14,
   "metadata": {},
   "outputs": [
    {
     "name": "stdout",
     "output_type": "stream",
     "text": [
      "7\n",
      "20\n"
     ]
    }
   ],
   "source": [
    "def add(x, y):\n",
    "    print(x + y)\n",
    "\n",
    "def multiply(x, y):\n",
    "    print(x * y)\n",
    "\n",
    "operation1 = add\n",
    "operation2 = multiply\n",
    "\n",
    "operation1(3, 4)\n",
    "operation2(4, 5)"
   ]
  },
  {
   "cell_type": "markdown",
   "metadata": {},
   "source": [
    "**Polymorphism in Python:**\n",
    "\n",
    "Polymorphism in Python can be achieved by using function pointers. This allows you to use different functions interchangeably.\n",
    "\n",
    "Example:"
   ]
  },
  {
   "cell_type": "code",
   "execution_count": 15,
   "metadata": {},
   "outputs": [
    {
     "name": "stdout",
     "output_type": "stream",
     "text": [
      "91\n",
      "68\n"
     ]
    }
   ],
   "source": [
    "def apply_operation(x, y, operation):\n",
    "    return operation(x, y)\n",
    "\n",
    "apply_operation(45, 46, add)\n",
    "apply_operation(34, 2, multiply)"
   ]
  },
  {
   "cell_type": "markdown",
   "metadata": {},
   "source": [
    "In those examples, the ability to assign functions to variables(function pointers) and pass them as arguments enables you to achieve flexibility and polymorphism in Python."
   ]
  },
  {
   "cell_type": "markdown",
   "metadata": {},
   "source": [
    "**Q19.** Explain the role of interfaces and abstract classes in polymorphism, drawing comparisons between them.\n",
    "\n",
    "**Answer:**\n",
    "\n",
    "**Role of Interfaces and Abstract classes in Polymorphism:**\n",
    "\n",
    "**Interfaces:**\n",
    "1. *Defination:*\n",
    "   * Interface in programming is a way to define a contract for classes that implement it.\n",
    "   * It declares a sets of methods that a class must provide, but it doesn't implement them.\n",
    "\n",
    "2. *Polymorphism:*\n",
    "   * Interfaces enable polymorphism by allowing different classes to implement the same set of methods.\n",
    "   * Object of different classes that implement the same interface can be used interchangeably.\n",
    "\n",
    "3. *Example:* "
   ]
  },
  {
   "cell_type": "code",
   "execution_count": 21,
   "metadata": {},
   "outputs": [
    {
     "name": "stdout",
     "output_type": "stream",
     "text": [
      "Area of given ractangle: 15 sq.unit\n",
      "Area of given circle: 78.5 sq. unit\n"
     ]
    }
   ],
   "source": [
    "from abc import ABC, abstractmethod, abstractproperty\n",
    "\n",
    "class Shape(ABC):\n",
    "    @abstractproperty\n",
    "    def area(self):\n",
    "        pass\n",
    "\n",
    "class Rectangle(Shape):\n",
    "    def __init__(self, length, breadth):\n",
    "        self.length = length\n",
    "        self.breadth = breadth\n",
    "    \n",
    "    @property\n",
    "    def area(self):\n",
    "        return f\"{self.length * self.breadth} sq.unit\"\n",
    "\n",
    "class Circle(Shape):\n",
    "    def __init__(self, radius):\n",
    "        self.radius = radius\n",
    "    \n",
    "    @property\n",
    "    def area(self):\n",
    "        return f\"{3.14 * self.radius ** 2} sq. unit\"\n",
    "\n",
    "given_rectangle = Rectangle(length=3, breadth=5)\n",
    "given_circle = Circle(radius=5)\n",
    "\n",
    "print(f\"Area of given ractangle: {given_rectangle.area}\")\n",
    "print(f\"Area of given circle: {given_circle.area}\")"
   ]
  },
  {
   "cell_type": "markdown",
   "metadata": {},
   "source": [
    "**Abstract Classes:\n",
    "\n",
    "1. *Defination:*\n",
    "   * Abstract class is a class that cannot be instantiated on its own and may have abstrac methods.\n",
    "   * Abstract methods are declared but not implemented in the abstract class.\n",
    "\n",
    "2. *Polmorphism:*\n",
    "   * Abstract classes provide a base for other classes to inherit from.\n",
    "   * Subclasses must implement abstract methods, allowing them to be used interchangeably through polymorphism.\n",
    "\n",
    "3. *Example:*"
   ]
  },
  {
   "cell_type": "code",
   "execution_count": 22,
   "metadata": {},
   "outputs": [],
   "source": [
    "from abc import ABC, abstractmethod\n",
    "\n",
    "class Animal(ABC):\n",
    "    @abstractmethod\n",
    "    def speak(self):\n",
    "        pass\n",
    "\n",
    "class Dog(Animal):\n",
    "    def speak(self):\n",
    "        return \"Woof!\"\n",
    "\n",
    "class Cat(Animal):\n",
    "    def speak(self):\n",
    "        return \"Meow!\""
   ]
  },
  {
   "cell_type": "markdown",
   "metadata": {},
   "source": [
    "**Comparisons:**\n",
    "\n",
    "1. *Commonality:*\n",
    "   * Both interfaces and abstract classes provide a way to achieve polymorphism by defining a common structure for classes.\n",
    "\n",
    "2. *Implementation:*\n",
    "   * Interfaces only declare method signatures, leaving the implementation to the classes that implement them.\n",
    "   * Abstract classes may include both abstract and concrete methods, providing some level of implementation.\n",
    "\n",
    "3. *Multiple Inheritance:*\n",
    "   * In Python, a class can implement multiple interfaces, but it can inherit from only one abstract class.\n",
    "\n",
    "4. *Use Cases:*\n",
    "   * Use interfaces when you want to enforce a contract without specifying any implementation details.\n",
    "   * Use abstract classes when you want to provide a common abse class with some shared functionality.\n",
    "\n",
    "In summary, both interfaces and abstract classes play a crucial role in achieving polymorphism in Python,each with its own set of characteristics and use cases."
   ]
  },
  {
   "cell_type": "markdown",
   "metadata": {},
   "source": [
    "**Q20.** Create a Python class for a Zoo simulation, demonstrating polymorphism with different animal types (e.g., mammals, birds, reptiles) and their behavior (e.g., eating, sleeping, making_sounds).\n",
    "\n",
    "**Answer:**"
   ]
  },
  {
   "cell_type": "code",
   "execution_count": 17,
   "metadata": {},
   "outputs": [
    {
     "name": "stdout",
     "output_type": "stream",
     "text": [
      "Mammals is eating some grass\n",
      "Mammals is sleeping now\n",
      "Mammals is making sound\n",
      "Birds is eating some insects\n",
      "Birds is sleeping now\n",
      "Birds is making sound, chirp!, chirp!\n",
      "Reptiles is eating some insects\n",
      "Reptiles is sleeping now\n",
      "Reptiles is making sound, hiss! hiss!\n"
     ]
    }
   ],
   "source": [
    "class Animal:\n",
    "    def eating(self):\n",
    "        raise NotImplementedError(\"You haven't implemented this method yet\")\n",
    "    \n",
    "    def sleeping(self): \n",
    "        raise NotImplementedError(\"You haven't implemented this method yet\")\n",
    "    \n",
    "    def make_sound(self): \n",
    "        raise NotImplementedError(\"You haven't implemented this method yet\")\n",
    "\n",
    "class Mammals(Animal):\n",
    "    def eating(self):\n",
    "        print(\"Mammals is eating some grass\")\n",
    "    \n",
    "    def sleeping(self):\n",
    "        print(\"Mammals is sleeping now\")\n",
    "    \n",
    "    def make_sound(self):\n",
    "        print(\"Mammals is making sound\")\n",
    "\n",
    "class Birds(Animal):\n",
    "    def eating(self):\n",
    "        print(\"Birds is eating some insects\")\n",
    "    \n",
    "    def sleeping(self):\n",
    "        print(\"Birds is sleeping now\")\n",
    "    \n",
    "    def make_sound(self):\n",
    "        print(\"Birds is making sound, chirp!, chirp!\")\n",
    "\n",
    "class Reptiles(Animal):\n",
    "    def eating(self):\n",
    "        print(\"Reptiles is eating some insects\")\n",
    "    \n",
    "    def sleeping(self):\n",
    "        print(\"Reptiles is sleeping now\")\n",
    "    \n",
    "    def make_sound(self):\n",
    "        print(\"Reptiles is making sound, hiss! hiss!\")\n",
    "\n",
    "# Creating instances of different animals types\n",
    "mammals = Mammals()\n",
    "birds = Birds()\n",
    "reptiles = Reptiles()\n",
    "\n",
    "animals = [mammals, birds, reptiles]\n",
    "\n",
    "for animal in animals:\n",
    "    animal.eating()\n",
    "    animal.sleeping()\n",
    "    animal.make_sound()"
   ]
  },
  {
   "cell_type": "markdown",
   "metadata": {},
   "source": [
    "## Abstraction ##"
   ]
  },
  {
   "cell_type": "markdown",
   "metadata": {},
   "source": [
    "**Q1.** What is abstraction in Python, and how does it relate to object-oriented programming?"
   ]
  },
  {
   "cell_type": "markdown",
   "metadata": {},
   "source": [
    "**Answer:** Abstraction in python and Object-Oriented Programming (OOP)\n",
    "\n",
    " 1. *Defination of Abstraction:*\n",
    "\n",
    "* Abstraction is a core concept in object-oriented programming (OOP) that involves simplifying compelx systems by modelling clases based on essential properties and behaviors relevant to the problem at hand.\n",
    "\n",
    "* It allows for the representation of real-world entites and their interactions in a program, while hiding unnecessary details.\n",
    "\n",
    " 2. *Class Defination:*\n",
    "\n",
    "* In Python, a class serve as a blueprint for creating objects. It encapsulates data members (attributes) and methods (functions) that characterize the objects instantiated from that class.\n",
    "\n",
    "* Through class defination, abstraction enables the modeling of entities and their behaviors in a structured and modular manner."
   ]
  },
  {
   "cell_type": "code",
   "execution_count": 1,
   "metadata": {},
   "outputs": [],
   "source": [
    "class Car:\n",
    "    def __init__(self, make, model):\n",
    "        self.make = make\n",
    "        self.model = model\n",
    "    \n",
    "    def start_engine(self):\n",
    "        print(f\"The {self.make} {self.model}'s engine is now running.\")"
   ]
  },
  {
   "cell_type": "markdown",
   "metadata": {},
   "source": [
    " 3. *Encapsulation:*\n",
    "\n",
    "* Encapsulation, closely tied to abstraction, involves bundling data and methods into a single unit (class), with conrolled access to the internal details.\n",
    "\n",
    "* This ensures data integrity and security by restricting direct access of the data and allowing \n",
    "interactions through well-defined methods."
   ]
  },
  {
   "cell_type": "code",
   "execution_count": 2,
   "metadata": {},
   "outputs": [],
   "source": [
    "class BankAccount:\n",
    "    def __init__(self, account_holder, balance = 0):\n",
    "        self.account_holder = account_holder\n",
    "        self.balance = balance\n",
    "    \n",
    "    def deposit(self, amount):\n",
    "        self.balance += amount\n",
    "    \n",
    "    def withdraw(self, amount):\n",
    "        if amount <= self.balance:\n",
    "            self.balance -= amount\n",
    "        else:\n",
    "            print(\"Insufficient funds.\")"
   ]
  },
  {
   "cell_type": "markdown",
   "metadata": {},
   "source": [
    " 4. *Polymorphism:*\n",
    "\n",
    "* Abstraction facilitates polymorphism, allowing different classes to be treated as objects of a common base class.\n",
    "\n",
    "* Polymorphism is achieved through method overriding, where subclasses provide specific implementations of methods defined in their superclass."
   ]
  },
  {
   "cell_type": "code",
   "execution_count": 3,
   "metadata": {},
   "outputs": [],
   "source": [
    "class Shape:\n",
    "    def area(self):\n",
    "        pass\n",
    "\n",
    "class Circle(Shape):\n",
    "    def __init__(self, radius):\n",
    "        self.radius = radius\n",
    "    \n",
    "    def area(self):\n",
    "        return 3.14 * self.radius ** 2\n",
    "\n",
    "class Rectangle(Shape):\n",
    "    def __init__(self, length, width):\n",
    "        self.length = length\n",
    "        self.width = width\n",
    "    \n",
    "    def area(self):\n",
    "        return self.length * self.width"
   ]
  },
  {
   "cell_type": "markdown",
   "metadata": {},
   "source": [
    "*Consclusion:*\n",
    "\n",
    "* Abstraction, encapsuation, and polymorphism in Python collectively contribute to the development of modular, flexible, and maintainable code. Through the creation of classes and objects, abstraction enables the effective modeling of complex systems, promoting a structured and efficient approach to problem-solving in the realm of object-oriented programming."
   ]
  },
  {
   "cell_type": "markdown",
   "metadata": {},
   "source": [
    "**Q2.** Discuss the benefits of abstraction in terms of code organization and complexity reduction."
   ]
  },
  {
   "cell_type": "markdown",
   "metadata": {},
   "source": [
    "**Answer:** Abstraction in terms of code organization and complexity reduction offers several significant benefits. Let's explore these advantages:\n",
    "\n",
    " 1. *Modularity:*\n",
    "* Abstraction lets you break down your big, scary code into these neat, maangeable pieces called classes. Each class does its own thing, keeping your code organized and tidy.\n",
    "\n",
    " 2. *Code Reusability:*\n",
    "* Ever copied and pasted code because you were feeling lazy? Abstraction has got your back. With classes, you create these awesome templates that your can use again and again. No more copy-paste nightmares.\n",
    "\n",
    " 3. *Hiding the Nitty-Gritty:*\n",
    "\n",
    "* Abstraction lets you hide all the complicated stuff. Users only need to know how to use the class, not how it works under the hood. It's like driving a car without knowing how the engine work-just press the gass and go!\n",
    "\n",
    " 4. *Easy Maintenance:*\n",
    "* When your code is nicely split into classes, fixing bugs or adding new features is a breeze. Change one class without worrying about breaking everything else. Less stress, more fun.\n",
    "\n",
    " 5. *Scalability:*\n",
    "* Got big plans for your project? Abstraction is your growth spurt. You can keep adding new classes without turning your code into a hot mess. Perect for when your project hits the big leagues.\n",
    "\n",
    " 6. *Teamwork Makes the Dream Work:*\n",
    "* Abstraction is like a good team player. Different team member can work on different classes without stepping on each other's toes. It's teamwork without the drama.\n",
    "\n",
    " 7. *Readable AF:*\n",
    "* Picture this: code that's easy to read. Abstraction make our code look clean and simple, like a well-written story. No more squinting at the screen, trying to figure out what's going on.\n",
    "Abstraction is like the superhero of coding, making everything smoother, cooler, and way more awsome."
   ]
  },
  {
   "cell_type": "markdown",
   "metadata": {},
   "source": [
    "**Q3.** Create a Python class called 'shape' with an abstractmethod method 'calculate_area()'. Then, create child classes (e.g., rectangle, circle) tha implements the 'calculate_area()' method. Provid an example of using these classes."
   ]
  },
  {
   "cell_type": "code",
   "execution_count": 6,
   "metadata": {},
   "outputs": [
    {
     "name": "stdout",
     "output_type": "stream",
     "text": [
      "Rectangel's area (length: 4 unit, width: 5 unit) = 20 sq.unit\n",
      "Circle's area (radius: 5 unit) 78.5 sq.unit\n"
     ]
    }
   ],
   "source": [
    "class Shape:\n",
    "    def calculate_area(self):\n",
    "        return 'Area of the shape'\n",
    "\n",
    "class Rectangle(Shape):\n",
    "    def __init__(self, length, width):\n",
    "        self.length = length\n",
    "        self.width = width\n",
    "    \n",
    "    def calculate_area(self):\n",
    "        return f\"Rectangel's area (length: {self.length} unit, width: {self.width} unit) = {self.length * self.width} sq.unit\"\n",
    "\n",
    "class Circle(Shape):\n",
    "    def __init__(self, radius):\n",
    "        self.radius = radius\n",
    "    \n",
    "    def calculate_area(self):\n",
    "        return f\"Circle's area (radius: {self.radius} unit) {3.14 * self.radius ** 2} sq.unit\"\n",
    "\n",
    "shapes = [Rectangle(length = 4, width = 5), Circle(radius = 5)]\n",
    "\n",
    "for shape in shapes:\n",
    "    print(shape.calculate_area())"
   ]
  },
  {
   "cell_type": "markdown",
   "metadata": {},
   "source": [
    "**Q4.** Explain the concept of abstract classes in Python and how they are defined using the 'abc' module. Provide an example."
   ]
  },
  {
   "cell_type": "markdown",
   "metadata": {},
   "source": [
    "**Answer:** Abstract classes in Python are classes that cannot be instantiated on their own and are meant to be subclassed by other classes. They define a common interface for a group of related classes and can contain abstract methods, which are methods declared but not implemented in the abstract class. The 'abc' module in Python provides the necessary tools for creating abstract classes.\n",
    "\n",
    "To define an abstract class using the 'abc' module, you use the 'ABC' (Abstract base class) as a metaclass. Abstract methods are declared using '@abstractmethod' decorator. Subclasses must provide concrete implemntations for these abstract methods.\n",
    "\n",
    "Here's an example:"
   ]
  },
  {
   "cell_type": "code",
   "execution_count": 8,
   "metadata": {},
   "outputs": [
    {
     "name": "stdout",
     "output_type": "stream",
     "text": [
      "Area: 25 sq.unit\n",
      "Perimeter: 20 unit\n"
     ]
    }
   ],
   "source": [
    "from abc import ABC, abstractmethod\n",
    "\n",
    "class Shape(ABC):\n",
    "    @abstractmethod\n",
    "    def area(self):\n",
    "        pass\n",
    "\n",
    "    @abstractmethod\n",
    "    def perimeter(self):\n",
    "        pass\n",
    "\n",
    "class Square(Shape):\n",
    "    def __init__(self, side_length):\n",
    "        self.side_length = side_length\n",
    "    \n",
    "    def area(self):\n",
    "        return f\"{self.side_length ** 2} sq.unit\"\n",
    "    \n",
    "    def perimeter(self):\n",
    "        return f\"{4 * self.side_length} unit\"\n",
    "\n",
    "square = Square(5)\n",
    "print(\"Area:\", square.area())\n",
    "print(\"Perimeter:\", square.perimeter())"
   ]
  },
  {
   "cell_type": "markdown",
   "metadata": {},
   "source": [
    "In this example, 'Shape' is the abstract class with abstract methods 'area' and 'perimeter'. The concrete class 'Square' inherits from 'Shape' and provides implementation for the abstract methods.\n",
    "\n",
    "Attempting to instantiate an abstract class or a subclass that doesn't implement all the abstract methods will result in a 'TypeError'. This ensures that all subclasses adhere to the common interface defined by the abstract class."
   ]
  },
  {
   "cell_type": "markdown",
   "metadata": {},
   "source": [
    "**Q5.** How do abstract classes differ from regular classes in Python? Discuss their use cases.\n",
    "\n",
    "**Answer:**"
   ]
  },
  {
   "cell_type": "markdown",
   "metadata": {},
   "source": [
    "*Abstract Classes:*\n",
    "\n",
    " 1. Cannot be instantiated directly: Abstract classes cannot be instantiated on their own. They are meant to serve as a blueprint for other classes.\n",
    "\n",
    " 2. May contain abstract methods: Abstract classes often include abstract methods, which are declared in the abstract class but don't\n",
    "       have an implementation. Subclasses are required to provide implementation for these methods. \n",
    "\n",
    " 3. Use the 'abc' module: Abstract classes are typically defined using the 'ABC' (Abstract Base Class) metaclass from the 'abc' module.\n",
    "       The '@abstractmethod' decorator is used to declare abstract methods.\n",
    "\n",
    " 4. Define a common interface: Abstract class are often used to define a common interface or set of methods that must be implemented by\n",
    "       all subclasses. They enforce a structure for classes that inherit from them.\n",
    "\n",
    " 5. Enforce method implementation: If a subcalss fails to provide concrete implementations for all abstract methods, attempting to\n",
    "       instantiate it will result in a 'TypeError'.\n",
    "\n",
    "Use Cases for Abstract Classes:\n",
    "* When you want to define a common interface for a group of related classses.\n",
    "* When you want to ensure that specific methods are implemented in all subclasses.\n",
    "* When you want to create hierarchy of classes with shared characteristics and behaviors.\n",
    "\n",
    "*Regular Classes:*\n",
    "\n",
    " 1. Can be instantiated directly: Regualr classes can be instantiated on their own, without the need for subclasses. They represent\n",
    "       concrete objects.\n",
    "\n",
    " 2. May or may not include methods with implementations: Regular classes can have methods with or without implementations. They define\n",
    "       the behavior and attributes of the objects they represent.\n",
    "\n",
    " 3. No need for the 'abc' module: Regular classes do not require the 'abc' module. They are the standard way of defining classes in\n",
    "       Python.\n",
    "\n",
    " 4. May or may not be part of an inheritance hierarchy: Regualr classes can stand alone or be part of an inheritance hierarchy. They provide flexibility in designing class structures.\n",
    "\n",
    "Use Cases for Regular Classes:\n",
    "* When you need to create standalone objects without the need for a common interface\n",
    "* When you want to model real-world entites with specific attributes and behviors.\n",
    "* When you want more flexibility in the structure of your class hierarchy."
   ]
  },
  {
   "cell_type": "markdown",
   "metadata": {},
   "source": [
    "**Q6.** Create a Python class for a bank account and demonstrate abstraction by hiding the account balance and providing methods to deposit and withdraws funds."
   ]
  },
  {
   "cell_type": "code",
   "execution_count": 11,
   "metadata": {},
   "outputs": [
    {
     "name": "stdout",
     "output_type": "stream",
     "text": [
      "Deposit amount: $500, New balance: $500\n",
      "Withdrew amount: $400, New balance: $100\n"
     ]
    }
   ],
   "source": [
    "class BankAccount:\n",
    "    \"\"\"\n",
    "    A simple class representing a bank account.\n",
    "\n",
    "    Attributes:\n",
    "    - account_no: The account number.\n",
    "    - _balance: The current balance (Private).\n",
    "\n",
    "    Methods:\n",
    "    - deposit(amount): Deposit money into the account.\n",
    "    - withdraw(amount): Withdraw money from the account.\n",
    "    \"\"\"\n",
    "\n",
    "    def __init__(self, account_no, balance = 0):\n",
    "        \"\"\"\n",
    "        Initialize a new BankAccount.\n",
    "\n",
    "        Parameters:\n",
    "        - account_no: The account number.\n",
    "        - balance: The initial balance (default is o)\n",
    "        \"\"\"\n",
    "        self.account_no = account_no\n",
    "        self._balance = balance\n",
    "    \n",
    "    def deposit(self, amount):\n",
    "        \"\"\"\n",
    "        Deposit money into the account.\n",
    "\n",
    "        Parameters:\n",
    "        - amount: The amount to be deposited.\n",
    "\n",
    "        Raises:\n",
    "        - ValueError: If the amount is not positive.\n",
    "        \"\"\"\n",
    "        if amount <= 0:\n",
    "            raise ValueError(\"Invalid input, deposit amount must be positive\")\n",
    "        \n",
    "        self._balance += amount\n",
    "        print(f\"Deposit amount: ${amount}, New balance: ${self._balance}\")\n",
    "\n",
    "    \n",
    "    def withdraw(self, amount):\n",
    "        \"\"\"\n",
    "        Withdraw money from the account.\n",
    "\n",
    "        Parameters:\n",
    "        - amount: The amount to be withdrawn..\n",
    "\n",
    "        Raises:\n",
    "        - ValueError: If the amount is not positive or exceeds the balance.\n",
    "        \"\"\"\n",
    "        if amount <= 0:\n",
    "            raise ValueError(\"Invalid input,  withdrawl amount must be positive\")\n",
    "        elif amount > self._balance:\n",
    "            raise ValueError(\"Insufficient fund\")\n",
    "        \n",
    "        self._balance -= amount\n",
    "        print(f\"Withdrew amount: ${amount}, New balance: ${self._balance}\")\n",
    "        \n",
    "# Example usage\n",
    "my_account = BankAccount(2251020077)\n",
    "my_account.deposit(500)      # Deposit $500 in my account\n",
    "my_account.withdraw(400)     # Withdrawl $400 from my account"
   ]
  },
  {
   "cell_type": "markdown",
   "metadata": {},
   "source": [
    "**Q7.** Discuss the concept of interface classes in Python and their role in achieving abstraction. "
   ]
  },
  {
   "cell_type": "markdown",
   "metadata": {},
   "source": [
    "**Answer:** Interface classes in Python, implemented through abstract base classes, play a crucial role in achieving abstraction by defining a common interfae and forcing concrete classes to adhere to that interface through the implementation of abstract methods. This promotes code modularity, consistency, and ease of maintenance.\n",
    "\n",
    "Example:"
   ]
  },
  {
   "cell_type": "code",
   "execution_count": 12,
   "metadata": {},
   "outputs": [
    {
     "name": "stdout",
     "output_type": "stream",
     "text": [
      "Circle Area: 78.5 sq.unit\n",
      "Circle Perimeter: 31.400000000000002 unit\n",
      "Square Area: 16 sq.unit\n",
      "Square Perimeter: 16 unit\n"
     ]
    }
   ],
   "source": [
    "from abc import ABC, abstractmethod\n",
    "\n",
    "class Shape(ABC):\n",
    "    @abstractmethod\n",
    "    def area(self):\n",
    "        pass\n",
    "\n",
    "    @abstractmethod\n",
    "    def perimeter(self):\n",
    "        pass\n",
    "\n",
    "class Circle(Shape):\n",
    "    def __init__(self, radius):\n",
    "        self.radius = radius\n",
    "    \n",
    "    def area(self):\n",
    "        return f\"{3.14 * self.radius ** 2} sq.unit\"\n",
    "    \n",
    "    def perimeter(self):\n",
    "        return f\"{2 * 3.14 * self.radius} unit\"\n",
    "\n",
    "\n",
    "class Square(Shape):\n",
    "    def __init__(self, side_length):\n",
    "        self.side_length = side_length\n",
    "    \n",
    "    def area(self):\n",
    "        return f\"{self.side_length ** 2} sq.unit\"\n",
    "    \n",
    "    def perimeter(self):\n",
    "        return f\"{4 * self.side_length} unit\"\n",
    "\n",
    "# Instantiate objects and use them\n",
    "given_circle = Circle(5)\n",
    "square = Square(4)\n",
    "\n",
    "print(\"Circle Area:\", given_circle.area())\n",
    "print(\"Circle Perimeter:\", given_circle.perimeter())\n",
    "\n",
    "\n",
    "print(\"Square Area:\", square.area())\n",
    "print(\"Square Perimeter:\", square.perimeter())"
   ]
  },
  {
   "cell_type": "markdown",
   "metadata": {},
   "source": [
    "In this example, 'Shape' is an interface (abstract base class) with abstract methods 'area' and 'perimeter'. The 'Cirle' and 'Square' classes implement this interface by providing concrete implementation for these methods."
   ]
  },
  {
   "cell_type": "markdown",
   "metadata": {},
   "source": [
    "**Q8.** Create a Python class hierarchy for animals and implement abstraction by defining common methods (e.g., 'eat()', 'sleep()') in an abstract base class.\n",
    "\n",
    "**Answer:**"
   ]
  },
  {
   "cell_type": "code",
   "execution_count": 15,
   "metadata": {},
   "outputs": [
    {
     "name": "stdout",
     "output_type": "stream",
     "text": [
      "Dog is now eating omlet.\n",
      "Now, dog is sleeping peacefully.\n",
      "Cat is now, eating some roasted chicken.\n",
      "Cat is now, sleeping peacefully.\n"
     ]
    }
   ],
   "source": [
    "from abc import ABC, abstractmethod\n",
    "\n",
    "class Animal(ABC):\n",
    "    @abstractmethod\n",
    "    def eat(self):\n",
    "        pass\n",
    "    \n",
    "    @abstractmethod\n",
    "    def sleep(self):\n",
    "        pass\n",
    "\n",
    "class Dog(Animal):\n",
    "    def eat(self):\n",
    "        print(\"Dog is now eating omlet.\")\n",
    "\n",
    "    def sleep(self):\n",
    "        print(\"Now, dog is sleeping peacefully.\")\n",
    "\n",
    "class Cat(Animal):\n",
    "    def eat(self):\n",
    "        print(\"Cat is now, eating some roasted chicken.\")\n",
    "\n",
    "    def sleep(self):\n",
    "        print(\"Cat is now, sleeping peacefully.\")\n",
    "\n",
    "# Instantiate objects and use them\n",
    "animals = [Dog(), Cat()]\n",
    "\n",
    "for animal in animals:\n",
    "    animal.eat()\n",
    "    animal.sleep()"
   ]
  },
  {
   "cell_type": "markdown",
   "metadata": {},
   "source": [
    "**Q9.** Explain the significance of encapsulation in acheiving abstracting. Provide examples."
   ]
  },
  {
   "cell_type": "markdown",
   "metadata": {},
   "source": [
    "**Answer:** In programming, we use encapsulation to create classes. We hide the complicted stuff and provide simple ways(methods) for users to interact with our code. This way, the user doesn't need to worry about the nitty-gritty details; they can just use the methods we've provided.\n",
    "\n",
    "In a nutshell, encapsulation is like putting a protective layer around the inner workings of a program, and it helps us to create user-friendly, easy-to-understand code by exposing only what's necessary. It's a bit like having a cool gadget-you don't need to know every detail; you just use the buttons!\n",
    "\n",
    "Example:"
   ]
  },
  {
   "cell_type": "code",
   "execution_count": 18,
   "metadata": {},
   "outputs": [
    {
     "name": "stdout",
     "output_type": "stream",
     "text": [
      "Current Balance: $1000\n"
     ]
    }
   ],
   "source": [
    "class BankAccount:\n",
    "    def __init__(self, account_no, balance = 0):\n",
    "        self._account_no = account_no      # Encapsulated attribute\n",
    "        self._balance = balance            # Encapsulated attribute\n",
    "    \n",
    "    def deposit(self, amount):\n",
    "        self._balance += amount\n",
    "    \n",
    "    def get_balance(self):\n",
    "        return self._balance\n",
    "\n",
    "# Instantiate and use the BankAccount class\n",
    "my_account = BankAccount(2251020077)\n",
    "my_account.deposit(1000)\n",
    "print(f\"Current Balance: ${my_account.get_balance()}\")"
   ]
  },
  {
   "cell_type": "markdown",
   "metadata": {},
   "source": [
    "In this exampl, the internal details of the 'BankAccount' class, such as the account number ('_account_no') and balance ('_balance'), are encapsulated. Users of the class interact with it through well-defined methods ('deposit' and 'get_balance'). This encapsualtion hides the implementations details and allows users to work with the class at a higher level of abstraction.\n",
    "\n",
    "*Summary:*\n",
    "\n",
    "Encapsulation enables abstraction by bundling data and methods within a class and controlling access to the internal state. Through encapsulation, you can expose a clean, well-defined interface, hiding the complexity of the implementation and allowing users to interact with objects at a higher level of abstraction."
   ]
  },
  {
   "cell_type": "markdown",
   "metadata": {},
   "source": [
    "**Q10.** What is the purpose of abstract methods, and how do they enforce abstraction in Python classes?\n",
    "\n",
    "**Answer:**"
   ]
  },
  {
   "cell_type": "markdown",
   "metadata": {},
   "source": [
    "**Purpose of Abstract Methods:**\n",
    "    \n",
    " 1. *Blueprint for Classes:*\n",
    "    * Imagine you're building different types of vehicles, like car and bicycles. Before you start building, you create a bluepring that outlines what every vehicle should have - wheels, an engine, and so on. Abstract methods are like the required features listed in this blueprint.\n",
    "    \n",
    " 2. *Forcing Implementations:*\n",
    "    * When you create this bluepring, you don't provide the exact details of how each parts works. Abstract methods are placeholders for methods that every vehicle must have, but you leave them blank. This way, every specific vehicle (class) you build must fill in these blanks with its own unique ways of doing things.\n",
    "    \n",
    " 3. *Guidance for Builders:*\n",
    "    * Abstract methods guide the builders (programmers) by telling them, \"Hey, every vehicle must have these methods. You figure out how each methods works for your specific vehicle.\"\n",
    "    \n",
    "**Enforcing Abstraction:**\n",
    "\n",
    " 1. *Hiding the Complicated Stuff:*\n",
    "    * Imagine you buy a remote-controller car. You don't need to know every wire and cicuits inside it to play with it. You just use the buttons on the remote. Abstract methods works similarly they hide the complicated stuff inside a class, so users (other parts of the program or other programmers) only need to know how to interact with it, not how it's implemented.\n",
    "\n",
    " 2. *Making Things Modular:*\n",
    "    * Think of abstract methods as building blocks. Each block (class) has its own specific way of doing things, and you can use these blocks together without worrying about how they were made. This makes your code more modular-like assembling different Lego pieces to create something bigger.\n",
    "\n",
    " 3. *Using Different Pieces Interchangeably:*\n",
    "    * Imagine you have different shapes - squares, circles, and triangles. You don't need to know how each calculate its area; you just know they all have an 'area' method. Abstract methods enable you to use different shapes interchangeably because they all adhere to the same set of rules, even though their implementations may be different.\n",
    "    \n",
    "In a nutshell, abstract methods are like placeholders in a blueprint. They guide programmers by saying, \"you must have these methods,\" but they don't provide the exact instructions. This allows for flexibility and consistency in building and using differnt parts of a program."
   ]
  },
  {
   "cell_type": "markdown",
   "metadata": {},
   "source": [
    "**Q11.** Crete a Python class for a vehicle system and demonstrate abstraction by defining common methods (e.g., 'start()', and 'Stop()') in an abstract base class.\n",
    "\n",
    "**Answer:**"
   ]
  },
  {
   "cell_type": "code",
   "execution_count": 20,
   "metadata": {},
   "outputs": [
    {
     "name": "stdout",
     "output_type": "stream",
     "text": [
      "My Mercedes Benz is starting now.\n",
      "My Mercedes Benz is stopping now.\n",
      "My Farrari is starting now.\n",
      "My Farrari is stopping now.\n"
     ]
    }
   ],
   "source": [
    "from abc import ABC, abstractmethod\n",
    "\n",
    "class Vehicle(ABC):\n",
    "    @abstractmethod\n",
    "    def start(self):\n",
    "        return NotImplementedError(\"'start()' method hasn't been impelemented yet.\")\n",
    "    \n",
    "    @abstractmethod\n",
    "    def stop(self):\n",
    "        return NotImplementedError(\"'stop()' method hasn't been impelemented yet.\")\n",
    "\n",
    "class MercedesBenz(Vehicle):\n",
    "    def start(self):\n",
    "        print(\"My Mercedes Benz is starting now.\")\n",
    "    \n",
    "    def stop(self):\n",
    "        print(\"My Mercedes Benz is stopping now.\")\n",
    "\n",
    "class Ferrari(Vehicle):\n",
    "    def start(self):\n",
    "        print(\"My Farrari is starting now.\")\n",
    "    \n",
    "    def stop(self):\n",
    "        print(\"My Farrari is stopping now.\")\n",
    "\n",
    "# Instantiate and use them\n",
    "vehicles = [MercedesBenz(), Ferrari()]\n",
    "\n",
    "for vehicle in vehicles:\n",
    "    vehicle.start()\n",
    "    vehicle.stop()"
   ]
  },
  {
   "cell_type": "markdown",
   "metadata": {},
   "source": [
    "**Q12.** Describe the use of abstract properties in Python and how they can be employed in abstract classes.\n",
    "\n",
    "**Answer:**"
   ]
  },
  {
   "cell_type": "markdown",
   "metadata": {},
   "source": [
    "**Abstract Properties in Simple Terms:**\n",
    "\n",
    " 1. *What Are They:*\n",
    "    * Think of abstract properties as characteristics that evey shape would have, but we don't exactly say how to calculate them. For example, every shape has an area and perimeter, but they way we calculate those can be different for each shape.\n",
    "\n",
    " 2. *Why are They Useful:*\n",
    "    * Imagine you're building a bunch of shapes like squares, circles, and triangles. You want to make sure that every shape you build has an area and perimeter. Abstract properties help you set this rule: \"Every shape must have an area and perimeter, but i won't tell you exactly how to find them. You, the shape builder, figure that out.\"\n",
    "\n",
    " 3. *How to Use Them:*\n",
    "    * When you create a shapw class you say, \"Hey, any class that wants to be a shape must have these things called 'area' and 'perimeter'. I won't tell you what values they should have, but they must be there.\" This is done using '@abstractproperty' in Python.\n",
    "\n",
    " 4. *Example:*\n",
    "    * Imagine you have a blueprint for differnt shapes:"
   ]
  },
  {
   "cell_type": "code",
   "execution_count": null,
   "metadata": {},
   "outputs": [],
   "source": [
    "from abc import ABC, abstractmethod, abstractproperty\n",
    "\n",
    "class shape(ABC):\n",
    "    @abstractproperty\n",
    "    def area(self):\n",
    "        pass\n",
    "\n",
    "    @abstractproperty\n",
    "    def perimeter(self):\n",
    "        pass\n",
    "\n",
    "class Square(Shape):\n",
    "    def __init__(self, side_length):\n",
    "        self.side_length = side_length\n",
    "    \n",
    "    @property\n",
    "    def area(self):\n",
    "        return f\"{self.side_length ** 2} sq.unit\"\n",
    "\n",
    "    @property\n",
    "    def perimeter(self):\n",
    "        return f\"{self.side_length * 4} unit\" \n",
    "\n",
    "class Circle(Shape):\n",
    "    def __init__(self, radius):\n",
    "        self.radius = radius\n",
    "    \n",
    "    @property\n",
    "    def area(self):\n",
    "        return f\"{3.14 * self.radius ** 2} sq.unit\"\n",
    "\n",
    "    @property\n",
    "    def perimeter(self):\n",
    "        return f\"{2  * 3.14* self.side_length} unit\"\n",
    "\n"
   ]
  },
  {
   "cell_type": "markdown",
   "metadata": {},
   "source": [
    "**Q13.** Create a Python class hierarchy for employees in a company (e.g., manager, developer, designer) and implement abstraction by defining a common 'get_salary()' method.\n",
    "\n",
    "**Answer:**"
   ]
  },
  {
   "cell_type": "code",
   "execution_count": 9,
   "metadata": {},
   "outputs": [
    {
     "name": "stdout",
     "output_type": "stream",
     "text": [
      "Elon Musk (Manager): (Total salary: $7500.0)\n",
      "Mark Zuckerberg (Developer): (Total salary: $90750.0)\n",
      "Mrs. Gauri Khan (Designer): (Total salary: $8750.0)\n"
     ]
    }
   ],
   "source": [
    "from abc import ABC, abstractproperty\n",
    "from typing import Union\n",
    "\n",
    "class Employee(ABC):\n",
    "    \"\"\"\n",
    "    Abstract base class represening an employee.\n",
    "    \"\"\"\n",
    "    def __init__(self, name: str, employee_id: str, base_salary: int, bonus_percentage: int):\n",
    "        \"\"\"\n",
    "        Initialize the Employee oject with a name, employee ID, base salary, bonus percentage.\n",
    "        \"\"\"\n",
    "        self.name = name\n",
    "        self.employee_id = employee_id\n",
    "        self.base_salary = base_salary\n",
    "        self.bonus_percentage = bonus_percentage\n",
    "    \n",
    "    @abstractproperty\n",
    "    def get_salary(self) -> Union[str, int]:\n",
    "        \"\"\"\n",
    "        Abstract method to get the salary of an employee.\n",
    "        \"\"\"\n",
    "        return NotImplementedError(\"You haven't declared this method yet.\")\n",
    "\n",
    "class Developer(Employee):\n",
    "    \"\"\"\n",
    "    Concrete class representing a developer employee.\n",
    "    \"\"\"\n",
    "    @property\n",
    "    def get_salary(self) -> str:\n",
    "        \"\"\"\n",
    "        Calculate and return the total salary of the developer.\n",
    "        \"\"\"\n",
    "        bonus_salary = self.base_salary * (self.bonus_percentage / 100)\n",
    "        total_salary = self.base_salary + bonus_salary\n",
    "        return f\"{self.name} (Developer): (Total salary: ${total_salary})\"\n",
    "    \n",
    "class Manager(Employee):\n",
    "    \"\"\"\n",
    "    Concrete class representing a manager employee.\n",
    "    \"\"\"\n",
    "    @property\n",
    "    def get_salary(self) -> str:\n",
    "        \"\"\"\n",
    "        Calculate and return the total salary of the manager.\n",
    "        \"\"\"\n",
    "        bonus_salary = self.base_salary * (self.bonus_percentage / 100)\n",
    "        total_salary = self.base_salary + bonus_salary\n",
    "        return f\"{self.name} (Manager): (Total salary: ${total_salary})\"\n",
    "\n",
    "class Designer(Employee):\n",
    "    \"\"\"\n",
    "    Concrete class representing a designer employee\n",
    "    \"\"\"\n",
    "    @property\n",
    "    def get_salary(self) -> str:\n",
    "        \"\"\"\n",
    "        Calculate and return the total salay of the designer.\n",
    "        \"\"\"\n",
    "        bonus_salary = self.base_salary * (self.bonus_percentage / 100)\n",
    "        total_salary = self.base_salary + bonus_salary\n",
    "        return f\"{self.name} (Designer): (Total salary: ${total_salary})\"\n",
    "\n",
    "manager = Manager(\"Elon Musk\", \"AD123\", 5000, 50)\n",
    "developer = Developer(\"Mark Zuckerberg\", \"DF987\", 55000, 65)\n",
    "designer = Designer(\"Mrs. Gauri Khan\", \"ER567\", 5000, 75)\n",
    "\n",
    "employees = (manager, developer, designer)\n",
    "\n",
    "for employee in employees:\n",
    "    print(employee.get_salary)"
   ]
  },
  {
   "cell_type": "markdown",
   "metadata": {},
   "source": [
    "**Q14.** Discuss the difference between abstract classes and concrete classes in Python, including their instantiation.\n",
    "\n",
    "**Answer:**"
   ]
  },
  {
   "cell_type": "markdown",
   "metadata": {},
   "source": [
    "**Concrete Classes:**\n",
    "\n",
    " 1. *What are They:*\n",
    "    * Concrete classes are like ready-made blueprints for creatng things (objects) in Python.\n",
    "    * You can directly use this blueprints to make actual objects.\n",
    "\n",
    " 2. *How to Use:*\n",
    "    * If you have a clear idea of what you want and how it should work, you use a concrete class. It's like having a fully detailed recipe for banking a specifc cake.\n",
    "\n",
    " 3. *Example:*\n",
    "    * If you have a class called **'Car'**, you can create an actual car object like this:"
   ]
  },
  {
   "cell_type": "code",
   "execution_count": 10,
   "metadata": {},
   "outputs": [],
   "source": [
    "class Car:\n",
    "    def __init__(self, brand, model):\n",
    "        self.brand = brand\n",
    "        self.model = model\n",
    "\n",
    "my_car = Car(\"Toyota\", 'Camry')  # This is a real car object"
   ]
  },
  {
   "cell_type": "markdown",
   "metadata": {},
   "source": [
    "**Abstract Classes:**\n",
    "\n",
    " 1. *What are They:*\n",
    "    * Abstract classes are like general plans that tell you what a class should look like, but you can't directly create objects from them.\n",
    "    * They often have some parts that need to be filled in by more specific classes.\n",
    "\n",
    " 2. *How to Use:*\n",
    "    * You use abstract classes when you want to define a common structuer for a group of related classes, but you leave some parts for those specifc classes to decide.\n",
    "    * It's like having a basic outline for a story that different authors can use to write their own versions.\n",
    "\n",
    " 3. *Example:*\n",
    "    * If you have an abstract class called 'shape' saying, \"Any shape should have an area, but i won't tell you how to find it,\" you need to create a specific shape class, like 'Square', that fill in the details: "
   ]
  },
  {
   "cell_type": "code",
   "execution_count": 9,
   "metadata": {},
   "outputs": [],
   "source": [
    "from abc import ABC, abstractmethod\n",
    "\n",
    "class Shape(ABC):\n",
    "    @abstractmethod\n",
    "    def area(self):\n",
    "        raise NotImplemented(\"You doesn't implemented this method yet.\")\n",
    "\n",
    "class Square(Shape):\n",
    "    def __init__(self, side_length):\n",
    "        self.side_length = side_length\n",
    "    \n",
    "    def area(self):\n",
    "        return f\"{self.side_length ** 2} sq.unit\""
   ]
  },
  {
   "cell_type": "markdown",
   "metadata": {},
   "source": [
    "**Q15.** Explain the concept of abstract data types (ADTs) and their role in acheiving abstraction in Python.\n",
    "\n",
    "**Answer:** \n",
    "\n",
    "*1. What Are Abstract Data Types (ADTs)?*\n",
    "* ADTs are like blueprint for organizing and working with data in programming.*\n",
    "* They describe what operations you can do with certain types of data but don't specify how those operations work internally.*\n",
    "\n",
    "* Abstraction in Python:*\n",
    "* Abstraction means simplifying things. With ADTs in Python, you can use data structure and performs actions on them without worrying about the nitty-gritty details of how they are implemented.*\n",
    "* Python has built-in ADTs like lists, sets, and dictionaries that let you work with data in a high-level way.*\n",
    "\n",
    "*Encapsulation:*\n",
    "* ADTs bundle data and actions together, hiding the complex stuff behind a clean interface.*\n",
    "* It's like using a TV remote without knowing how it works inside-press a button, and it does what you expect.*\n",
    "\n",
    "*Separation of concerns:*\n",
    "* ADTs separate what you can do with data from how its's done.*\n",
    "* This separation helps manage big problems by breaking them into smaller, more manageable parts.*\n",
    "\n",
    "*Example in Python:*\n",
    "* Think of a Python list. You can add, remove, and find things without knowing how the list stores data.*\n",
    "* You interact with the list at a high level, just like pressing buttons on a remote.*"
   ]
  },
  {
   "cell_type": "code",
   "execution_count": 11,
   "metadata": {},
   "outputs": [],
   "source": [
    "my_list = [1, 2, 3, 4, 5]\n",
    "my_list.append(8)            # Adding to the list (abstract operation)\n",
    "element = my_list.pop()      # Removing from the list (abstract operation) "
   ]
  },
  {
   "cell_type": "markdown",
   "metadata": {},
   "source": [
    "*Creating Your Own ADTs:*\n",
    "* Python lets you define your own ADTs using classes.*\n",
    "* You can make custom blueprints for data and actions that fit your specific needs.*\n",
    "\n",
    "In simple terms, ADTs in Python help you work with data without getting bogged down by details. They provide a clean way to organize information and actions, making your code more readable and easier to manage. It's like using a remote control--press the right buttons, and things happen, even if you don't know the inner workings."
   ]
  },
  {
   "cell_type": "markdown",
   "metadata": {},
   "source": [
    "**Q16.** Create a Python class for a computer system, demonstrating abstraction by defining common methods (e.g., 'power_on()', 'shut_down()') in an abstract base class."
   ]
  },
  {
   "cell_type": "code",
   "execution_count": 6,
   "metadata": {},
   "outputs": [
    {
     "name": "stdout",
     "output_type": "stream",
     "text": [
      "Apple Mack book pro Laptop is powering on\n",
      "Booting up Dell X14 desktop...\n",
      "Shutting down the laptop...\n",
      "Shuttin down the desktop...\n"
     ]
    }
   ],
   "source": [
    "from abc import ABC, abstractproperty\n",
    "\n",
    "class ComputerSystem(ABC):\n",
    "    \"\"\"\n",
    "    Abstract base class representing a computer system.\n",
    "    \"\"\"\n",
    "    def __init__(self, brand, model):\n",
    "        \"\"\"\n",
    "        Initialize the computer system with brand name, model, and is powered on.\n",
    "        \"\"\"\n",
    "        self.brand = brand\n",
    "        self.model = model\n",
    "        self.is_on = False\n",
    "\n",
    "    @abstractproperty\n",
    "    def power_on(self):\n",
    "        \"\"\"\n",
    "        Abstract method for power on the computer\n",
    "        \"\"\"\n",
    "        raise NotImplementedError(\"You doesn't implemented this method yet.\")\n",
    "    \n",
    "    @abstractproperty\n",
    "    def shut_down(self):\n",
    "        \"\"\"\n",
    "        Abstract method for power off the computer\n",
    "        \"\"\"\n",
    "        raise NotImplementedError(\"You doesn't implemented this method yet.\")\n",
    "\n",
    "\n",
    "class Laptop(ComputerSystem):\n",
    "    \"\"\"\n",
    "    Concrete class representing a laptop \n",
    "    \"\"\"\n",
    "    @property\n",
    "    def power_on(self):\n",
    "        \"\"\"\n",
    "        Power on the laptop\n",
    "        \"\"\"\n",
    "        if not self.is_on:\n",
    "            print(f\"{self.brand} {self.model} Laptop is powering on\")\n",
    "            self.is_on = True\n",
    "        else:\n",
    "            print(f\"{self.brand} {self.model} Laptop is already powered on\")\n",
    "    \n",
    "    @property\n",
    "    def shut_down(self):\n",
    "        \"\"\"\n",
    "        Shut down the laptop\n",
    "        \"\"\"\n",
    "        if self.is_on:\n",
    "            print(f\"Shutting down the laptop...\")\n",
    "            self.is_on = False\n",
    "        else:\n",
    "            print(f\"Laptop is alredy powered off.\")\n",
    "\n",
    "\n",
    "class Desktop(ComputerSystem):\n",
    "    \"\"\"\n",
    "    Concrete class representing a desktop\n",
    "    \"\"\"\n",
    "    @property\n",
    "    def power_on(self):\n",
    "        \"\"\"Power on the desktop\n",
    "        \"\"\"\n",
    "        if not self.is_on:\n",
    "            print(f\"Booting up {self.brand} {self.model} desktop...\")\n",
    "            self.is_on = True\n",
    "        else:\n",
    "            print(\"Dektop is already powered on.\")\n",
    "    \n",
    "    @property\n",
    "    def shut_down(self):\n",
    "        \"\"\"Shut down the desktop.\n",
    "        \"\"\"\n",
    "        if self.is_on:\n",
    "            print(\"Shuttin down the desktop...\")\n",
    "            self.is_on = False\n",
    "        else:\n",
    "            print(\"Desktop is already powered off.\")\n",
    "\n",
    "# Instantiate and use them\n",
    "laptop = Laptop(\"Apple\", 'Mack book pro')\n",
    "desktop = Desktop(\"Dell\", \"X14\")\n",
    "\n",
    "# Powering on the laptop and desktop\n",
    "laptop.power_on\n",
    "desktop.power_on\n",
    "\n",
    "# Powering off the desktop and laptop\n",
    "laptop.shut_down\n",
    "desktop.shut_down"
   ]
  },
  {
   "cell_type": "markdown",
   "metadata": {},
   "source": [
    "**Q17.** Discuss the benefits of using abstraction in large-scale software development projects.\n",
    "\n",
    "**Answer:**\n",
    "\n",
    "*1. Making Things Easier to Understand:*\n",
    "* **Less Overwhelm:** Abstracting lets developers focus on the big picture without drowning in tiny details. It's like looking at a city map instead of studying every singel building.*\n",
    "\n",
    "* **Neat and Tidy:** Breaking the software into manageable parts makes it like neatly organozed different sections of a big book.*\n",
    "\n",
    "*2. Keeping Things Tidy and Readable:*\n",
    "* **Clear Instructions:** Abstraction gives a clean way to talk to differnt parts of the software. It's lime having a menu in a restaurant--everything is organized, and you know where to find what you need.*\n",
    "\n",
    "* **Avoiding Chaos:** Spliting resposibilites into separate boxes (or modules) helps keep things tidy. It's like having separate rooms for cooking, sleeping, and playing in a house.*\n",
    "\n",
    "*3. Easier fixes and Growth:*\n",
    "* **Fixing without Chaos:** If something in one part of the software needs fixing, you can do it without worrying about messing up the rest. It's like fixing a flat tire without taking apart the entire car.*\n",
    "\n",
    "* **Growing Smoothly:** When you want to add more features or make things bigger abstraction makes it like adding new rooms to a house--no need to rebuild the whole thing.*\n",
    "\n",
    "*4. Teamwork Made Easier:*\n",
    "* **Divide and Conquer:** Different teams can work on differnt parts of the software without stepping on each other's toes. It's like having specialized chefs in a kitchen, each focused on their part.*\n",
    "\n",
    "* **Talking the Same Language:** Abstracting provides a common languages for teams. It's like eveyone speaking the same language in a multinational company.*\n",
    "\n",
    "*5. Reusing Good Stuff:*\n",
    "* **Using What Works:** Abstracted parts can be reused in different places, saving time. It's like having a favourite recipe that you use for different meals.*\n",
    "\n",
    "* **Easy Additions:** When you want to add something new, abstraction makes it lime adding new section to a garden instead of replanting everything.*\n",
    "\n",
    "*6. Handling Changes Gracefully:*\n",
    "* **Adapting to Change:** Abstraction makes it easier to adapt when things change. It's like having clothes thatcan be adjusted as you grow.*\n",
    "\n",
    "* **Keeping Up With Tech:** when technology changes, abstraction allows for smooth transitions. It's like upgrading your phone without loosing your contacts.*\n",
    "\n",
    "*7. Testing and Fixing Made Simple:*\n",
    "* **Testing in Parts:** You can test one part of the software without messing with the rest. It's like fixing one light in a string of fairy lights without unplugging everything.*\n",
    "\n",
    "* **Finding problems Easily:** Abstraction helps focus on fixing issues in one place without getting list in the entire software maze.*\n",
    "\n",
    "In short, abstraction is like a superhero in large-scale software projects things manageable, understandable, and adaptable. It's the secret sause that keeps everything running smoothly in the ever-evolving world of software development. "
   ]
  },
  {
   "cell_type": "markdown",
   "metadata": {},
   "source": [
    "**Q18.** Explain how abstraction enhances code reusability and modularity in Python programs.\n",
    "\n",
    "**Answer:** Abstraction enhances code reusability and modularity in Python programs by providing a way to hide complex implementation details and focus on high-level concepts and interfaces. This makes it easier to reuse code across different parts of a program and promotes a modular structure that facilitates maintainability and scalability. Here's a breakdown of how abstraction achieves these benefits:\n",
    "\n",
    "*1. High- Level Interfaces:*\n",
    "* Abstraction allows you define high-level interfaces for differnet components or functionalities in your program.*\n",
    "* By creating abstract classes or interfaces, you specify what a certain part of he program should do without worrying about how it achieves it.*\n",
    "\n",
    "*2. Encapsulation of Details:*\n",
    "* Abstraction encapsulates implementation details within the components, hiding the complexity from the outside world.*\n",
    "* Users of a module or class only need to know how to interact with it through its abstracted interaface, not the internal workings.*\n",
    "\n",
    "*3. Code Reusability:*\n",
    "* Abstracting away implementation details promotes code reusability. A well-designed abstract component can be reused in various parts of a program or even in different projects.*\n",
    "* For example, if you have an abstract class representing a data access layer, you can reuse it in multiple modules without rewriting the database interaction code each time.*\n",
    "\n",
    "*4. Modularity:*\n",
    "* Abstraction encourages the creation of modular code, where each module or class has a well-defined purpose and interacts with other through clear interfaces.*\n",
    "* Modular code is like building with Lego blocks--you can swap out one block (module) for another without affecting the entire structure.*\n",
    "\n",
    "*5. Isolation of Concerns:*\n",
    "* Abstracting componets helps in isolating concerns, meaning each module or class has a specific resposibility.*\n",
    "* This isolation makes it eaiser to understand and maintain code because you can focus on one part at a time without being overwhelmed by the entire program.*\n",
    "\n",
    "*6. Ease of Maintenance:*\n",
    "* Because abstraction separates the interface from the implementation, making changes or updates to one part of the code doesn't necessarily impact the rest of the program.*\n",
    "* This ease of maintenance is crucial in large projects where modifications need to be made without introducing unintended side effects.*\n",
    "\n",
    "*7. Scalability:*\n",
    "* Abstraction supports scalability by allowing you to add new features or expand functionalites without disrupting existing code.*\n",
    "* New modules or classes can be added, and existing ones can be extended without rewriting the entire program.*\n",
    "\n",
    "*8. Collaborative Development:*\n",
    "* In a team environment, abstraction facilitates collaborative development. Team members can work on different modules independently as long as they adhere to the agreed-upon interfaces.*\n",
    "* Collaboration becomes more straightforward, and teams can focus on their specific areas without interfering with others.*\n",
    "\n",
    "*9. Clear Division of Labor:*\n",
    "* Abstraction enables a clear division of labor among team members. Each person can be responsible for a specific module or class, making the development process more organized and efficient.*"
   ]
  },
  {
   "cell_type": "markdown",
   "metadata": {},
   "source": [
    "**Q19.** Create a python class for a library system, implementing abstraction by defining common methods (e.g., 'add_book()', 'borrow_book()') in an abstract base class."
   ]
  },
  {
   "cell_type": "code",
   "execution_count": null,
   "metadata": {},
   "outputs": [],
   "source": [
    "from abc import ABC, abstractproperty\n",
    "\n",
    "class LibrarySystem(ABC):\n",
    "    def __init__(self, book_name, book_title, author):\n",
    "        self.name = book_name.lower()\n",
    "        self.title = book_title.lower()\n",
    "        self.author = author.lower()\n",
    "        self.book_collections = []\n",
    "    \n",
    "    @abstractproperty\n",
    "    def add_book(self, book_title):\n",
    "        raise NotImplementedError(\"You doesn't implemented this method yet.\")\n",
    "    \n",
    "    @abstractproperty\n",
    "    def borrow_book(self, borrow_title):\n",
    "        raise NotImplementedError(\"You doesn't implemented this method yet.\")\n",
    "\n",
    "class SchoolLibrary(self):\n",
    "    @property\n",
    "    def add_book(self):\n",
    "        if self.\n"
   ]
  },
  {
   "cell_type": "code",
   "execution_count": 8,
   "metadata": {},
   "outputs": [
    {
     "data": {
      "text/plain": [
       "'sahil'"
      ]
     },
     "execution_count": 8,
     "metadata": {},
     "output_type": "execute_result"
    }
   ],
   "source": [
    "s = 'sahil'\n",
    "s.lower()"
   ]
  },
  {
   "cell_type": "markdown",
   "metadata": {},
   "source": [
    "**Q20.** Describe the concept of method abstraction in Python and how it realtes to polymorphism.\n",
    "\n",
    "**Answer:**\n",
    "\n",
    "**Method Abstraction:**\n",
    "\n",
    "*1. What is Method Abstraction?*\n",
    "* Method abstraction is like using a Tv remote. You don't need to know how the buttons works inside; you just press them to change channels or adjust the volume.*\n",
    "* Similary, in programming, it means creating methods (functions) that do something specific without showing all the complicated details inside.*\n",
    "\n",
    "*2. Why is it important?*\n",
    "* It makes your code easy to use. Others can interact with your code without knowing all the complex stuff happening each method.*\n",
    "* It's like driving a car without knowing how the engine works-you just focus on the steering wheel and pedals.*\n",
    "\n",
    "**Relationship between Method Abstraction and Polymorphism:**\n",
    "\n",
    "*1. How They Work Together:*\n",
    "* Method abstraction is like having a clear buttons on a remote. You know what each button does without knowing the technical details inside.*\n",
    "* Polymorphism is like using those buttons for different devices. You press the 'Power' button, and it works for both the TV and DVD player.*\n",
    "\n",
    "*2. Why Does it Matter?*\n",
    "* It makes your code flexible. You can use different objects (like a Dog or a Cat) in the same way, even through they do different things internally.*\n",
    "* It's like having a universal remote that works with any device. You don't need a separate remote for each gadget.*\n",
    "\n",
    "**Example in Plain Language:**\n",
    "Imagine you have a 'Sound Maker' gadget. You don't know how it works inside; you just know it has a 'Make Sound' button. You also have a 'Dog' and a 'Cat'. Both the 'Dog' and 'Cat' can use the 'Sound Maker' because they each know how to make their own sound. This is like method abstraction-hiding the complex stuff. And when you press the 'Make sound' button for the 'Dog' and 'Cat', that's like polymorphism-they each respond in their unique way.\n",
    "\n",
    "In coding terms, method abstraction and polymorphism help keep things simple, flexible, and easy to use-just like a well designed remote control for your code!"
   ]
  },
  {
   "cell_type": "markdown",
   "metadata": {},
   "source": [
    "# Composition"
   ]
  },
  {
   "cell_type": "markdown",
   "metadata": {},
   "source": [
    "**Q1.** Explain the concept of composition in Python and how it is used to build complex objects from simpler ones.\n",
    "\n",
    "**Answer:** In Python, composition is a design principle that enables you to build complex objects by combining simpler ones. It is one of the fundamental concepts of object-oriented programming (OOP) and allows you to create more modular, reusable, and maintainable code. Composition is an alternative to inheritance, where you create a new class by incorporating existing classes rather than inheriting from them.\n",
    "\n",
    "The basic idea behind composition is to create classes that are composed of other classes, forming a \"has-a\" relationship between them. This is in contrast to inheritance, which establishes as \"is-a\" realtionship.\n",
    "\n",
    "Here's a simple example to illustrate composition in Python:"
   ]
  },
  {
   "cell_type": "code",
   "execution_count": 1,
   "metadata": {},
   "outputs": [
    {
     "name": "stdout",
     "output_type": "stream",
     "text": [
      "Car is starting...\n",
      "Engine started\n"
     ]
    }
   ],
   "source": [
    "class Engine:\n",
    "    def start(self):\n",
    "        print(\"Engine started\")\n",
    "\n",
    "class Car:\n",
    "    def __init__(self):\n",
    "        self.engine = Engine()\n",
    "    \n",
    "    def start(self):\n",
    "        print(\"Car is starting...\")\n",
    "        self.engine.start()\n",
    "\n",
    "# Create a Car object\n",
    "my_car = Car()\n",
    "\n",
    "# Start the car\n",
    "my_car.start()"
   ]
  },
  {
   "cell_type": "markdown",
   "metadata": {},
   "source": [
    "In this example, the 'Car' class has a composition relationship with the 'Engine' class. Instead of inheriting from the 'Engine' class, an instance of the 'Engine' class is created within the 'Car' class using composition. This allows the 'Car' class to delegate the responsibility of starting the engine to the 'Engine' class.\n",
    "\n",
    "Here's a breakdown of the code:\n",
    "\n",
    " 1. The 'Engine' class has a method 'start' that prints the 'Engine started.\"\n",
    " 2. The 'Car' class has an instance variable 'engine' that holds an object of the 'Engine' class.\n",
    " 3. The 'Car' class has a method 'start' that prints 'Car is starting...' and then delegates the task of starting the engine to the 'start' method of the 'Engine' class.\n",
    "\n",
    "This composition approach makes it easy to change or extend that beahvior of the 'Car' class without modifying the 'Engine' class. You can also easily reuse the 'Engine' class in other contexts.\n",
    "\n",
    "Composition provides a flexible and modular way to build complex objects, allowing you to assemble functionality from smaller, independent components. It promotes code reuse, maintainability, and separation of concerns in your codebase. \n"
   ]
  },
  {
   "cell_type": "markdown",
   "metadata": {},
   "source": [
    "**Q2.** Describe the difference between composition and inheritance in object-oriented programming.\n",
    "\n",
    "**Answer:** \n",
    "\n",
    "**Inheritance:**\n",
    "* Think of it like a family tree. A child inherits traits from their parents. Similarly, in code, one class can inherit features (methods and properties) form another class. It's like saying a \"Car\" is a type if \"Vehicle.\"\n",
    "\n",
    "**Composition:**\n",
    "* Picture it as putting Lego blocks together. You have different blocks with specific functions, and you combine them to build something bigger. In code, instead of saying one class is a type of another, you say one class has another as a part. For instance, a \"Car\" has an \"Engine.\"\n",
    "\n",
    "**Differences:**\n",
    "\n",
    "*1. Relationship Type:*\n",
    "* Inheritance is like saying \"a kind of.\"\n",
    "* Compositon is like saying \"has a part.\"\n",
    "\n",
    "*2. Code Reusability:*\n",
    "* Inheritance allows you to resue code from a parent class.\n",
    "* Composition lets you reuse components by putting them together.\n",
    "\n",
    "*3. Flexibility:*\n",
    "* Inheritance can make your code more rigid.\n",
    "* Composition makes your code more flexible and easier to change.\n",
    "\n",
    "*4. Complexity:*\n",
    "* Inheritance can lead to complex family trees of classes.\n",
    "* Composition keeps things simpler with modular blocks.\n",
    "\n",
    "*5. Base Class Modification:*\n",
    "* Inheritance affects all children if you modify the parent.\n",
    "* Composition changes don't ripple through other classes.\n",
    "\n",
    "*6. Ease of Debugging:*\n",
    "* Inheritance can be trickier to debug due to the family tree structure.\n",
    "* Composition is usually simpler to debug since classes are more independent.\n",
    "\n",
    "*Conclusion:*\n",
    "\n",
    "* Inheritance is like passing down family traits, while composition is like building with Lego blocks. Composition is oftem favoured for being more flexible and easier to manage in larger code projects."
   ]
  },
  {
   "cell_type": "markdown",
   "metadata": {},
   "source": [
    "**Q3.** Create a Python class called 'Author' with attributes for name and birthdate. Then, create a 'Book' class that contains an instace of 'Author' as a compositon. Provide an example of creating a 'Book' object.\n",
    "\n",
    "**Answer:**"
   ]
  },
  {
   "cell_type": "code",
   "execution_count": 5,
   "metadata": {},
   "outputs": [
    {
     "name": "stdout",
     "output_type": "stream",
     "text": [
      "Title: 48 Laws of Power\n",
      "Author: Sahil Kumar Mandal\n",
      "Author's birthdate: 2003\n",
      "Publication year: 2023\n"
     ]
    }
   ],
   "source": [
    "class Author:\n",
    "    def __init__(self, name, birthdate):\n",
    "        self.name = name\n",
    "        self.birthdate = birthdate\n",
    "\n",
    "class Book:\n",
    "    def __init__(self, titlle, author, publication_year):\n",
    "        self.title = titlle\n",
    "        self.author = author\n",
    "        self.publication_year = publication_year\n",
    "\n",
    "# Example of creating an author\n",
    "author = Author(\"Sahil Kumar Mandal\", 2003)\n",
    "\n",
    "# Example of creating books with the created author\n",
    "book_example = Book(titlle = \"48 Laws of Power\", author = author, publication_year = 2023)\n",
    "\n",
    "# Accessing information about the book and its author\n",
    "print(f\"Title: {book_example.title}\")\n",
    "print(f\"Author: {book_example.author.name}\")\n",
    "print(f\"Author's birthdate: {book_example.author.birthdate}\")\n",
    "print(f\"Publication year: {book_example.publication_year}\")\n"
   ]
  },
  {
   "cell_type": "markdown",
   "metadata": {},
   "source": [
    "**Q4.** Discuss the benefits of using composition over inheritance in Python, especially in terms of code flexibility and reusablity.\n",
    "\n",
    "**Answer:**\n",
    "\n",
    "*1.Flexibility:*\n",
    "* **Aoviding Rigidity:** With composition, your code is more flexible. You can change how a class works without messing up its structure or affecting other classes. Inheritance can make your code more rigid and resistant to change.\n",
    "\n",
    "* **Mixing and Matching Components:** Components lets you easily mix and match different parts to create new functionalities. This is really handy for complex systems where you need to combine different behaviors in various ways.*\n",
    "\n",
    "*2. Code Reusability:*\n",
    "* **Modular Components:** Composition encourages making smaller, reusable parts of your code. You can use these parts in different situations to build various things. It helps avoid writing the same code over and over.\n",
    "\n",
    "*3. Easier Maintenance:*\n",
    "* **Isolation of Changes:** With composition, changes to one part usually don't mess up other parts. This makes it easier to understand and fix issues because you know where to look.\n",
    "\n",
    "* **Cleared Class Hierarchy:** Composition often leads to a simpler class structure. This makes your program easier to work with and less likely to have bugs.\n",
    "\n",
    "*4. Enhanced Readability:*\n",
    "* **Clearer Intent:** When you see a class using composition, it's clear that it's putting different parts together for a specific purpose. This makes your code more readable because it shows what you're trying to achieve.\n",
    "\n",
    "* **Favouring \"What it does\"over:\"What it is\":** Composition focuse on what an object does, not just what it is in the inheritance hierarchy. This can make your code more natural and easier to read.\n",
    "\n",
    "*5. Reduced Coupling:*\n",
    "* **Loose Coupling:** Composition results in looser connections between classes. Changes in one parts are less likely to mess up other parts, making your system more flexible. This is good for testing and updating your code causing a lot of problems.\n",
    "\n",
    "In simple terms, using composition in Python helps you build more adaptable and understandable code. It lets you crete classes that are easier to work with, reuse, and maintain, making your programming life a bit smoother."
   ]
  },
  {
   "cell_type": "markdown",
   "metadata": {},
   "source": [
    "**Q5.** How can you implement compositon in Python classes? Provide example of using composition to create complex objects.\n",
    "\n",
    "**Answer:** "
   ]
  },
  {
   "cell_type": "code",
   "execution_count": 7,
   "metadata": {},
   "outputs": [
    {
     "name": "stdout",
     "output_type": "stream",
     "text": [
      "Intel CPU is executing instruction at 3.5 GHz\n",
      "Reading data from 8GB RAM at 2400 MHz\n",
      "Computer is running a program\n"
     ]
    }
   ],
   "source": [
    "class CPU:\n",
    "    def __init__(self, brand, speed):\n",
    "        self.brand = brand\n",
    "        self.speed = speed\n",
    "    \n",
    "    def execute(self):\n",
    "        print(f\"{self.brand} CPU is executing instruction at {self.speed} GHz\")\n",
    "\n",
    "class RAM:\n",
    "    def __init__(self, capacity, frequency):\n",
    "        self.capacity = capacity\n",
    "        self.frequency = frequency\n",
    "    \n",
    "    def read(self):\n",
    "        print(f\"Reading data from {self.capacity}GB RAM at {self.frequency} MHz\")\n",
    "\n",
    "class Computer:\n",
    "    def __init__(self, cpu, ram):\n",
    "        self.cpu = cpu  # Compositon: Compter has a CPU\n",
    "        self.ram = ram  # Composition: Computer has a RAM\n",
    "    \n",
    "    def run_program(self):\n",
    "        self.cpu.execute()\n",
    "        self.ram.read()\n",
    "        print(\"Computer is running a program\")\n",
    "\n",
    "# Example of using composition to create a complex object\n",
    "# Crete CPU and RAM objects\n",
    "cpu_i7 = CPU(brand = 'Intel', speed = 3.5)\n",
    "ram_8gb = RAM(capacity = 8, frequency = 2400)\n",
    "\n",
    "# Create a Computer object using composition\n",
    "my_computer = Computer(cpu = cpu_i7, ram = ram_8gb)\n",
    "\n",
    "# Use the computer object\n",
    "my_computer.run_program()"
   ]
  },
  {
   "cell_type": "markdown",
   "metadata": {},
   "source": [
    "In this example:\n",
    "* The **'CPU'** class represent a computer processor with attributes for brand and speed. It has a method **'execute'** to simulate the execution of instructions.\n",
    "\n",
    "* The **'RAM'** class represents the computer's memeory with attributes for capasity and frequency. It has a method **'read'** to simulate reading data from RAM.\n",
    "\n",
    "* The **'Computer'** class is composed of a CPU and RAM. It has a method **'run_program'** that uses the CPU and RAM components to simulate running a computer program.\n",
    "\n",
    "* We create instances of **'CPU'** and **'RAM'**, and then use composition to create a **'Computer'** objects by passing instances of **'CPU'** and **'RAM'** as parameters.\n",
    "\n",
    "* Finally, we use the **'Computer'** objects to run a program, which internally uses the CPU and RAM components.\n",
    "\n",
    "This example demonstrates how composition allows you to buildd complex objects by combining simpler ones. The **'Computer'** class doesn't inherit form **'CPU'** or **'RAM'** but instead uses instances of these classes to achieve its functionality, promoting code reusability and flexibility."
   ]
  },
  {
   "cell_type": "markdown",
   "metadata": {},
   "source": [
    "**Q6.** Create a Python class hierarchy for a music player system, using composition to represent playlists and songs.\n",
    "\n",
    "**Answer:**"
   ]
  },
  {
   "cell_type": "code",
   "execution_count": 23,
   "metadata": {},
   "outputs": [],
   "source": [
    "class Song:\n",
    "    \"\"\"\n",
    "    Represents a music song.\n",
    "\n",
    "    Attributes:\n",
    "    - title (str): The title of the song.\n",
    "    - artist (str): The artist of the song.\n",
    "    - duration_sec (int): The duration of the song in seconds.\n",
    "    \"\"\"\n",
    "\n",
    "    def __init__(self, title, artist, duration_sec):\n",
    "        \"\"\"\n",
    "        Initializes a new Song instance.\n",
    "\n",
    "        Parameters:\n",
    "        - title (str): The title of the song.\n",
    "        - artist (str): The artist of the song.\n",
    "        - duration_sec (int): The duration of the song in seconds.\n",
    "        \"\"\"\n",
    "        self._title = title\n",
    "        self._artist = artist\n",
    "        self._duration_sec = duration_sec\n",
    "\n",
    "    @property\n",
    "    def title(self):\n",
    "        return self._title\n",
    "\n",
    "    @property\n",
    "    def artist(self):\n",
    "        return self._artist\n",
    "\n",
    "    @property\n",
    "    def duration_sec(self):\n",
    "        return self._duration_sec\n",
    "\n",
    "    def play(self):\n",
    "        \"\"\"\n",
    "        Returns a string representing the action of playing the song.\n",
    "        \"\"\"\n",
    "        return f\"Playing: '{self.title}' by {self.artist} ({self.duration_sec} sec)\"\n",
    "\n",
    "    def __str__(self):\n",
    "        \"\"\"\n",
    "        Returns a string representation of the song.\n",
    "        \"\"\"\n",
    "        return f\"Title: {self.title}, Artist: {self.artist}, Duration: {self.duration_sec} sec\"\n",
    "\n",
    "\n",
    "class Playlist:\n",
    "    \"\"\"\n",
    "    Represents a collection of songs.\n",
    "\n",
    "    Attributes:\n",
    "    - name (str): The name of the playlist.\n",
    "    - _songs_collection (list): List to store songs in the playlist.\n",
    "    \"\"\"\n",
    "\n",
    "    def __init__(self, name):\n",
    "        \"\"\"\n",
    "        Initializes a new Playlist instance.\n",
    "\n",
    "        Parameters:\n",
    "        - name (str): The name of the playlist.\n",
    "        \"\"\"\n",
    "        self._name = name\n",
    "        self._songs_collection = []\n",
    "\n",
    "    @property\n",
    "    def name(self):\n",
    "        return self._name\n",
    "\n",
    "    @property\n",
    "    def songs_collection(self):\n",
    "        return self._songs_collection\n",
    "\n",
    "    def add_songs(self, *songs):\n",
    "        \"\"\"\n",
    "        Adds one or more songs to the playlist.\n",
    "\n",
    "        Parameters:\n",
    "        - *songs (Song): Variable number of Song objects to be added to the playlist.\n",
    "        \"\"\"\n",
    "        for song in songs:\n",
    "            if song not in self.songs_collection:\n",
    "                self.songs_collection.append(song)\n",
    "                print(f\"Song '{song.title}' added successfully to '{self.name}'\")\n",
    "            else:\n",
    "                print(f\"Song '{song.title}' is already in '{self.name}'\")\n",
    "\n",
    "    def delete_songs(self, *songs):\n",
    "        \"\"\"\n",
    "        Deletes one or more songs from the playlist.\n",
    "\n",
    "        Parameters:\n",
    "        - *songs (Song): Variable number of Song objects to be deleted from the playlist.\n",
    "        \"\"\"\n",
    "        for song in songs:\n",
    "            if song not in self.songs_collection:\n",
    "                print(f\"Song '{song.title}' not found in '{self.name}'\")\n",
    "            else:\n",
    "                self.songs_collection.remove(song)\n",
    "                print(f\"Song '{song.title}' deleted successfully from '{self.name}'\")\n",
    "\n",
    "    def play(self):\n",
    "        \"\"\"\n",
    "        Plays all songs in the playlist.\n",
    "        \"\"\"\n",
    "        if not self.songs_collection:\n",
    "            print(f\"No songs to play in '{self.name}'\")\n",
    "            return\n",
    "\n",
    "        print(f\"Playing playlist: '{self.name}'\")\n",
    "        for song in self.songs_collection:\n",
    "            print(song.play())\n",
    "\n",
    "    def available_songs(self):\n",
    "        \"\"\"\n",
    "        Displays the list of available songs in the playlist.\n",
    "        \"\"\"\n",
    "        print(f\"Available songs in '{self.name}':\")\n",
    "        for song in self.songs_collection:\n",
    "            print(song)\n",
    "\n",
    "\n",
    "class MusicPlayer:\n",
    "    \"\"\"\n",
    "    Represents a music player that manages playlists.\n",
    "\n",
    "    Attributes:\n",
    "    - _playlist_collections (list): List to store playlists in the music player.\n",
    "    \"\"\"\n",
    "\n",
    "    def __init__(self):\n",
    "        \"\"\"\n",
    "        Initializes a new MusicPlayer instance.\n",
    "        \"\"\"\n",
    "        self._playlist_collections = []\n",
    "\n",
    "    @property\n",
    "    def playlist_collections(self):\n",
    "        return self._playlist_collections\n",
    "\n",
    "    def add_playlists(self, *playlists):\n",
    "        \"\"\"\n",
    "        Adds one or more playlists to the music player.\n",
    "\n",
    "        Parameters:\n",
    "        - *playlists (Playlist): Variable number of Playlist objects to be added to the music player.\n",
    "        \"\"\"\n",
    "        for playlist in playlists:\n",
    "            if playlist not in self.playlist_collections:\n",
    "                self.playlist_collections.append(playlist)\n",
    "                print(f\"Playlist '{playlist.name}' added successfully\")\n",
    "            else:\n",
    "                print(f\"Playlist '{playlist.name}' already in the music player\")\n",
    "\n",
    "    def delete_playlists(self, *playlists):\n",
    "        \"\"\"\n",
    "        Deletes one or more playlists from the music player.\n",
    "\n",
    "        Parameters:\n",
    "        - *playlists (Playlist): Variable number of Playlist objects to be deleted from the music player.\n",
    "        \"\"\"\n",
    "        for playlist in playlists:\n",
    "            if playlist in self.playlist_collections:\n",
    "                self.playlist_collections.remove(playlist)\n",
    "                print(f\"Playlist '{playlist.name}' removed successfully\")\n",
    "            else:\n",
    "                print(f\"Playlist '{playlist.name}' not found in the music player\")\n",
    "\n",
    "    def available_playlists(self):\n",
    "        \"\"\"\n",
    "        Displays the list of available playlists in the music player.\n",
    "        \"\"\"\n",
    "        if not self.playlist_collections:\n",
    "            print(\"No playlists available in the music player\")\n",
    "            return\n",
    "\n",
    "        print(\"Available playlists:\")\n",
    "        for playlist in self.playlist_collections:\n",
    "            print(playlist.name)\n",
    "\n",
    "    def play_all(self):\n",
    "        \"\"\"\n",
    "        Plays all playlists in the music player.\n",
    "        \"\"\"\n",
    "        if not self.playlist_collections:\n",
    "            print(\"No playlists to play in the music player\")\n",
    "            return\n",
    "\n",
    "        print(\"Playing all playlists:\")\n",
    "        for playlist in self.playlist_collections:\n",
    "            playlist.play()\n"
   ]
  },
  {
   "cell_type": "markdown",
   "metadata": {},
   "source": [
    "**Q7.** Explain the concept of \"has-a\" relationships in composition and how it helps design software systems.\n",
    "\n",
    "**Answer:**"
   ]
  },
  {
   "cell_type": "markdown",
   "metadata": {},
   "source": [
    "The \"has-a\" relationship, in the context of object-oriented programming, refersto a relationship between two classes where one class contains an object of another class. This is often implemented through composition, which is a way of combining objects to create more complex structures.\n",
    "\n",
    "In a \"has-a\" relationship:\n",
    " \n",
    " 1. **Composition:** One class contains an instance of another class as a member. This means that the containing class \"has\" an object of the other class.\n",
    "\n",
    " 2. **Usage:** The containing class can use the features and functionalities of the contained class by accessing its methods and properties.\n",
    "\n",
    "Here's an example to illustrate the \"has-a\" relationship through composition:"
   ]
  },
  {
   "cell_type": "code",
   "execution_count": 37,
   "metadata": {},
   "outputs": [],
   "source": [
    "class Engine:\n",
    "    def start(self):\n",
    "        print(\"Engine started\")\n",
    "\n",
    "class Car:\n",
    "    def __init__(self):\n",
    "        self.engine = Engine()  # Composition: Car has an Engine\n",
    "    \n",
    "    def start(self):\n",
    "        print(\"Car is starting\")\n",
    "        self.engine.start() # Using the Engine through composition"
   ]
  },
  {
   "cell_type": "markdown",
   "metadata": {},
   "source": [
    "In this example, a **'Car'** \"has-a\" relationship with an **'Engine'**. The **'Car'** class contains an instance of the **'Engine'** class as one of its attributes.\n",
    "\n",
    "Benefits of \"has-a\" relationship through composition:\n",
    "\n",
    " 1. **Code Reusability:** Composition allows you to reuse existing classes. In the example above, the **'Engine'** class can be used in other contexts as well, and it's not tightly coupled to the **'Car'** class.\n",
    " \n",
    " 2. **Modularity:** The use of composition promotes modularity. Each class can be developed and tested independently, making the codebase more modular and easier to maintian.\n",
    " \n",
    " 3. **Flexibility:** Changes to the implementation of one class do not necessarily affect the other. If you need tho change the **'Engine'** class, it won't impact the **'Car'** class as long as interface remains the same.\n",
    " \n",
    " 4. **Encapsulation:** Each class can encapsulate its own functionality. In the example, the details of how the engine starts are encapsulated within the **'Engine'** class.\n",
    "\n",
    "Overall, the \"has-a\" realationship through composition is a powerful tool in software design that promotes code organization, reusability, and maintainability. It allows you to build complex systems by combining simpler, well-defined components."
   ]
  },
  {
   "cell_type": "markdown",
   "metadata": {},
   "source": [
    "**Q8.** Create a Python class for a computer system, using composition to represent components like CPU, RAM, and storage devices.\n",
    "\n",
    "**Answer:** "
   ]
  },
  {
   "cell_type": "code",
   "execution_count": 26,
   "metadata": {},
   "outputs": [
    {
     "name": "stdout",
     "output_type": "stream",
     "text": [
      "Computer Specifications: \n",
      "CPU: Intel i7 (8 cores)\n",
      "RAM: 16GB, 2666MHz\n",
      "Storage: 512GB SSD\n"
     ]
    }
   ],
   "source": [
    "class CPU:\n",
    "    \"\"\"\n",
    "    Represents a Central Processing Unit (CPU) componenet of a computer.\n",
    "    \"\"\"\n",
    "    def __init__(self, brand, model, cores):\n",
    "        self.brand = brand\n",
    "        self.model = model\n",
    "        self.cores = cores\n",
    "    \n",
    "    def __str__(self):\n",
    "        return f\"CPU: {self.brand} {self.model} ({self.cores} cores)\"\n",
    "\n",
    "class RAM:\n",
    "    \"\"\"\n",
    "    Represents a Random Access Memory (RAM) component of a computer\n",
    "    \"\"\"\n",
    "    def __init__(self, capacity_gb, speed_mhz):\n",
    "        self.capacity_gb = capacity_gb\n",
    "        self.speed_mhz = speed_mhz\n",
    "    \n",
    "    def __str__(self):\n",
    "        return f\"RAM: {self.capacity_gb}GB, {self.speed_mhz}MHz\"\n",
    "\n",
    "class Storage:\n",
    "    \"\"\"\n",
    "    Represents a storage device component of a computer\n",
    "    \"\"\"\n",
    "    def __init__(self, capacity_gb, storage_type):\n",
    "        self.capacity_gb = capacity_gb\n",
    "        self.storage_type = storage_type\n",
    "    \n",
    "    def __str__(self):\n",
    "        return f\"Storage: {self.capacity_gb}GB {self.storage_type}\"\n",
    "\n",
    "class Computer:\n",
    "    \"\"\"\n",
    "    Represents a computer system composed of CPU, RAM, and storage components\n",
    "    \"\"\"\n",
    "    def __init__(self, cpu, ram, storage):\n",
    "        self.cpu = cpu\n",
    "        self.ram = ram\n",
    "        self.storage = storage\n",
    "    \n",
    "    def __str__(self):\n",
    "        return f\"Computer Specifications: \\n{self.cpu}\\n{self.ram}\\n{self.storage}\"\n",
    "\n",
    "# Example Usage:\n",
    "if __name__ == '__main__':\n",
    "    # Create components\n",
    "    cpu = CPU(brand=\"Intel\", model=\"i7\", cores=8)\n",
    "    ram = RAM(capacity_gb=16, speed_mhz=2666)\n",
    "    storage = Storage(capacity_gb=512, storage_type=\"SSD\")\n",
    "\n",
    "    # Create a computer system\n",
    "    my_computer = Computer(cpu=cpu, ram=ram, storage=storage)\n",
    "\n",
    "    # Display computer specifications\n",
    "    print(my_computer)"
   ]
  },
  {
   "cell_type": "markdown",
   "metadata": {},
   "source": [
    "**Q9.** Describe the concept of \"delegation\" in composition and how it simplifies the design of complex systems.\n",
    "\n",
    "**Answer:**\n",
    "\n",
    "**Delegation in Composition:**\n",
    "\n",
    "Delegation is a programming concept employed in composition where an object, known as a delegate, is responsible for handling specific tasks on behalf of another object. Unlike inheritance, which establishes as \"is-a\" relationship, delegation establishes a \"has-a\" relationship, allowing objects to reuse existing code and simplify the design of complex systems.\n",
    "\n",
    "**Simplifying the Design of Complex Systems:**\n",
    "\n",
    "1. *Code Reusability:*\n",
    "   * Delegation promotes code reuse, enabling the incorporation of existing classes to perform specific tasks without duplicating code.\n",
    "\n",
    "2. *Modularity:*\n",
    "   * Delegation facilitates modular design by assigning well-defined responsibilities to different classes, minimizing the impact of changes on other parts of the system.\n",
    "\n",
    "3. *Separation of Concerns:*\n",
    "   * The concept separates concerns by allocating specific responsibilities to different classes, enhnacing the clarity and manageability of the code.\n",
    "\n",
    "4. *Flexibility and Extensibility:*\n",
    "   * Delegation allows for flexibility and extensibility, permitting the addition of new features through the introduction of new classes without modifying existing code.\n",
    "\n",
    "5. *Easy Testing:*\n",
    "   * Delegation simplifies testing, as each class can be tested independently, and the intereactions between classes can be tested separately, facilitating issue identification and resolution.\n",
    "\n",
    "6. *Encapsulation:*\n",
    "   * Delegation encourages encapsulation by hiding the internal details of class from other classses, exposing only the necessary interfaces and defining clear boundaries between components.\n",
    "\n",
    "7. *Example:*\n",
    "   * Consider a simplified example with a 'Car' class delgating engine functionality: "
   ]
  },
  {
   "cell_type": "code",
   "execution_count": 29,
   "metadata": {},
   "outputs": [
    {
     "name": "stdout",
     "output_type": "stream",
     "text": [
      "Car is starting.\n",
      "Engine started.\n",
      "Caris stopping.\n",
      "Engine stopped.\n"
     ]
    }
   ],
   "source": [
    "class Engine:\n",
    "    def start(self):\n",
    "        print(\"Engine started.\")\n",
    "    \n",
    "    def stop(self):\n",
    "        print(\"Engine stopped.\")\n",
    "\n",
    "class Car:\n",
    "    def __init__(self):\n",
    "        self.engine = Engine()\n",
    "    \n",
    "    def start(self):\n",
    "        print(\"Car is starting.\")\n",
    "        self.engine.start()\n",
    "    \n",
    "    def stop(self):\n",
    "        print(\"Caris stopping.\")\n",
    "        self.engine.stop()\n",
    "\n",
    "my_car = Car()\n",
    "my_car.start()\n",
    "my_car.stop()"
   ]
  },
  {
   "cell_type": "markdown",
   "metadata": {},
   "source": [
    "In this example, the 'Car' class uses delegation to the 'Engine' class for the 'start' and 'stop' operations, showcasing the benefits of modular design and code reuse through composition."
   ]
  },
  {
   "cell_type": "markdown",
   "metadata": {},
   "source": [
    "**Q10.** Create a Python class for a car, using composition to represent components like the engine, wheels, and transmission.\n",
    "\n",
    "**Answer:**"
   ]
  },
  {
   "cell_type": "code",
   "execution_count": 1,
   "metadata": {},
   "outputs": [
    {
     "name": "stdout",
     "output_type": "stream",
     "text": [
      "Engine with 4 cylidners and 200 HP roars to life!\n",
      "MRF wheel of size 18 inches rotates!\n",
      "MRF wheel of size 18 inches rotates!\n",
      "MRF wheel of size 18 inches rotates!\n",
      "MRF wheel of size 18 inches rotates!\n",
      "Shifted to gear 3\n",
      "Car accelerates!\n"
     ]
    }
   ],
   "source": [
    "class Engine:\n",
    "    def __init__(self, cylinders, horsepower):\n",
    "        self.cylinders = cylinders\n",
    "        self.horsepower = horsepower\n",
    "    \n",
    "    def start(self):\n",
    "        print(f\"Engine with {self.cylinders} cylidners and {self.horsepower} HP roars to life!\")\n",
    "\n",
    "class Wheel:\n",
    "    def __init__(self, brand, size):\n",
    "        self.brand = brand\n",
    "        self.size = size\n",
    "    \n",
    "    def rotate(self):\n",
    "        print(f\"{self.brand} wheel of size {self.size} inches rotates!\")\n",
    "\n",
    "class Transmission:\n",
    "    def __init__(self, gears):\n",
    "        self.gears = gears\n",
    "    \n",
    "    def shift(self, gear):\n",
    "        if gear <= self.gears:\n",
    "            print(f\"Shifted to gear {gear}\")\n",
    "        else:\n",
    "            print(f\"Invalid gear {gear} for {self.gears}-speed transmission!\")\n",
    "\n",
    "class Car:\n",
    "    def __init__(self, engine, wheels, transmission):\n",
    "        self.engine = engine\n",
    "        self.wheels = wheels\n",
    "        self.transmission = transmission\n",
    "    \n",
    "    def start(self):\n",
    "        self.engine.start()\n",
    "        for wheel in self.wheels:\n",
    "            wheel.rotate()\n",
    "    \n",
    "    def accelerate(self, gear):\n",
    "        self.transmission.shift(gear)\n",
    "        print(\"Car accelerates!\")\n",
    "\n",
    "# Example usage\n",
    "engine = Engine(4, 200)\n",
    "wheels = [Wheel(\"MRF\", 18), Wheel(\"MRF\", 18), Wheel(\"MRF\", 18), Wheel(\"MRF\", 18)]\n",
    "transmission = Transmission(6)\n",
    "\n",
    "my_car = Car(engine, wheels, transmission)\n",
    "my_car.start()\n",
    "my_car.accelerate(3)"
   ]
  },
  {
   "cell_type": "markdown",
   "metadata": {},
   "source": [
    "**Q11.** How can you encapsulate and hide the details of composed objects in Python classes to maintain abstraction?\n",
    "\n",
    "**Answer:** Encapsulation in Python involves restricting access to some of an object's components and preventing the direct modification of internal details. In the context of the composition, we can acheive encapsulation by making the attributes of the composed private and providing methods in the main class to interact with those components indirectly. Here's an updated example with encapsulation: "
   ]
  },
  {
   "cell_type": "code",
   "execution_count": 3,
   "metadata": {},
   "outputs": [
    {
     "name": "stdout",
     "output_type": "stream",
     "text": [
      "Engine started\n",
      "Gear shifted to D\n",
      "Wheels rotating\n",
      "Car started\n",
      "Is engine running? True\n",
      "Current gear: D\n"
     ]
    }
   ],
   "source": [
    "class Engine:\n",
    "    def __init__(self):\n",
    "        self._is_running = False\n",
    "\n",
    "    def start(self):\n",
    "        print(\"Engine started\")\n",
    "        self._is_running = True\n",
    "\n",
    "    def stop(self):\n",
    "        print(\"Engine stopped\")\n",
    "        self._is_running = False\n",
    "\n",
    "    def is_running(self):\n",
    "        return self._is_running\n",
    "\n",
    "class Wheels:\n",
    "    def rotate(self):\n",
    "        print(\"Wheels rotating\")\n",
    "\n",
    "class Transmission:\n",
    "    def __init__(self):\n",
    "        self._current_gear = 'P'  # Assuming 'P' is for park\n",
    "\n",
    "    def shift_gear(self, new_gear):\n",
    "        print(f\"Gear shifted to {new_gear}\")\n",
    "        self._current_gear = new_gear\n",
    "\n",
    "    def get_current_gear(self):\n",
    "        return self._current_gear\n",
    "\n",
    "class Car:\n",
    "    def __init__(self):\n",
    "        # Composition: Car has an engine, wheels, and transmission\n",
    "        self.engine = Engine()\n",
    "        self.wheels = Wheels()\n",
    "        self.transmission = Transmission()\n",
    "\n",
    "    def start(self):\n",
    "        self.engine.start()\n",
    "        self.transmission.shift_gear(\"D\")  # Assume 'D' is for drive\n",
    "        self.wheels.rotate()\n",
    "        print(\"Car started\")\n",
    "\n",
    "    def stop(self):\n",
    "        self.engine.stop()\n",
    "        print(\"Car stopped\")\n",
    "\n",
    "    def is_engine_running(self):\n",
    "        return self.engine.is_running()\n",
    "\n",
    "    def get_current_gear(self):\n",
    "        return self.transmission.get_current_gear()\n",
    "\n",
    "# Example usage\n",
    "my_car = Car()\n",
    "my_car.start()\n",
    "\n",
    "# Accessing encapsulated details indirectly\n",
    "print(\"Is engine running?\", my_car.is_engine_running())\n",
    "print(\"Current gear:\", my_car.get_current_gear())\n"
   ]
  },
  {
   "cell_type": "markdown",
   "metadata": {},
   "source": [
    "In this example:\n",
    "* The attributes of the composed objects ('_engine', '_wheels' and '_transmission') ar made private using underscores.\n",
    "* Methods like 'is_running' in the 'Engine' class and 'get_current_gear' in the 'Transmission' class aare provided to access the internal state of the composed objects indirectly.\n",
    "* The external user of the 'Car' class can interact with the car without knowing the internal details of its components, maintaining abstraction. "
   ]
  },
  {
   "cell_type": "markdown",
   "metadata": {},
   "source": [
    "**Q12.** Create a Python class for a university course, using composition to represent students, instructors, and course materials\n",
    "\n",
    "**Answer:**"
   ]
  },
  {
   "cell_type": "code",
   "execution_count": 3,
   "metadata": {},
   "outputs": [
    {
     "name": "stdout",
     "output_type": "stream",
     "text": [
      "Programme: BTECH in CS\n",
      "Instructor: Hc. Verma\n",
      "Students:\n",
      "- ID: ST998, Name: Sahil Kumar Mandal\n",
      "- ID: ST008, Name: Elon Musk\n",
      "- ID: ST006, Name: Bill Gates\n",
      "- ID: ST999, Name: Mark Zuckerberg\n",
      "Course Material: Introduction to DSA\n"
     ]
    }
   ],
   "source": [
    "class Person:\n",
    "    def __init__(self, name, age):\n",
    "        self.name = name\n",
    "        self.age = age\n",
    "\n",
    "class Student(Person):\n",
    "    def __init__(self, name, age, student_id):\n",
    "        super().__init__(name, age)\n",
    "        self.student_id = student_id\n",
    "\n",
    "class Instructor(Person):\n",
    "    def __init__(self, name, age, employee_id):\n",
    "        super().__init__(name, age)\n",
    "        self.employee_id = employee_id\n",
    "\n",
    "class CourseMaterial:\n",
    "    def __init__(self, title, content):\n",
    "        self.title = title\n",
    "        self.content = content\n",
    "\n",
    "class UniversityCourse:\n",
    "    def __init__(self, programme, course_material, instructor, students):\n",
    "        self.programme = programme\n",
    "        self.course_material = course_material\n",
    "        self.instructor = instructor\n",
    "        self.students = students\n",
    "    \n",
    "    def programme_info(self):\n",
    "        print(f\"Programme: {self.programme}\")\n",
    "        print(f\"Instructor: {self.instructor.name}\")\n",
    "        print(\"Students:\")\n",
    "        for student in self.students:\n",
    "            print(f\"- ID: {student.student_id}, Name: {student.name}\")\n",
    "        print(f\"Course Material: {self.course_material.title}\")\n",
    "\n",
    "# Example Usage:\n",
    "if __name__ == '__main__':\n",
    "    # Create instances of Person, Student, and Instructor\n",
    "    student1 = Student(\"Sahil Kumar Mandal\", 20, \"ST998\")\n",
    "    student2 = Student(\"Elon Musk\", 25, \"ST008\")\n",
    "    student3 = Student(\"Bill Gates\", 23, \"ST006\")\n",
    "    student4 = Student(\"Mark Zuckerberg\", 25, \"ST999\")\n",
    "    instructor = Instructor(\"Hc. Verma\", 55, \"ED796\")\n",
    "\n",
    "    # Create instance of CourseMaterial\n",
    "    course_material = CourseMaterial(\"Introduction to DSA\", \"Course content goes here...\")\n",
    "\n",
    "    # Create an instance of UniversityCourse using composition\n",
    "    course = UniversityCourse(\"BTECH in CS\", course_material, instructor, [student1, student2, student3, student4])\n",
    "\n",
    "    # Display programme info\n",
    "    course.programme_info()"
   ]
  },
  {
   "cell_type": "markdown",
   "metadata": {},
   "source": [
    "**Q13.** Discuss the challenges and drawbacks of composition, such as increased complexity and potential for tight coupling between objects.\n",
    "\n",
    "**Answer:** **Challenges and Drawbacks of Composition in Object-Oriented Programming:**\n",
    "\n",
    "1. *Increased Complexity:*\n",
    "   * Composition can lead to increased code complexity as the number of classes and objects grows, making the system harder to understand and maintain.\n",
    "\n",
    "2. *Tight Coupling:*\n",
    "   * Composition may result in tight coupling between objects, where changes in one component require modifications in others, potentially leading to cascade of updates.\n",
    "\n",
    "3. *Flexibility and Extensibility:*\n",
    "   * The flexibility and extensibility of the code may be compromised as hard-coded relationships between objects can hider modifications and extensions without impacting existing functionality.\n",
    "\n",
    "4. *Initialization Order:*\n",
    "   * Managing the initialization order of components is crucial, as improper handling can result in issues such as null refrence or incomplete objects states.\n",
    "\n",
    "5. *Performance Overhead:*\n",
    "   * Composition can reduce performance overhead due to the additional layers of indirection involved in accessing components, though modern environments are often optmized to mitigate this impact.\n",
    "\n",
    "6. *Learning Curve:*\n",
    "   * Developers, especially those new to the codebase, may face challenges in understanding the relationships between objects and the flow of control within a complex composition hierarchy.\n",
    "\n",
    "7. *Maintenance Challenges:*\n",
    "   * Maintenance of a system built using composition can be challenging, particularly without proper documentation. Changes may require a deep understanding of the entire composition structure to avoid unintended consequences.\n"
   ]
  },
  {
   "cell_type": "markdown",
   "metadata": {},
   "source": [
    "**14.** Create a Python class hierarchy for a restaurant system, using composition to represent menus, dishes, and ingrediants.\n",
    "\n",
    "**Answer:**"
   ]
  },
  {
   "cell_type": "code",
   "execution_count": 7,
   "metadata": {},
   "outputs": [
    {
     "name": "stdout",
     "output_type": "stream",
     "text": [
      "Menu: Special Menu\n",
      "Description: A selection of delicious dishes:\n",
      "\n",
      "Dishes:\n",
      "Chicken Salad: A refreshing salad with chicken\n",
      "Ingredients:\n",
      "1 head of Lettuce\n",
      "200 grams of Chicken\n",
      "2 pieces of Tomato\n",
      "\n",
      "Chicken Pasta: Pasta with grilled chicken\n",
      "Ingredients:\n",
      "2 pieces of Tomato\n",
      "150 grams of Pasta\n",
      "200 grams of Chicken\n",
      "\n"
     ]
    }
   ],
   "source": [
    "class Ingredient:\n",
    "    def __init__(self, name, quantity, unit):\n",
    "        self.name = name\n",
    "        self.quantity = quantity\n",
    "        self.unit = unit\n",
    "\n",
    "class Dish:\n",
    "    def __init__(self, name, description, ingredients):\n",
    "        self.name = name\n",
    "        self.description = description\n",
    "        self.ingredients = ingredients\n",
    "    \n",
    "    def display_dish_info(self):\n",
    "        print(f\"{self.name}: {self.description}\")\n",
    "        print(\"Ingredients:\")\n",
    "        for ingredient in self.ingredients:\n",
    "            print(f\"{ingredient.quantity} {ingredient.unit} of {ingredient.name}\")\n",
    "\n",
    "class Menu:\n",
    "    def __init__(self, name, description, dishes):\n",
    "        self.name = name\n",
    "        self.description = description\n",
    "        self.dishes = dishes\n",
    "    \n",
    "    def display_menu_info(self):\n",
    "        print(f\"Menu: {self.name}\")\n",
    "        print(f\"Description: {self.description}\\n\")\n",
    "        print(\"Dishes:\")\n",
    "        for dish in self.dishes:\n",
    "            dish.display_dish_info()\n",
    "            print()\n",
    "\n",
    "# Example Usage:\n",
    "if __name__ == \"__main__\":\n",
    "    # Define ingredients\n",
    "    tomato = Ingredient('Tomato', 2, 'pieces')\n",
    "    lettuce = Ingredient(\"Lettuce\", 1, \"head\")\n",
    "    chicken = Ingredient(\"Chicken\", 200, 'grams')\n",
    "    pasta = Ingredient(\"Pasta\", 150, 'grams')\n",
    "\n",
    "    # Define dishes\n",
    "    salad = Dish(\"Chicken Salad\", \"A refreshing salad with chicken\", [lettuce, chicken, tomato])\n",
    "    pasta_dish = Dish(\"Chicken Pasta\", \"Pasta with grilled chicken\", [tomato, pasta, chicken])\n",
    "\n",
    "    # Define a menu\n",
    "    menu = Menu(\"Special Menu\", \"A selection of delicious dishes:\", [salad, pasta_dish])\n",
    "\n",
    "    # Display menu information\n",
    "    menu.display_menu_info()"
   ]
  },
  {
   "cell_type": "markdown",
   "metadata": {},
   "source": [
    "**Q15.** Explain how composition enhances code maintainability and modularity in Python programs.\n",
    "\n",
    "**Answer:** \n",
    "\n",
    "**Enhancing Code Maintainability and Modularity through Composition in Python Programs:**\n",
    "\n",
    "Compostion in Python plays a crucial role in improving code maintainability and modularity by adopting the design strategy that emphasizes the following key principles:\n",
    "\n",
    "1. *Separation of Concerns:*\n",
    "   * Composition encouraes breakdown complex systems into smaller, focused components, forstering a clear separation of concerns. Each class or module can address a specific aspects of functionality.\n",
    "\n",
    "2. *Modularity:*\n",
    "   * The use of composition facilitates the development of modular code, where individual classes or modules encapsulate specific functionalities. This modular approach enhances code organization and ease of maintenance.\n",
    "\n",
    "3. *Code Reusability:*\n",
    "   * Composition promotes code reuse by allowing developers to compose new classes from existing ones, This reduces redudancy and enhances development efficiency.\n",
    "\n",
    "4. *Easy Maintenance:*\n",
    "   * With composition, maintenance tasks can be targeted to specific modules or classes, simplifying the overall process and minimizing the risk of unintended side effects.\n",
    "\n",
    "5. *Flexibility and Extensibility:*\n",
    "   * Composition provides flexibility for extending functionality without modifying existing code. New features can be added through the creation of new classes, adhering to the open-closed principle.\n",
    "\n",
    "6. *Readability and Understandability:*\n",
    "   * A well-composed codebase is inherently more readable and understandable. Composition allows for clear encapsulation of logic within classes, making it easier for developers to comprehend the structure and flow of the program.\n",
    "\n",
    "7. *Encapsulation:*\n",
    "   * Composition supports encapsulation, ensuring that the internal details of each class are hidden from external elements. This aid in creating well-defined interfaces and unintended dependencies.\n",
    "\n",
    "8. *Testing and Debugging:*\n",
    "   * Modular structures facilitated by composition simplify testing, allowing for focused unit testing of individual componenets. Debugging efforts can also be isolated to specifc modules, aiding in issue identification and resolution.\n",
    "\n",
    "9. *Scalability:*\n",
    "   * Composition facilitates scalable development, enabling the addition of new features through the introduction of newclasses without disrupting existing functionality.\n",
    "\n",
    "10. *Clear Hierarchies:*\n",
    "    * Composition encourages the creation of clear hierarchies in the code, with each level representing a different level of abstraction. This promotes a natural organization of the codebase."
   ]
  },
  {
   "cell_type": "markdown",
   "metadata": {},
   "source": [
    "**Q16.** Create a Python class for a computer game character, using composition to represent attributes like weapons, armor, and inventory.\n",
    "\n",
    "**Answer:**"
   ]
  },
  {
   "cell_type": "code",
   "execution_count": 4,
   "metadata": {},
   "outputs": [
    {
     "name": "stdout",
     "output_type": "stream",
     "text": [
      "Player attacks Enemy with Sword and deals 10 damage.\n",
      "Enemy takes 7 damage. Remaining health: 73\n",
      "Enemy attacks Player with Enemy Sword and deals 8 damage.\n",
      "Player takes 3 damage. Remaining health: 97\n",
      "Inventory:\n",
      "- Health Potion\n",
      "- Mana Potion\n"
     ]
    }
   ],
   "source": [
    "class Weapon:\n",
    "    def __init__(self, name, damage):\n",
    "        self.name = name\n",
    "        self.damage = damage\n",
    "\n",
    "class Armor:\n",
    "    def __init__(self, name, defense):\n",
    "        self.name = name\n",
    "        self.defense = defense\n",
    "\n",
    "class Inventory:\n",
    "    def __init__(self):\n",
    "        self.items = []\n",
    "\n",
    "    def add_item(self, item):\n",
    "        self.items.append(item)\n",
    "\n",
    "    def display_inventory(self):\n",
    "        print(\"Inventory:\")\n",
    "        for item in self.items:\n",
    "            print(f\"- {item}\")\n",
    "\n",
    "class GameCharacter:\n",
    "    def __init__(self, name, health, weapon, armor):\n",
    "        self.name = name\n",
    "        self.health = health\n",
    "        self.weapon = weapon\n",
    "        self.armor = armor\n",
    "        self.inventory = Inventory()\n",
    "\n",
    "    def attack(self, target):\n",
    "        damage_dealt = self.weapon.damage\n",
    "        print(f\"{self.name} attacks {target.name} with {self.weapon.name} and deals {damage_dealt} damage.\")\n",
    "        target.take_damage(damage_dealt)\n",
    "\n",
    "    def take_damage(self, damage):\n",
    "        actual_damage = max(0, damage - self.armor.defense)\n",
    "        self.health -= actual_damage\n",
    "        print(f\"{self.name} takes {actual_damage} damage. Remaining health: {self.health}\")\n",
    "\n",
    "# Example usage:\n",
    "sword = Weapon(\"Sword\", 10)\n",
    "shield = Armor(\"Shield\", 5)\n",
    "player = GameCharacter(\"Player\", 100, sword, shield)\n",
    "\n",
    "enemy_sword = Weapon(\"Enemy Sword\", 8)\n",
    "enemy_armor = Armor(\"Enemy Armor\", 3)\n",
    "enemy = GameCharacter(\"Enemy\", 80, enemy_sword, enemy_armor)\n",
    "\n",
    "player.attack(enemy)\n",
    "enemy.attack(player)\n",
    "\n",
    "player.inventory.add_item(\"Health Potion\")\n",
    "player.inventory.add_item(\"Mana Potion\")\n",
    "player.inventory.display_inventory()\n"
   ]
  },
  {
   "cell_type": "markdown",
   "metadata": {},
   "source": [
    "**Q17.** Describe the concept of \"aggregation\" in composition and how it differs from simple composition.\n",
    "\n",
    "**Answer:**\n",
    "\n",
    "**Concept of Aggregation in Composition:**\n",
    "\n",
    "Aggreation is a concept with composition that describes a relationship between objects wher one class contain another, but the objects involved maintain a more independent existance. Unlike simple composition, aggregation implies a \"has-a\" relationship, signifying that an object of one class is associated with objects of another class. The key distinctions lie in the flexibility of the relationship and the independence of the lifespan of the involved objects.\n",
    "\n",
    "**Key Features of Aggregation:**\n",
    "\n",
    "1. *Independence of Lifespan:*\n",
    "   * In aggregation, the contained class (the \"part\") can exist independently of the containing class( the \"whole\"). The lifespan of the contained object is not tightly bound to the lifespan of the containing object.\n",
    "   * If the containing object is destroyed, the contained object can persist, leading to a more flexible and loosely coupled relationship.\n",
    "\n",
    "2. *Flexibility and Reusablity:*\n",
    "   * Aggregation provide greater flexibility and reusability, as the contained object can be associated with multiple instances of the containing class or reused in different contexts.\n",
    "   * This flexibility enhances the adaptability of the codebase, allowing for the composition of diverse relationships without tightly coupling the involved objects.\n",
    "\n",
    "3. *Multiplicity Representation:*\n",
    "   * In Unified Modeling Language(UML) diagrams, aggregation is often denoted by a diamond-shaped line connecting the classes. The multiplicity notation, such as \"0..\" or \"1..\", signifies there can be zero or more instances of the contained class associated with one instance of the containing class.\n",
    "\n",
    "**Example:**\n",
    "\n",
    "Consider the relationship between a 'Department' and its 'Employee' objects:"
   ]
  },
  {
   "cell_type": "code",
   "execution_count": 9,
   "metadata": {},
   "outputs": [],
   "source": [
    "class Department:\n",
    "    def __init__(self, name):\n",
    "        self.name = name\n",
    "        self.employees = []     # Aggregation: Employees can exist independently of the department\n",
    "    \n",
    "    def add_employee(self, employee):\n",
    "        self.employees.append(employee)\n",
    "\n",
    "class Employee:\n",
    "    def __init__(self, name, employee_id):\n",
    "        self.name = name\n",
    "        self.employee_id = employee_id\n",
    "\n",
    "# Example Usage:\n",
    "if __name__ == \"__main__\":\n",
    "    hr_department = Department(\"Human Resources\")\n",
    "\n",
    "    employee1 = Employee(\"Sahil Kumar Mandal\", \"HR123\")\n",
    "    employee2 = Employee(\"Manish Sisodiya\", \"HR003\")\n",
    "\n",
    "    hr_department.add_employee(employee1)\n",
    "    hr_department.add_employee(employee2)\n",
    "\n",
    "    # The Department aggregates Employees, but Employees can exist independently of a Department"
   ]
  },
  {
   "cell_type": "markdown",
   "metadata": {},
   "source": [
    "In this example, the 'Department' class aggregates 'Employee' objects. If the 'Department' is dissolved, the 'Employee' objects can persist independently, exemplifying the concept of aggregation. "
   ]
  },
  {
   "cell_type": "markdown",
   "metadata": {},
   "source": [
    "**Q18.** Create a Python class for a house, using composition to represent rooms, furniture, and appliances.\n",
    "\n",
    "**Answer:**  "
   ]
  },
  {
   "cell_type": "code",
   "execution_count": 5,
   "metadata": {},
   "outputs": [
    {
     "name": "stdout",
     "output_type": "stream",
     "text": [
      "\n",
      "House at 123 Main Street:\n",
      "\n",
      "Living Room:\n",
      "Furniture:\n",
      "This is a Sofa.\n",
      "Appliances:\n",
      "This is a Television appliance.\n",
      "\n",
      "Kitchen Room:\n",
      "Furniture:\n",
      "This is a Dining Table.\n",
      "Appliances:\n",
      "This is a Oven appliance.\n"
     ]
    }
   ],
   "source": [
    "class Furniture:\n",
    "    def __init__(self, name):\n",
    "        self.name = name\n",
    "\n",
    "    def describe(self):\n",
    "        print(f\"This is a {self.name}.\")\n",
    "\n",
    "class Appliance:\n",
    "    def __init__(self, name):\n",
    "        self.name = name\n",
    "\n",
    "    def describe(self):\n",
    "        print(f\"This is a {self.name} appliance.\")\n",
    "\n",
    "class Room:\n",
    "    def __init__(self, name):\n",
    "        self.name = name\n",
    "        self.furniture = []\n",
    "        self.appliances = []\n",
    "\n",
    "    def add_furniture(self, furniture):\n",
    "        self.furniture.append(furniture)\n",
    "\n",
    "    def add_appliance(self, appliance):\n",
    "        self.appliances.append(appliance)\n",
    "\n",
    "    def describe(self):\n",
    "        print(f\"\\n{self.name.capitalize()} Room:\")\n",
    "        print(\"Furniture:\")\n",
    "        for item in self.furniture:\n",
    "            item.describe()\n",
    "        print(\"Appliances:\")\n",
    "        for item in self.appliances:\n",
    "            item.describe()\n",
    "\n",
    "class House:\n",
    "    def __init__(self, address):\n",
    "        self.address = address\n",
    "        self.rooms = []\n",
    "\n",
    "    def add_room(self, room):\n",
    "        self.rooms.append(room)\n",
    "\n",
    "    def describe(self):\n",
    "        print(f\"\\nHouse at {self.address}:\")\n",
    "        for room in self.rooms:\n",
    "            room.describe()\n",
    "\n",
    "# Example usage:\n",
    "living_room = Room(\"living\")\n",
    "sofa = Furniture(\"Sofa\")\n",
    "tv = Appliance(\"Television\")\n",
    "living_room.add_furniture(sofa)\n",
    "living_room.add_appliance(tv)\n",
    "\n",
    "kitchen = Room(\"kitchen\")\n",
    "table = Furniture(\"Dining Table\")\n",
    "oven = Appliance(\"Oven\")\n",
    "kitchen.add_furniture(table)\n",
    "kitchen.add_appliance(oven)\n",
    "\n",
    "my_house = House(\"123 Main Street\")\n",
    "my_house.add_room(living_room)\n",
    "my_house.add_room(kitchen)\n",
    "\n",
    "my_house.describe()\n"
   ]
  },
  {
   "cell_type": "markdown",
   "metadata": {},
   "source": [
    "In this example, the 'House' class has a composition of 'Room' instances, and each 'Room' has compositions of 'Furniture' and 'Appliance' instances. The 'House' class can have multiple rooms, each with its own furniture and appliances. The 'describe' methods are used to print information about the house, rooms, furniture, and appliances."
   ]
  },
  {
   "cell_type": "markdown",
   "metadata": {},
   "source": [
    "**Q19.** How can you achieve flexibility in composed objects by allowing them to be replaced or modified dynamically at runtime?\n",
    "\n",
    "**Answer:** To achieve flexibility in composed objects at runtime:\n",
    "\n",
    "1. **Dependency Injection:**\n",
    "\n",
    "   * Inject dependencies into a class, allowing for dynamic replacement or modification.\n",
    "\n",
    "   * Example:"
   ]
  },
  {
   "cell_type": "code",
   "execution_count": 6,
   "metadata": {},
   "outputs": [],
   "source": [
    "class Car:\n",
    "    def __init__(self, engine):\n",
    "        self.engine = engine\n",
    "\n",
    "class Engine:\n",
    "    def start(self):\n",
    "        print(\"Engine started\")\n",
    "\n",
    "# Dependency injection at runtime\n",
    "new_engine = Engine()\n",
    "car = Car(new_engine)"
   ]
  },
  {
   "cell_type": "markdown",
   "metadata": {},
   "source": [
    "2. **Interfaces or Abstract Classes:**\n",
    "\n",
    "   * Define interfaces or abstract classes to describe component behavior.\n",
    "\n",
    "   * Swap or modify instances adhering to the same interface at runtime.\n",
    "\n",
    "   * Example:"
   ]
  },
  {
   "cell_type": "code",
   "execution_count": 7,
   "metadata": {},
   "outputs": [
    {
     "name": "stdout",
     "output_type": "stream",
     "text": [
      "Slashing attack\n",
      "Shooting arrows\n"
     ]
    }
   ],
   "source": [
    "from abc import ABC, abstractmethod\n",
    "\n",
    "class Weapon(ABC):\n",
    "    @abstractmethod\n",
    "    def attack(self):\n",
    "        pass\n",
    "\n",
    "class Sword(Weapon):\n",
    "    def attack(self):\n",
    "        print(\"Slashing attack\")\n",
    "\n",
    "class Bow(Weapon):\n",
    "    def attack(self):\n",
    "        print(\"Shooting arrows\")\n",
    "\n",
    "# Runtime composition\n",
    "player_weapon = Sword()\n",
    "player_weapon.attack()\n",
    "\n",
    "# Change weapon dynamically\n",
    "player_weapon = Bow()\n",
    "player_weapon.attack()\n"
   ]
  },
  {
   "cell_type": "markdown",
   "metadata": {},
   "source": [
    "3. **Decorator Pattern:**\n",
    "\n",
    "   * Use decorators to dynamically enhance object functionality.\n",
    "\n",
    "   * Decorators can be added or removed at runtime.\n",
    "\n",
    "   * Example:"
   ]
  },
  {
   "cell_type": "code",
   "execution_count": 8,
   "metadata": {},
   "outputs": [
    {
     "name": "stdout",
     "output_type": "stream",
     "text": [
      "Cost of simple coffee: $5\n",
      "Cost of coffee with milk: $7\n"
     ]
    }
   ],
   "source": [
    "class Coffee:\n",
    "    def cost(self):\n",
    "        return 5\n",
    "\n",
    "class MilkDecorator:\n",
    "    def __init__(self, coffee):\n",
    "        self._coffee = coffee\n",
    "\n",
    "    def cost(self):\n",
    "        return self._coffee.cost() + 2\n",
    "\n",
    "# Runtime composition\n",
    "simple_coffee = Coffee()\n",
    "print(f\"Cost of simple coffee: ${simple_coffee.cost()}\")\n",
    "\n",
    "milk_coffee = MilkDecorator(simple_coffee)\n",
    "print(f\"Cost of coffee with milk: ${milk_coffee.cost()}\")\n"
   ]
  },
  {
   "cell_type": "markdown",
   "metadata": {},
   "source": [
    "By applying these techniques, we can make our composed objects more adaptable and allow for dynamic changes during runtime in a modular way."
   ]
  },
  {
   "cell_type": "markdown",
   "metadata": {},
   "source": [
    "**Q20.** Create a Python class for a social media application, using composition to represent users, posts, and comments.\n",
    "\n",
    "**Answer:**"
   ]
  },
  {
   "cell_type": "code",
   "execution_count": 9,
   "metadata": {},
   "outputs": [
    {
     "name": "stdout",
     "output_type": "stream",
     "text": [
      "Alice posted:\n",
      "Hello, everyone!\n",
      "Comments:\n",
      "Charlie: Nice post, Alice!\n",
      "David: I agree!\n",
      "Bob posted:\n",
      "Python is amazing!\n",
      "Comments:\n",
      "Alice: I love Python too!\n"
     ]
    }
   ],
   "source": [
    "class Comment:\n",
    "    def __init__(self, user, text):\n",
    "        self.user = user\n",
    "        self.text = text\n",
    "\n",
    "    def display(self):\n",
    "        print(f\"{self.user}: {self.text}\")\n",
    "\n",
    "class Post:\n",
    "    def __init__(self, user, content):\n",
    "        self.user = user\n",
    "        self.content = content\n",
    "        self.comments = []\n",
    "\n",
    "    def add_comment(self, user, text):\n",
    "        comment = Comment(user, text)\n",
    "        self.comments.append(comment)\n",
    "\n",
    "    def display(self):\n",
    "        print(f\"{self.user} posted:\")\n",
    "        print(self.content)\n",
    "        print(\"Comments:\")\n",
    "        for comment in self.comments:\n",
    "            comment.display()\n",
    "\n",
    "class User:\n",
    "    def __init__(self, username):\n",
    "        self.username = username\n",
    "        self.posts = []\n",
    "\n",
    "    def create_post(self, content):\n",
    "        post = Post(self.username, content)\n",
    "        self.posts.append(post)\n",
    "        return post\n",
    "\n",
    "# Social Media Application\n",
    "class SocialMediaApp:\n",
    "    def __init__(self):\n",
    "        self.users = []\n",
    "\n",
    "    def create_user(self, username):\n",
    "        user = User(username)\n",
    "        self.users.append(user)\n",
    "        return user\n",
    "\n",
    "# Example Usage\n",
    "social_app = SocialMediaApp()\n",
    "\n",
    "user1 = social_app.create_user(\"Alice\")\n",
    "user2 = social_app.create_user(\"Bob\")\n",
    "\n",
    "post1 = user1.create_post(\"Hello, everyone!\")\n",
    "post1.add_comment(\"Charlie\", \"Nice post, Alice!\")\n",
    "post1.add_comment(\"David\", \"I agree!\")\n",
    "\n",
    "post2 = user2.create_post(\"Python is amazing!\")\n",
    "post2.add_comment(\"Alice\", \"I love Python too!\")\n",
    "\n",
    "# Display posts and comments\n",
    "for user in social_app.users:\n",
    "    for post in user.posts:\n",
    "        post.display()\n"
   ]
  },
  {
   "cell_type": "code",
   "execution_count": 11,
   "metadata": {},
   "outputs": [
    {
     "name": "stdout",
     "output_type": "stream",
     "text": [
      "[(0, 2), (1, 3), (2, 4), (3, 5)]\n"
     ]
    }
   ],
   "source": [
    "print(list(enumerate([2, 3, 4, 5])))"
   ]
  },
  {
   "cell_type": "code",
   "execution_count": null,
   "metadata": {},
   "outputs": [],
   "source": []
  }
 ],
 "metadata": {
  "kernelspec": {
   "display_name": "Python 3",
   "language": "python",
   "name": "python3"
  },
  "language_info": {
   "codemirror_mode": {
    "name": "ipython",
    "version": 3
   },
   "file_extension": ".py",
   "mimetype": "text/x-python",
   "name": "python",
   "nbconvert_exporter": "python",
   "pygments_lexer": "ipython3",
   "version": "3.11.5"
  }
 },
 "nbformat": 4,
 "nbformat_minor": 2
}
